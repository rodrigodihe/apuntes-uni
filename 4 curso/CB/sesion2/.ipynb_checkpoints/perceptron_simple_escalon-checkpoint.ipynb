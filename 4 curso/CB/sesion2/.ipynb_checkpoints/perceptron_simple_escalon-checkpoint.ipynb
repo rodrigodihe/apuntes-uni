{
 "cells": [
  {
   "cell_type": "code",
   "execution_count": 7,
   "metadata": {},
   "outputs": [],
   "source": [
    "import numpy as np\n",
    "\n",
    "class Perceptron(object):\n",
    "\n",
    "    def __init__(self, no_of_inputs, epoch=6, learning_rate=0.01):\n",
    "        self.epoch = epoch\n",
    "        self.learning_rate = learning_rate\n",
    "        self.weights = np.zeros(no_of_inputs + 1)\n",
    "           \n",
    "    def predict(self, inputs):\n",
    "        summation = np.dot(inputs, self.weights[1:]) + self.weights[0]\n",
    "        #summation = inputs @ self.weights[1:] + self.weights[0]\n",
    "        if summation > 0:\n",
    "          activation = 1\n",
    "        else:\n",
    "          activation = 0            \n",
    "        return activation\n",
    "\n",
    "    def train(self, training_inputs, labels):\n",
    "        for _ in range(self.epoch):\n",
    "            for inputs, label in zip(training_inputs, labels):\n",
    "                prediction = self.predict(inputs)\n",
    "                delta=self.learning_rate * (label - prediction)\n",
    "                self.weights[1:] += delta*inputs\n",
    "                self.weights[0] += delta * 1"
   ]
  },
  {
   "cell_type": "code",
   "execution_count": 8,
   "metadata": {},
   "outputs": [
    {
     "name": "stdout",
     "output_type": "stream",
     "text": [
      "[1 1] 1\n",
      "[1 0] 0\n",
      "[0 1] 0\n",
      "[0 0] 0\n",
      "===============\n",
      "[1 1] 1\n",
      "[1 0] 1\n",
      "[0 1] 1\n",
      "[0 0] 0\n"
     ]
    }
   ],
   "source": [
    "import numpy as np\n",
    "import pandas as pd\n",
    "\n",
    "\n",
    "setas = pd.read_csv('datasets/iris.csv', encoding='utf-8')\n",
    "setas.head()\n",
    "X = []\n",
    "X.append(np.array([1, 1]))\n",
    "X.append(np.array([1, 0]))\n",
    "X.append(np.array([0, 1]))\n",
    "X.append(np.array([0, 0]))\n",
    "\n",
    "Y_and = np.array([1, 0, 0, 0])\n",
    "Y_or = np.array([1, 1, 1, 0])\n",
    "\n",
    "P_and = Perceptron(2)\n",
    "P_and.train(X, Y_and)\n",
    "\n",
    "P_or = Perceptron(2)\n",
    "P_or.train(X, Y_or)\n",
    "\n",
    "for i in X:\n",
    "    print(i,P_and.predict(i))\n",
    "print(\"===============\")\n",
    "for i in X:\n",
    "    print(i,P_or.predict(i))\n",
    "    \n",
    "\n"
   ]
  },
  {
   "cell_type": "code",
   "execution_count": null,
   "metadata": {},
   "outputs": [],
   "source": []
  }
 ],
 "metadata": {
  "kernelspec": {
   "display_name": "Python 3",
   "language": "python",
   "name": "python3"
  },
  "language_info": {
   "codemirror_mode": {
    "name": "ipython",
    "version": 3
   },
   "file_extension": ".py",
   "mimetype": "text/x-python",
   "name": "python",
   "nbconvert_exporter": "python",
   "pygments_lexer": "ipython3",
   "version": "3.8.3"
  }
 },
 "nbformat": 4,
 "nbformat_minor": 2
}
