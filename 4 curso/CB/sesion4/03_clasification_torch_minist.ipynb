{
 "cells": [
  {
   "cell_type": "markdown",
   "metadata": {},
   "source": [
    "# pytorch minist\n"
   ]
  },
  {
   "cell_type": "code",
   "execution_count": 19,
   "metadata": {},
   "outputs": [
    {
     "name": "stdout",
     "output_type": "stream",
     "text": [
      "Using PyTorch version: 1.12.1+cu102  Device: cpu\n"
     ]
    }
   ],
   "source": [
    "import torch\n",
    "import torch.nn as nn\n",
    "import torch.nn.functional as F\n",
    "from torchvision import datasets, transforms\n",
    "\n",
    "import numpy as np\n",
    "import matplotlib.pyplot as plt\n",
    "\n",
    "if torch.cuda.is_available():\n",
    "    device = torch.device('cuda')\n",
    "else:\n",
    "    device = torch.device('cpu')\n",
    "    \n",
    "print('Using PyTorch version:', torch.__version__, ' Device:', device)"
   ]
  },
  {
   "cell_type": "markdown",
   "metadata": {},
   "source": [
    "cargamos los datos usando torchvision dataset"
   ]
  },
  {
   "cell_type": "code",
   "execution_count": 20,
   "metadata": {},
   "outputs": [],
   "source": [
    "batch_size = 32\n",
    "\n",
    "train_dataset = datasets.MNIST('./data', \n",
    "                               train=True, \n",
    "                               download=True, \n",
    "                               transform=transforms.ToTensor())\n",
    "\n",
    "validation_dataset = datasets.MNIST('./data', \n",
    "                                    train=False, \n",
    "                                    transform=transforms.ToTensor())\n",
    "\n",
    "train_loader = torch.utils.data.DataLoader(dataset=train_dataset, \n",
    "                                           batch_size=batch_size, \n",
    "                                           shuffle=True)\n",
    "\n",
    "validation_loader = torch.utils.data.DataLoader(dataset=validation_dataset, \n",
    "                                                batch_size=batch_size, \n",
    "                                                shuffle=False)"
   ]
  },
  {
   "cell_type": "code",
   "execution_count": 21,
   "metadata": {},
   "outputs": [
    {
     "name": "stdout",
     "output_type": "stream",
     "text": [
      "X_train: torch.Size([32, 1, 28, 28]) type: torch.FloatTensor\n",
      "y_train: torch.Size([32]) type: torch.LongTensor\n"
     ]
    }
   ],
   "source": [
    "for (X_train, y_train) in train_loader:\n",
    "    print('X_train:', X_train.size(), 'type:', X_train.type())\n",
    "    print('y_train:', y_train.size(), 'type:', y_train.type())\n",
    "    break"
   ]
  },
  {
   "cell_type": "code",
   "execution_count": 22,
   "metadata": {},
   "outputs": [
    {
     "data": {
      "image/png": "[encoded data removed]",
      "text/plain": [
       "<Figure size 720x72 with 10 Axes>"
      ]
     },
     "metadata": {
      "needs_background": "light"
     },
     "output_type": "display_data"
    }
   ],
   "source": [
    "pltsize=1\n",
    "plt.figure(figsize=(10*pltsize, pltsize))\n",
    "\n",
    "for i in range(10):\n",
    "    plt.subplot(1,10,i+1)\n",
    "    plt.axis('off')\n",
    "    plt.imshow(X_train[i,:,:,:].numpy().reshape(28,28), cmap=\"gray_r\")\n",
    "    plt.title('Class: '+str(y_train[i].item()))"
   ]
  },
  {
   "cell_type": "markdown",
   "metadata": {},
   "source": [
    "# Definición de la red MLP para minist en torch...."
   ]
  },
  {
   "cell_type": "code",
   "execution_count": 24,
   "metadata": {},
   "outputs": [
    {
     "name": "stdout",
     "output_type": "stream",
     "text": [
      "Net(\n",
      "  (fc1): Linear(in_features=784, out_features=50, bias=True)\n",
      "  (fc1_drop): Dropout(p=0.2, inplace=False)\n",
      "  (fc2): Linear(in_features=50, out_features=50, bias=True)\n",
      "  (fc2_drop): Dropout(p=0.2, inplace=False)\n",
      "  (fc3): Linear(in_features=50, out_features=10, bias=True)\n",
      ")\n"
     ]
    }
   ],
   "source": [
    "class Net(nn.Module):\n",
    "    def __init__(self):\n",
    "        super(Net, self).__init__()\n",
    "        self.fc1 = nn.Linear(28*28, 50)\n",
    "        self.fc1_drop = nn.Dropout(0.2)\n",
    "        self.fc2 = nn.Linear(50, 50)\n",
    "        self.fc2_drop = nn.Dropout(0.2)\n",
    "        self.fc3 = nn.Linear(50, 10)\n",
    "\n",
    "    def forward(self, x):\n",
    "        x = x.view(-1, 28*28)\n",
    "        x = F.relu(self.fc1(x))\n",
    "        x = self.fc1_drop(x)\n",
    "        x = F.relu(self.fc2(x))\n",
    "        x = self.fc2_drop(x)\n",
    "        return F.log_softmax(self.fc3(x), dim=1)\n",
    "\n",
    "model = Net().to(device)\n",
    "optimizer = torch.optim.SGD(model.parameters(), lr=0.01, momentum=0.5)\n",
    "criterion = nn.CrossEntropyLoss()\n",
    "\n",
    "print(model)"
   ]
  },
  {
   "cell_type": "markdown",
   "metadata": {},
   "source": [
    "# Función de entrenamiento"
   ]
  },
  {
   "cell_type": "code",
   "execution_count": 28,
   "metadata": {},
   "outputs": [],
   "source": [
    "def train(epoch, log_interval=200):\n",
    "    # Set model to training mode\n",
    "    model.train()\n",
    "    \n",
    "    # Loop over each batch from the training set\n",
    "    for batch_idx, (data, target) in enumerate(train_loader):\n",
    "        # Copy data to GPU if needed\n",
    "        data = data.to(device)\n",
    "        target = target.to(device)\n",
    "\n",
    "        # Zero gradient buffers\n",
    "        optimizer.zero_grad() \n",
    "        \n",
    "        # Pass data through the network\n",
    "        output = model(data)\n",
    "\n",
    "        # Calculate loss\n",
    "        loss = criterion(output, target)\n",
    "\n",
    "        # Backpropagate\n",
    "        loss.backward()\n",
    "        \n",
    "        # Update weights\n",
    "        optimizer.step()\n",
    "        \n",
    "        if batch_idx % log_interval == 0:\n",
    "            print('Train Epoch: {} [{}/{} ({:.0f}%)]\\tLoss: {:.6f}'.format(\n",
    "                epoch, batch_idx * len(data), len(train_loader.dataset),\n",
    "                100. * batch_idx / len(train_loader), loss.data.item()))"
   ]
  },
  {
   "cell_type": "markdown",
   "metadata": {},
   "source": [
    "# Función de validación"
   ]
  },
  {
   "cell_type": "code",
   "execution_count": 29,
   "metadata": {},
   "outputs": [],
   "source": [
    "def validate(loss_vector, accuracy_vector):\n",
    "    model.eval()\n",
    "    val_loss, correct = 0, 0\n",
    "    for data, target in validation_loader:\n",
    "        data = data.to(device)\n",
    "        target = target.to(device)\n",
    "        output = model(data)\n",
    "        val_loss += criterion(output, target).data.item()\n",
    "        pred = output.data.max(1)[1] # get the index of the max log-probability\n",
    "        correct += pred.eq(target.data).cpu().sum()\n",
    "\n",
    "    val_loss /= len(validation_loader)\n",
    "    loss_vector.append(val_loss)\n",
    "\n",
    "    accuracy = 100. * correct.to(torch.float32) / len(validation_loader.dataset)\n",
    "    accuracy_vector.append(accuracy)\n",
    "    \n",
    "    print('\\nValidation set: Average loss: {:.4f}, Accuracy: {}/{} ({:.0f}%)\\n'.format(\n",
    "        val_loss, correct, len(validation_loader.dataset), accuracy))"
   ]
  },
  {
   "cell_type": "markdown",
   "metadata": {},
   "source": [
    "# Iniciamos proceso"
   ]
  },
  {
   "cell_type": "code",
   "execution_count": 30,
   "metadata": {},
   "outputs": [
    {
     "name": "stdout",
     "output_type": "stream",
     "text": [
      "Train Epoch: 1 [0/60000 (0%)]\tLoss: 2.305288\n",
      "Train Epoch: 1 [6400/60000 (11%)]\tLoss: 2.163261\n",
      "Train Epoch: 1 [12800/60000 (21%)]\tLoss: 1.372766\n",
      "Train Epoch: 1 [19200/60000 (32%)]\tLoss: 0.725996\n",
      "Train Epoch: 1 [25600/60000 (43%)]\tLoss: 0.766012\n",
      "Train Epoch: 1 [32000/60000 (53%)]\tLoss: 0.468812\n",
      "Train Epoch: 1 [38400/60000 (64%)]\tLoss: 0.829107\n",
      "Train Epoch: 1 [44800/60000 (75%)]\tLoss: 0.824926\n",
      "Train Epoch: 1 [51200/60000 (85%)]\tLoss: 0.331407\n",
      "Train Epoch: 1 [57600/60000 (96%)]\tLoss: 0.346554\n",
      "\n",
      "Validation set: Average loss: 0.3479, Accuracy: 9002/10000 (90%)\n",
      "\n",
      "Train Epoch: 2 [0/60000 (0%)]\tLoss: 0.283678\n",
      "Train Epoch: 2 [6400/60000 (11%)]\tLoss: 0.447461\n",
      "Train Epoch: 2 [12800/60000 (21%)]\tLoss: 0.318816\n",
      "Train Epoch: 2 [19200/60000 (32%)]\tLoss: 0.357589\n",
      "Train Epoch: 2 [25600/60000 (43%)]\tLoss: 0.279002\n",
      "Train Epoch: 2 [32000/60000 (53%)]\tLoss: 0.285924\n",
      "Train Epoch: 2 [38400/60000 (64%)]\tLoss: 0.305837\n",
      "Train Epoch: 2 [44800/60000 (75%)]\tLoss: 0.232005\n",
      "Train Epoch: 2 [51200/60000 (85%)]\tLoss: 0.324668\n",
      "Train Epoch: 2 [57600/60000 (96%)]\tLoss: 0.206519\n",
      "\n",
      "Validation set: Average loss: 0.2560, Accuracy: 9245/10000 (92%)\n",
      "\n",
      "Train Epoch: 3 [0/60000 (0%)]\tLoss: 0.282776\n",
      "Train Epoch: 3 [6400/60000 (11%)]\tLoss: 0.167689\n",
      "Train Epoch: 3 [12800/60000 (21%)]\tLoss: 0.331377\n",
      "Train Epoch: 3 [19200/60000 (32%)]\tLoss: 0.477414\n",
      "Train Epoch: 3 [25600/60000 (43%)]\tLoss: 0.270600\n",
      "Train Epoch: 3 [32000/60000 (53%)]\tLoss: 0.145098\n",
      "Train Epoch: 3 [38400/60000 (64%)]\tLoss: 0.382468\n",
      "Train Epoch: 3 [44800/60000 (75%)]\tLoss: 0.323456\n",
      "Train Epoch: 3 [51200/60000 (85%)]\tLoss: 0.207733\n",
      "Train Epoch: 3 [57600/60000 (96%)]\tLoss: 0.608694\n",
      "\n",
      "Validation set: Average loss: 0.2033, Accuracy: 9394/10000 (94%)\n",
      "\n",
      "Train Epoch: 4 [0/60000 (0%)]\tLoss: 0.330967\n",
      "Train Epoch: 4 [6400/60000 (11%)]\tLoss: 0.089621\n",
      "Train Epoch: 4 [12800/60000 (21%)]\tLoss: 0.148120\n",
      "Train Epoch: 4 [19200/60000 (32%)]\tLoss: 0.283264\n",
      "Train Epoch: 4 [25600/60000 (43%)]\tLoss: 0.269734\n",
      "Train Epoch: 4 [32000/60000 (53%)]\tLoss: 0.419515\n",
      "Train Epoch: 4 [38400/60000 (64%)]\tLoss: 0.152856\n",
      "Train Epoch: 4 [44800/60000 (75%)]\tLoss: 0.243128\n",
      "Train Epoch: 4 [51200/60000 (85%)]\tLoss: 0.253746\n",
      "Train Epoch: 4 [57600/60000 (96%)]\tLoss: 0.320438\n",
      "\n",
      "Validation set: Average loss: 0.1792, Accuracy: 9464/10000 (95%)\n",
      "\n",
      "Train Epoch: 5 [0/60000 (0%)]\tLoss: 0.336150\n",
      "Train Epoch: 5 [6400/60000 (11%)]\tLoss: 0.129811\n",
      "Train Epoch: 5 [12800/60000 (21%)]\tLoss: 0.326350\n",
      "Train Epoch: 5 [19200/60000 (32%)]\tLoss: 0.299348\n",
      "Train Epoch: 5 [25600/60000 (43%)]\tLoss: 0.170309\n",
      "Train Epoch: 5 [32000/60000 (53%)]\tLoss: 0.113991\n",
      "Train Epoch: 5 [38400/60000 (64%)]\tLoss: 0.177569\n",
      "Train Epoch: 5 [44800/60000 (75%)]\tLoss: 0.229196\n",
      "Train Epoch: 5 [51200/60000 (85%)]\tLoss: 0.245500\n",
      "Train Epoch: 5 [57600/60000 (96%)]\tLoss: 0.352225\n",
      "\n",
      "Validation set: Average loss: 0.1573, Accuracy: 9525/10000 (95%)\n",
      "\n",
      "Train Epoch: 6 [0/60000 (0%)]\tLoss: 0.152170\n",
      "Train Epoch: 6 [6400/60000 (11%)]\tLoss: 0.189420\n",
      "Train Epoch: 6 [12800/60000 (21%)]\tLoss: 0.346761\n",
      "Train Epoch: 6 [19200/60000 (32%)]\tLoss: 0.236336\n",
      "Train Epoch: 6 [25600/60000 (43%)]\tLoss: 0.125173\n",
      "Train Epoch: 6 [32000/60000 (53%)]\tLoss: 0.252893\n",
      "Train Epoch: 6 [38400/60000 (64%)]\tLoss: 0.099408\n",
      "Train Epoch: 6 [44800/60000 (75%)]\tLoss: 0.171675\n",
      "Train Epoch: 6 [51200/60000 (85%)]\tLoss: 0.158187\n",
      "Train Epoch: 6 [57600/60000 (96%)]\tLoss: 0.188640\n",
      "\n",
      "Validation set: Average loss: 0.1495, Accuracy: 9554/10000 (96%)\n",
      "\n",
      "Train Epoch: 7 [0/60000 (0%)]\tLoss: 0.128035\n",
      "Train Epoch: 7 [6400/60000 (11%)]\tLoss: 0.425232\n",
      "Train Epoch: 7 [12800/60000 (21%)]\tLoss: 0.278470\n",
      "Train Epoch: 7 [19200/60000 (32%)]\tLoss: 0.055450\n",
      "Train Epoch: 7 [25600/60000 (43%)]\tLoss: 0.141452\n",
      "Train Epoch: 7 [32000/60000 (53%)]\tLoss: 0.286236\n",
      "Train Epoch: 7 [38400/60000 (64%)]\tLoss: 0.420789\n",
      "Train Epoch: 7 [44800/60000 (75%)]\tLoss: 0.188758\n",
      "Train Epoch: 7 [51200/60000 (85%)]\tLoss: 0.448814\n",
      "Train Epoch: 7 [57600/60000 (96%)]\tLoss: 0.086742\n",
      "\n",
      "Validation set: Average loss: 0.1386, Accuracy: 9592/10000 (96%)\n",
      "\n",
      "Train Epoch: 8 [0/60000 (0%)]\tLoss: 0.083627\n",
      "Train Epoch: 8 [6400/60000 (11%)]\tLoss: 0.095193\n",
      "Train Epoch: 8 [12800/60000 (21%)]\tLoss: 0.117553\n",
      "Train Epoch: 8 [19200/60000 (32%)]\tLoss: 0.234447\n",
      "Train Epoch: 8 [25600/60000 (43%)]\tLoss: 0.209569\n",
      "Train Epoch: 8 [32000/60000 (53%)]\tLoss: 0.178619\n",
      "Train Epoch: 8 [38400/60000 (64%)]\tLoss: 0.348714\n",
      "Train Epoch: 8 [44800/60000 (75%)]\tLoss: 0.224556\n",
      "Train Epoch: 8 [51200/60000 (85%)]\tLoss: 0.277083\n",
      "Train Epoch: 8 [57600/60000 (96%)]\tLoss: 0.110724\n",
      "\n",
      "Validation set: Average loss: 0.1311, Accuracy: 9607/10000 (96%)\n",
      "\n",
      "Train Epoch: 9 [0/60000 (0%)]\tLoss: 0.210102\n",
      "Train Epoch: 9 [6400/60000 (11%)]\tLoss: 0.393699\n",
      "Train Epoch: 9 [12800/60000 (21%)]\tLoss: 0.313257\n",
      "Train Epoch: 9 [19200/60000 (32%)]\tLoss: 0.287110\n",
      "Train Epoch: 9 [25600/60000 (43%)]\tLoss: 0.232258\n",
      "Train Epoch: 9 [32000/60000 (53%)]\tLoss: 0.385371\n",
      "Train Epoch: 9 [38400/60000 (64%)]\tLoss: 0.075614\n",
      "Train Epoch: 9 [44800/60000 (75%)]\tLoss: 0.173102\n",
      "Train Epoch: 9 [51200/60000 (85%)]\tLoss: 0.054014\n",
      "Train Epoch: 9 [57600/60000 (96%)]\tLoss: 0.300664\n",
      "\n",
      "Validation set: Average loss: 0.1248, Accuracy: 9622/10000 (96%)\n",
      "\n",
      "Train Epoch: 10 [0/60000 (0%)]\tLoss: 0.094629\n",
      "Train Epoch: 10 [6400/60000 (11%)]\tLoss: 0.231530\n",
      "Train Epoch: 10 [12800/60000 (21%)]\tLoss: 0.175863\n",
      "Train Epoch: 10 [19200/60000 (32%)]\tLoss: 0.209302\n",
      "Train Epoch: 10 [25600/60000 (43%)]\tLoss: 0.389293\n",
      "Train Epoch: 10 [32000/60000 (53%)]\tLoss: 0.111292\n",
      "Train Epoch: 10 [38400/60000 (64%)]\tLoss: 0.131046\n",
      "Train Epoch: 10 [44800/60000 (75%)]\tLoss: 0.154222\n",
      "Train Epoch: 10 [51200/60000 (85%)]\tLoss: 0.279493\n",
      "Train Epoch: 10 [57600/60000 (96%)]\tLoss: 0.448781\n",
      "\n",
      "Validation set: Average loss: 0.1176, Accuracy: 9638/10000 (96%)\n",
      "\n",
      "CPU times: user 10min 45s, sys: 416 ms, total: 10min 46s\n",
      "Wall time: 53.9 s\n"
     ]
    }
   ],
   "source": [
    "%%time\n",
    "epochs = 10\n",
    "\n",
    "lossv, accv = [], []\n",
    "for epoch in range(1, epochs + 1):\n",
    "    train(epoch)\n",
    "    validate(lossv, accv)"
   ]
  },
  {
   "cell_type": "code",
   "execution_count": 31,
   "metadata": {},
   "outputs": [
    {
     "data": {
      "image/png": "[encoded data removed]",
      "text/plain": [
       "<Figure size 360x216 with 1 Axes>"
      ]
     },
     "metadata": {
      "needs_background": "light"
     },
     "output_type": "display_data"
    },
    {
     "data": {
      "image/png": "[encoded data removed]",
      "text/plain": [
       "<Figure size 360x216 with 1 Axes>"
      ]
     },
     "metadata": {
      "needs_background": "light"
     },
     "output_type": "display_data"
    }
   ],
   "source": [
    "plt.figure(figsize=(5,3))\n",
    "plt.plot(np.arange(1,epochs+1), lossv)\n",
    "plt.title('validation loss')\n",
    "\n",
    "plt.figure(figsize=(5,3))\n",
    "plt.plot(np.arange(1,epochs+1), accv)\n",
    "plt.title('validation accuracy');"
   ]
  },
  {
   "cell_type": "code",
   "execution_count": null,
   "metadata": {},
   "outputs": [],
   "source": []
  }
 ],
 "metadata": {
  "kernelspec": {
   "display_name": "Python 3 (ipykernel)",
   "language": "python",
   "name": "python3"
  },
  "language_info": {
   "codemirror_mode": {
    "name": "ipython",
    "version": 3
   },
   "file_extension": ".py",
   "mimetype": "text/x-python",
   "name": "python",
   "nbconvert_exporter": "python",
   "pygments_lexer": "ipython3",
   "version": "3.8.5"
  }
 },
 "nbformat": 4,
 "nbformat_minor": 4
}
