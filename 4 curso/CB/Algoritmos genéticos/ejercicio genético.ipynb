{
 "cells": [
  {
   "cell_type": "markdown",
   "metadata": {},
   "source": [
    "hacer un algoritmo genético que encuentre la mejor solución posible (en este caso el máximo) para la fórmula (x^2-y^2)/z siendo que (x y z) € (0,1].\n",
    "cada individuo es una lista de valores.\n",
    "hacer los cortes de las variables y combinarlos por ejemplo\n",
    "padre=(Xp Yp Zp)\n",
    "madre=(Xm Ym Zm)\n",
    "hijo=(Xm Yp Zp)\n",
    "hijo2=(Xp Ym Zp)"
   ]
  },
  {
   "cell_type": "markdown",
   "metadata": {},
   "source": [
    "Suposiciones.\n",
    "Crear 100 individuos iniciales con valores aleatorios en una matriz de 4*100 con los valores x y z y el resultado del calculo\n",
    "-buscar como usar choice\n"
   ]
  }
 ],
 "metadata": {
  "kernelspec": {
   "display_name": "Python 3",
   "language": "python",
   "name": "python3"
  },
  "language_info": {
   "codemirror_mode": {
    "name": "ipython",
    "version": 3
   },
   "file_extension": ".py",
   "mimetype": "text/x-python",
   "name": "python",
   "nbconvert_exporter": "python",
   "pygments_lexer": "ipython3",
   "version": "3.8.3"
  }
 },
 "nbformat": 4,
 "nbformat_minor": 4
}
