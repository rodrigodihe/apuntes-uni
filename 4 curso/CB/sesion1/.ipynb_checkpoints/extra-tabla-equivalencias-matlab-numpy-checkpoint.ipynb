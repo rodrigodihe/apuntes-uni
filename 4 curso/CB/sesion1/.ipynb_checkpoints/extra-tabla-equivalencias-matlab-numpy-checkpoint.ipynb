{
 "cells": [
  {
   "cell_type": "markdown",
   "metadata": {},
   "source": [
    "## Tabla de equivalencias **MATLAB** a **Numpy ndarray**\n",
    "----"
   ]
  },
  {
   "cell_type": "markdown",
   "metadata": {},
   "source": [
    " MATLAB     |     numpy.array      |     Notas\n",
    "--------|-------------|---------\n",
    " `ndims(a)`     |     `a.ndim`        | El numero de dimensiones de un arreglo \n",
    " `numel(a)`  | `a.size` | Obtener el numero de elementos de un arreglo\n",
    " `size(a)`   | `a.shape` | Obtener la forma, o dimensiones de un arreglo.\n",
    " `[1 2 3 ; 4 5 6 ]` | `np.array([[1,2,3],[4,5,6]])` | Crear un arreglo de 2x3\n",
    " `[a b; c d]` | `np.vstack([np.hstack([a,b]), np.hstack([c,d])])` | Construir un arreglo de los bloques a,b,c,d\n",
    " `a(end)` | `a[-1]` | Acceder al ultimo elemento de un arreglo de 1xn elementos\n",
    " `a(2,5)` | `a[1,4]` | Acceder al elemento en el segundo renglon, quinta columna\n",
    " `a(2,:)` | `a[1]` o `a[1,:]` | Todo el segundo renglon del arreglo a\n",
    " `a(1:5,:)` | `a[0:5]` o `a[0:5,:]` | Los primeros 5 renglones de a\n",
    " `a(3:2:20,:)` | `a[2:21:2,:]` | Elementos del arreglo a del tercer al veinteavo elemento de dos en dos\n",
    " `a([2,4,5],[1,3])` | `a[np.ix_([1,3,4],[0,2)]` | Renglones 2,4 y 5 y columnas 1 y 3. Esto permite la modificacion del arreglo\n",
    " `a(end:-1:1,:)` | `a[::-1,:]` | Los renglones de a en orden inverso\n",
    " `a.'` | `a.transpose()` o `a.T` | Transpuesta de a\n",
    " `a * b` | `np.dot(a,b)` | Multiplicacion de matrices\n",
    " `a .* b` | `a*b` | Multiplicacion elemento a elemento\n",
    " `a ./ b` | `a / b` | Division elemento a elemto\n",
    " `a .^ 3` | `a ** 3` | Exponenciacion elemento a elemento\n",
    " `(a > 0.5)` | `(a >0.5)` | Arreglo booleano de los elementos que son mayores a 0.5\n",
    " `find(a>0.5)` | `np.where(a>0.5)` | Encontrar los indices donde a >0.5\n",
    " `a(a<0.5)=0` | `a[a<0.5]=0` | Los elementos de a donde a< 0.5 se igualan a 0\n",
    " `a(:) = 3` | `a[:] = 3` | Todos los espacios del arreglo a se les asigna un valor escalar\n",
    " `y = x` | `y = x.copy()` | NumPy asigna siempre por referencia, copy() hace la copia del arreglo en y\n",
    " `y=x(2,:)` | `y = x[1,:].copy()` | Se selecciona un rango y se copia en y.\n",
    " `y = x(:)` | `y = x.flatten()` | Vuelve el arreglo a vector (Notar que el metodo hace una copia de los datos)\n",
    " `1:10` | `np.arange(1.,11.)` o `np.r_[1.:11.]` | Crea un vector creciente\n",
    " `0:9` | `np.arange(10.)` o `np.r_[:10.]` | Crea un vector creciente\n",
    " `[1:10]` | `np.arange(1.,10.)[:,np.newaxis]`  | Crea un vector en columna\n",
    " `zeros(3,4` | `np.zeros((3,4))` | Arreglo de 3x4 lleno de ceros (tipo de dato flotante)\n",
    " `zeros(3,4,5)` | `np.zeros((3,4,5))` | Arreglo de 3x4x5 lleno de ceros\n",
    " `ones(3,4)` | `np.ones((3,4))` | Arreglo de 3x4 lleno de unos\n",
    " `eye(3)` | `np.eye(3)` | Matriz de identidad 3x3\n",
    " `diag(a)` | `np.diag(a)` | Vector de elementos diagonales de a \n",
    " `rand(3,4)` | `np.random.rand(3,4)` | Arreglo de numeros aleatorios de 3x4\n",
    " `linspace(1,3,4)` | `np.linspace(1,3,4)`  | Vector de 4 muestras igualmente espaciadas entre 1 y 3, inclusivas.\n",
    " `[x,y]=meshgrid(0:8,0:5)` | `x,y = np.mgrid[0:9.,0:6.]` | Dos arreglos 2D uno para valores de x y otro para y\n",
    " `[x,y]=meshgrid([1,2,4],[2,4,5])` | `x,y=np.meshgrid([1,2,4],[2,4,5])` | Dos arreglos 2D uno para valores de x y otro para y\n",
    " `repmat(a, m, n)` | `np.tile(a, (m, n))` | Crear m x n copias de a \n",
    " `[a b]` | `np.concatenate((a,b),1)` | Concatenar columnas de a y b\n",
    " `[a ; b]` | `np.concatenate((a,b))` | Concatenar renglones de a y b\n",
    " `max(a)` | `a.max(0)` | Valor maximo de cada columna de a \n",
    " `max(max(a))` | `a.max()` | Valor maximo de a (dimensiones <=2 para matlab)\n",
    " `norm(v)` | `np.linalg.norm(v)` | Vector norma L2\n",
    " `a & b` | `np.logical_and(a,b)` | Operacion logica and, elemento por elemento\n",
    " `inv(a)` | `np.linalg.inv(a)` | Iversa de la matriz cuadrada a\n",
    " `pinv(a)`  | `np.linalg.pinv(a)` | Pseudo inversa de la matriz a\n",
    " `chol(a)` | `np.linalg.cholesky(a).T` | Factorizacion cholesky de la matriz a\n",
    " `fft(a)` | `np.fft(a)` | Transformada de Fourier de a\n",
    " `ifft(a)` | `np.ifft(a)` | Transformada inversa de Fourier de a\n",
    " `regress(y,X)` | `np.linalg.lstsq(X,y)` | Regresion multilinear\n",
    " `unique(a)` | `np.unique(a)` | \n",
    " `squeeze(a)` | `a.squeeze()`\n",
    " `.                                .` | `.                                  .` | `.                                        .`"
   ]
  },
  {
   "cell_type": "markdown",
   "metadata": {},
   "source": [
    "### Documentacion adicional esta disponible en:\n",
    "\n",
    "http://docs.scipy.org/doc/numpy/index.html\n",
    "\n",
    "Mas equivalencias:<br>\n",
    "http://mathesaurus.sourceforge.net/matlab-numpy.html\n"
   ]
  },
  {
   "cell_type": "code",
   "execution_count": null,
   "metadata": {},
   "outputs": [],
   "source": []
  }
 ],
 "metadata": {
  "anaconda-cloud": {},
  "kernelspec": {
   "display_name": "Python 3 (ipykernel)",
   "language": "python",
   "name": "python3"
  },
  "language_info": {
   "codemirror_mode": {
    "name": "ipython",
    "version": 3
   },
   "file_extension": ".py",
   "mimetype": "text/x-python",
   "name": "python",
   "nbconvert_exporter": "python",
   "pygments_lexer": "ipython3",
   "version": "3.8.5"
  }
 },
 "nbformat": 4,
 "nbformat_minor": 1
}
