{
 "cells": [
  {
   "cell_type": "markdown",
   "metadata": {},
   "source": [
    "# Comenzando con python para computo cientifico: el entorno notebook, numpy y matplotlib\n",
    "En este notebook, empezaremos por explorar las herramientas que contiene el ecosistema de python cientifico (SciPy)."
   ]
  },
  {
   "cell_type": "code",
   "execution_count": null,
   "metadata": {
    "collapsed": true
   },
   "outputs": [],
   "source": []
  },
  {
   "cell_type": "markdown",
   "metadata": {
    "nbpresent": {
     "id": "8feae209-830c-4f75-be7f-8220417846f2"
    }
   },
   "source": [
    "## El Ipython notebook\n",
    "Este mismo documento es un ipython notebook, es un documento computacionalmente interactivo que puede ser modificado y ejecutado ahora con la herramienta jupyter. Aqui incluimos codigo en python, codigo markdown, html, imagenes y multimedia.\n",
    "\n",
    "Cada celda tiene propiedades que le permiten mostrar los elementos anteriores."
   ]
  },
  {
   "cell_type": "markdown",
   "metadata": {
    "nbpresent": {
     "id": "4b942b3f-f83c-47b1-a3f1-6be7231ef4fe"
    }
   },
   "source": [
    "## Numpy desde arriba\n",
    "Empezemos por visualizar algunos datos"
   ]
  },
  {
   "cell_type": "code",
   "execution_count": 1,
   "metadata": {
    "nbpresent": {
     "id": "925a95fe-d944-4b8f-98a3-5b1a88146e92"
    }
   },
   "outputs": [],
   "source": [
    "# importamos la funcionalidad numpy usando la convencion.\n",
    "import numpy as np \n",
    "import os\n"
   ]
  },
  {
   "cell_type": "code",
   "execution_count": 5,
   "metadata": {
    "collapsed": true,
    "nbpresent": {
     "id": "c8b26eab-e26b-44ea-9c76-8cbe12f7ec0d"
    }
   },
   "outputs": [],
   "source": [
    "x = np.arange( -2*np.pi , 2*np.pi , 0.1 )"
   ]
  },
  {
   "cell_type": "code",
   "execution_count": 9,
   "metadata": {
    "nbpresent": {
     "id": "1e695bca-d65c-4362-8365-5480cf678b15"
    }
   },
   "outputs": [
    {
     "data": {
      "text/plain": [
       "array([-6.28318531, -6.18318531, -6.08318531, -5.98318531, -5.88318531,\n",
       "       -5.78318531, -5.68318531, -5.58318531, -5.48318531, -5.38318531,\n",
       "       -5.28318531, -5.18318531, -5.08318531, -4.98318531, -4.88318531,\n",
       "       -4.78318531, -4.68318531, -4.58318531, -4.48318531, -4.38318531,\n",
       "       -4.28318531, -4.18318531, -4.08318531, -3.98318531, -3.88318531,\n",
       "       -3.78318531, -3.68318531, -3.58318531, -3.48318531, -3.38318531,\n",
       "       -3.28318531, -3.18318531, -3.08318531, -2.98318531, -2.88318531,\n",
       "       -2.78318531, -2.68318531, -2.58318531, -2.48318531, -2.38318531,\n",
       "       -2.28318531, -2.18318531, -2.08318531, -1.98318531, -1.88318531,\n",
       "       -1.78318531, -1.68318531, -1.58318531, -1.48318531, -1.38318531,\n",
       "       -1.28318531, -1.18318531, -1.08318531, -0.98318531, -0.88318531,\n",
       "       -0.78318531, -0.68318531, -0.58318531, -0.48318531, -0.38318531,\n",
       "       -0.28318531, -0.18318531, -0.08318531,  0.01681469,  0.11681469,\n",
       "        0.21681469,  0.31681469,  0.41681469,  0.51681469,  0.61681469,\n",
       "        0.71681469,  0.81681469,  0.91681469,  1.01681469,  1.11681469,\n",
       "        1.21681469,  1.31681469,  1.41681469,  1.51681469,  1.61681469,\n",
       "        1.71681469,  1.81681469,  1.91681469,  2.01681469,  2.11681469,\n",
       "        2.21681469,  2.31681469,  2.41681469,  2.51681469,  2.61681469,\n",
       "        2.71681469,  2.81681469,  2.91681469,  3.01681469,  3.11681469,\n",
       "        3.21681469,  3.31681469,  3.41681469,  3.51681469,  3.61681469,\n",
       "        3.71681469,  3.81681469,  3.91681469,  4.01681469,  4.11681469,\n",
       "        4.21681469,  4.31681469,  4.41681469,  4.51681469,  4.61681469,\n",
       "        4.71681469,  4.81681469,  4.91681469,  5.01681469,  5.11681469,\n",
       "        5.21681469,  5.31681469,  5.41681469,  5.51681469,  5.61681469,\n",
       "        5.71681469,  5.81681469,  5.91681469,  6.01681469,  6.11681469,\n",
       "        6.21681469])"
      ]
     },
     "execution_count": 9,
     "metadata": {},
     "output_type": "execute_result"
    }
   ],
   "source": [
    "x"
   ]
  },
  {
   "cell_type": "markdown",
   "metadata": {
    "nbpresent": {
     "id": "f3b436da-3a6b-4ea2-b99d-3d13617f4f07"
    }
   },
   "source": [
    "Que tipo de objeto es: x "
   ]
  },
  {
   "cell_type": "code",
   "execution_count": 10,
   "metadata": {
    "nbpresent": {
     "id": "b0b5f8a1-4158-4276-9c40-fb82e4def479"
    }
   },
   "outputs": [
    {
     "data": {
      "text/plain": [
       "numpy.ndarray"
      ]
     },
     "execution_count": 10,
     "metadata": {},
     "output_type": "execute_result"
    }
   ],
   "source": [
    "type(x)"
   ]
  },
  {
   "cell_type": "code",
   "execution_count": 11,
   "metadata": {
    "collapsed": true
   },
   "outputs": [],
   "source": [
    "x.dot?"
   ]
  },
  {
   "cell_type": "markdown",
   "metadata": {
    "nbpresent": {
     "id": "0433d528-4717-49e2-880e-1105c48790db"
    }
   },
   "source": [
    "El corazon de la libreria numpy es el objeto ndarray, un arreglo de *n*-dimensiones, este objeto tiene propiedades que describen los datos y metodos, en este entorno podemos explorar que es lo que contiene, presionando **TAB** despues de escribir **x.**"
   ]
  },
  {
   "cell_type": "code",
   "execution_count": 12,
   "metadata": {
    "nbpresent": {
     "id": "3addacc0-c734-44dd-b21d-45a76bb4dc22"
    }
   },
   "outputs": [
    {
     "data": {
      "text/plain": [
       "dtype('float64')"
      ]
     },
     "execution_count": 12,
     "metadata": {},
     "output_type": "execute_result"
    }
   ],
   "source": [
    "x.dtype"
   ]
  },
  {
   "cell_type": "code",
   "execution_count": 13,
   "metadata": {
    "nbpresent": {
     "id": "40aed528-1d6f-472d-9c59-13fa7b3ccbd3"
    }
   },
   "outputs": [
    {
     "data": {
      "text/plain": [
       "1"
      ]
     },
     "execution_count": 13,
     "metadata": {},
     "output_type": "execute_result"
    }
   ],
   "source": [
    "x.ndim"
   ]
  },
  {
   "cell_type": "code",
   "execution_count": 14,
   "metadata": {
    "nbpresent": {
     "id": "4bf3b57e-b097-42b3-b110-21d024a72a04"
    }
   },
   "outputs": [
    {
     "data": {
      "text/plain": [
       "126"
      ]
     },
     "execution_count": 14,
     "metadata": {},
     "output_type": "execute_result"
    }
   ],
   "source": [
    "x.size"
   ]
  },
  {
   "cell_type": "code",
   "execution_count": 16,
   "metadata": {
    "nbpresent": {
     "id": "12bf985a-7f38-4fcc-9691-b698b61cdba6"
    }
   },
   "outputs": [
    {
     "data": {
      "text/plain": [
       "(126,)"
      ]
     },
     "execution_count": 16,
     "metadata": {},
     "output_type": "execute_result"
    }
   ],
   "source": [
    "x.shape"
   ]
  },
  {
   "cell_type": "code",
   "execution_count": 21,
   "metadata": {
    "nbpresent": {
     "id": "6db97975-0ceb-4aab-8cd9-d1f5e995b5bb"
    }
   },
   "outputs": [
    {
     "data": {
      "text/plain": [
       "-4.1813487046306523"
      ]
     },
     "execution_count": 21,
     "metadata": {},
     "output_type": "execute_result"
    }
   ],
   "source": [
    "x.sum()"
   ]
  },
  {
   "cell_type": "code",
   "execution_count": 23,
   "metadata": {
    "nbpresent": {
     "id": "c2c0d875-6f19-4f16-9dc5-25dc487204ed"
    }
   },
   "outputs": [
    {
     "data": {
      "text/plain": [
       "array([-3.14159265, -2.93215314, -2.72271363, -2.51327412, -2.30383461,\n",
       "       -2.0943951 , -1.88495559, -1.67551608, -1.46607657, -1.25663706,\n",
       "       -1.04719755, -0.83775804, -0.62831853, -0.41887902, -0.20943951,\n",
       "        0.        ,  0.20943951,  0.41887902,  0.62831853,  0.83775804,\n",
       "        1.04719755,  1.25663706,  1.46607657,  1.67551608,  1.88495559,\n",
       "        2.0943951 ,  2.30383461,  2.51327412,  2.72271363,  2.93215314,\n",
       "        3.14159265])"
      ]
     },
     "execution_count": 23,
     "metadata": {},
     "output_type": "execute_result"
    }
   ],
   "source": [
    "# Arreglo de numeros uniformemente espaciados.\n",
    "x = np.linspace(-1*np.pi , 1*np.pi , 31)\n",
    "x"
   ]
  },
  {
   "cell_type": "code",
   "execution_count": null,
   "metadata": {
    "collapsed": true
   },
   "outputs": [],
   "source": []
  },
  {
   "cell_type": "markdown",
   "metadata": {
    "nbpresent": {
     "id": "2357aaa7-515c-4d8c-b3a9-52a0fa9a5865"
    }
   },
   "source": [
    "**Ejemplo:** Evaluaremos el cada elemento del arreglo x con la funcion seno. La forma funcional, o al \"estilo python\" de hacerlo es la siguiente:"
   ]
  },
  {
   "cell_type": "code",
   "execution_count": 28,
   "metadata": {
    "nbpresent": {
     "id": "6512381c-5bf3-4df5-949e-33dc2ae940d0"
    }
   },
   "outputs": [],
   "source": [
    "from math import sin \n",
    "\n",
    "sin1 = [sin(i) for i in x]"
   ]
  },
  {
   "cell_type": "code",
   "execution_count": 30,
   "metadata": {
    "nbpresent": {
     "id": "d5befe13-b5f9-491f-b2f5-0583b406f28c"
    }
   },
   "outputs": [
    {
     "data": {
      "text/plain": [
       "[-1.2246467991473532e-16,\n",
       " -0.20791169081775931,\n",
       " -0.40673664307580043,\n",
       " -0.5877852522924732,\n",
       " -0.7431448254773942,\n",
       " -0.8660254037844385,\n",
       " -0.9510565162951536,\n",
       " -0.9945218953682733,\n",
       " -0.9945218953682733,\n",
       " -0.9510565162951535,\n",
       " -0.8660254037844387,\n",
       " -0.7431448254773945,\n",
       " -0.5877852522924731,\n",
       " -0.4067366430758003,\n",
       " -0.20791169081775962,\n",
       " 0.0,\n",
       " 0.20791169081775918,\n",
       " 0.40673664307579993,\n",
       " 0.5877852522924731,\n",
       " 0.7431448254773941,\n",
       " 0.8660254037844385,\n",
       " 0.9510565162951535,\n",
       " 0.9945218953682733,\n",
       " 0.9945218953682734,\n",
       " 0.9510565162951536,\n",
       " 0.8660254037844389,\n",
       " 0.7431448254773945,\n",
       " 0.5877852522924732,\n",
       " 0.4067366430758008,\n",
       " 0.20791169081775973,\n",
       " 1.2246467991473532e-16]"
      ]
     },
     "execution_count": 30,
     "metadata": {},
     "output_type": "execute_result"
    }
   ],
   "source": [
    "sin1"
   ]
  },
  {
   "cell_type": "markdown",
   "metadata": {
    "nbpresent": {
     "id": "b4cd7cc2-42f6-4434-9497-351df91385d1"
    }
   },
   "source": [
    "Podemos convertir una lista a un objeto mas eficiente ndarray"
   ]
  },
  {
   "cell_type": "code",
   "execution_count": 31,
   "metadata": {
    "nbpresent": {
     "id": "480b73f3-1f5e-44cf-b185-6c94cd33d26c"
    }
   },
   "outputs": [
    {
     "data": {
      "text/plain": [
       "numpy.ndarray"
      ]
     },
     "execution_count": 31,
     "metadata": {},
     "output_type": "execute_result"
    }
   ],
   "source": [
    "sin2 = np.array(sin1)\n",
    "type(sin2)"
   ]
  },
  {
   "cell_type": "markdown",
   "metadata": {
    "nbpresent": {
     "id": "2b3dd24f-f690-4d60-9277-40fbfc57821b"
    }
   },
   "source": [
    "Lo anterior no es lo mas eficiente que podemos hacer, en su lugar el paquete numpy contiene versiones de funciones math en metodos vectorizados y optimizados para el objeto ndarray, llamados *\"ufunc\"* corto para *\"universal functions\"*"
   ]
  },
  {
   "cell_type": "code",
   "execution_count": 32,
   "metadata": {
    "nbpresent": {
     "id": "2ac5d98b-9338-4347-9cd5-8d775b2765d2"
    }
   },
   "outputs": [
    {
     "data": {
      "text/plain": [
       "array([ -1.22464680e-16,  -2.07911691e-01,  -4.06736643e-01,\n",
       "        -5.87785252e-01,  -7.43144825e-01,  -8.66025404e-01,\n",
       "        -9.51056516e-01,  -9.94521895e-01,  -9.94521895e-01,\n",
       "        -9.51056516e-01,  -8.66025404e-01,  -7.43144825e-01,\n",
       "        -5.87785252e-01,  -4.06736643e-01,  -2.07911691e-01,\n",
       "         0.00000000e+00,   2.07911691e-01,   4.06736643e-01,\n",
       "         5.87785252e-01,   7.43144825e-01,   8.66025404e-01,\n",
       "         9.51056516e-01,   9.94521895e-01,   9.94521895e-01,\n",
       "         9.51056516e-01,   8.66025404e-01,   7.43144825e-01,\n",
       "         5.87785252e-01,   4.06736643e-01,   2.07911691e-01,\n",
       "         1.22464680e-16])"
      ]
     },
     "execution_count": 32,
     "metadata": {},
     "output_type": "execute_result"
    }
   ],
   "source": [
    "sin3 = np.sin(x)\n",
    "sin3"
   ]
  },
  {
   "cell_type": "markdown",
   "metadata": {
    "nbpresent": {
     "id": "6f8ba47c-eca0-48a5-9512-99040c6d5cd2"
    }
   },
   "source": [
    "Que tan optimizado?"
   ]
  },
  {
   "cell_type": "code",
   "execution_count": 33,
   "metadata": {
    "nbpresent": {
     "id": "13c57300-0fcb-4579-a4d3-afc1f2c9ab55"
    }
   },
   "outputs": [
    {
     "name": "stdout",
     "output_type": "stream",
     "text": [
      "The slowest run took 5.49 times longer than the fastest. This could mean that an intermediate result is being cached.\n",
      "100000 loops, best of 3: 7.6 µs per loop\n"
     ]
    }
   ],
   "source": [
    "%timeit sin2 = np.array([sin(i) for i in x])"
   ]
  },
  {
   "cell_type": "code",
   "execution_count": 34,
   "metadata": {
    "nbpresent": {
     "id": "096e86e8-5df7-4bd3-a388-44b18a527f7c"
    }
   },
   "outputs": [
    {
     "name": "stdout",
     "output_type": "stream",
     "text": [
      "The slowest run took 14.01 times longer than the fastest. This could mean that an intermediate result is being cached.\n",
      "1000000 loops, best of 3: 1.44 µs per loop\n"
     ]
    }
   ],
   "source": [
    "%timeit sin3 = np.sin(x)"
   ]
  },
  {
   "cell_type": "markdown",
   "metadata": {
    "nbpresent": {
     "id": "fd51bf62-60e2-4a6e-bacd-9bc5a0f879dd"
    }
   },
   "source": [
    "**np.sin()** es una funcion universal que evalua elemento por elemento. Numpy promueve que pensemos de forma vectorizada, que hagamos operaciones sobre los arreglos como si fuera una unidad.  De esta forma dejamos que el nucleo de estas librerias se encargen de realizar la parte complicada e incluso encargarse de optimizaciones, en multiples CPUs, o GPU's."
   ]
  },
  {
   "cell_type": "markdown",
   "metadata": {},
   "source": [
    "**Ejercicio** Ejecutar funciones artimeticas y matematicas sobre arreglos numpy.  "
   ]
  },
  {
   "cell_type": "markdown",
   "metadata": {},
   "source": [
    "### Que es numpy?\n",
    "Pensemos en el como el objeto que nos provee con metodos optimizados la siguiente funcionalidad\n",
    "- arreglo de datos numericos, adecuado para datos cientificos (vectores, matrices)\n",
    "- operaciones vectorizadas para sus arreglos"
   ]
  },
  {
   "cell_type": "code",
   "execution_count": 4,
   "metadata": {},
   "outputs": [],
   "source": [
    "# Por ejemplo operaciones aritmeticas sobre arreglos\n",
    "x = np.array([1.,2.,3.,4.,5.])\n",
    "y = np.array([6,7,8,9,10]) "
   ]
  },
  {
   "cell_type": "code",
   "execution_count": 5,
   "metadata": {},
   "outputs": [
    {
     "data": {
      "text/plain": [
       "array([  6.,  14.,  24.,  36.,  50.])"
      ]
     },
     "execution_count": 5,
     "metadata": {},
     "output_type": "execute_result"
    }
   ],
   "source": [
    "x * y "
   ]
  },
  {
   "cell_type": "code",
   "execution_count": 6,
   "metadata": {},
   "outputs": [
    {
     "data": {
      "text/plain": [
       "array([ -2.9,  -5.8,  -8.7, -11.6, -14.5])"
      ]
     },
     "execution_count": 6,
     "metadata": {},
     "output_type": "execute_result"
    }
   ],
   "source": [
    "x\n",
    "x * -2.9"
   ]
  },
  {
   "cell_type": "code",
   "execution_count": 7,
   "metadata": {},
   "outputs": [
    {
     "data": {
      "text/plain": [
       "dtype('complex128')"
      ]
     },
     "execution_count": 7,
     "metadata": {},
     "output_type": "execute_result"
    }
   ],
   "source": [
    "z = x + 2j\n",
    "z.dtype"
   ]
  },
  {
   "cell_type": "markdown",
   "metadata": {},
   "source": [
    "## Visualizando los datos: matplotlib\n",
    "Ahora que ya tenemos datos, realizamos operaciones sobre ellos y representan un posible resultado de algun experimento, lo que sigue es visualizarlos.\n",
    "El paquete estandar para hacer esto es matplotlib, que es parte del paquete de scipy."
   ]
  },
  {
   "cell_type": "code",
   "execution_count": 3,
   "metadata": {
    "nbpresent": {
     "id": "e75f55d2-a3d7-42d0-8ae5-210894d13a79"
    }
   },
   "outputs": [],
   "source": [
    "# importando matplotlib siguiendo la convencion\n",
    "import matplotlib.pyplot as plt\n"
   ]
  },
  {
   "cell_type": "markdown",
   "metadata": {},
   "source": [
    "Recordemos como obtuvimos datos"
   ]
  },
  {
   "cell_type": "code",
   "execution_count": 4,
   "metadata": {
    "nbpresent": {
     "id": "c7a47147-2486-41bf-ae03-30e55887beee"
    }
   },
   "outputs": [],
   "source": [
    "x = np.linspace(-2*np.pi, 2*np.pi, 100)\n",
    "y = np.sin(x)\n"
   ]
  },
  {
   "cell_type": "markdown",
   "metadata": {},
   "source": [
    "Hagamos un grafico"
   ]
  },
  {
   "cell_type": "code",
   "execution_count": 10,
   "metadata": {
    "nbpresent": {
     "id": "7ad0977b-8708-4ad5-8aeb-549af1fbabaa"
    }
   },
   "outputs": [],
   "source": [
    "myplt = plt.plot(x,y)\n"
   ]
  },
  {
   "cell_type": "code",
   "execution_count": 11,
   "metadata": {},
   "outputs": [],
   "source": [
    "# Muestrame mi grafico!\n",
    "plt.show()"
   ]
  },
  {
   "cell_type": "code",
   "execution_count": 6,
   "metadata": {},
   "outputs": [
    {
     "data": {
      "text/plain": [
       "[<matplotlib.lines.Line2D at 0x7fe0b40c4550>]"
      ]
     },
     "execution_count": 6,
     "metadata": {},
     "output_type": "execute_result"
    },
    {
     "data": {
      "image/png": "[encoded data removed]",
      "text/plain": [
       "<matplotlib.figure.Figure at 0x7fe0c4f98c18>"
      ]
     },
     "metadata": {},
     "output_type": "display_data"
    }
   ],
   "source": [
    "# Incluyelo en mi notebook\n",
    "%matplotlib inline\n",
    "\n",
    "plt.plot(x,y)"
   ]
  },
  {
   "cell_type": "code",
   "execution_count": 18,
   "metadata": {},
   "outputs": [
    {
     "data": {
      "text/plain": [
       "[<matplotlib.lines.Line2D at 0x7f523f6715f8>]"
      ]
     },
     "execution_count": 18,
     "metadata": {},
     "output_type": "execute_result"
    },
    {
     "data": {
      "image/png": "[encoded data removed]",
      "text/plain": [
       "<matplotlib.figure.Figure at 0x7f523f671518>"
      ]
     },
     "metadata": {},
     "output_type": "display_data"
    }
   ],
   "source": [
    "plt.plot(x, np.sin(x))\n",
    "plt.plot(x, np.cos(x))"
   ]
  },
  {
   "cell_type": "code",
   "execution_count": 19,
   "metadata": {
    "collapsed": true
   },
   "outputs": [],
   "source": [
    "# Muestrame todos los argumentos que recibe el comando plot\n",
    "plt.plot?"
   ]
  },
  {
   "cell_type": "code",
   "execution_count": 20,
   "metadata": {},
   "outputs": [
    {
     "data": {
      "text/plain": [
       "<matplotlib.legend.Legend at 0x7f523f5ce8d0>"
      ]
     },
     "execution_count": 20,
     "metadata": {},
     "output_type": "execute_result"
    },
    {
     "data": {
      "image/png": "[encoded data removed]",
      "text/plain": [
       "<matplotlib.figure.Figure at 0x7f523f623e48>"
      ]
     },
     "metadata": {},
     "output_type": "display_data"
    }
   ],
   "source": [
    "plt.plot(x, np.sin(x), \"--\"  , label=\"$\\sin(x)$\" )\n",
    "plt.plot(x, np.cos(x), \"ro--\", label=\"$\\cos(x)$\")  # red points and dashed lines\n",
    "plt.xlabel(\"$x$\", size=20)\n",
    "plt.ylabel(\"$\\sin(x), \\cos(x)$\", size=20)\n",
    "plt.legend()"
   ]
  },
  {
   "cell_type": "code",
   "execution_count": 21,
   "metadata": {},
   "outputs": [
    {
     "data": {
      "text/plain": [
       "<matplotlib.figure.Figure at 0x7f523f56d8d0>"
      ]
     },
     "metadata": {},
     "output_type": "display_data"
    }
   ],
   "source": [
    "# Salvamos nuestro grafico asi. \n",
    "plt.savefig(\"sincos.png\")"
   ]
  },
  {
   "cell_type": "code",
   "execution_count": 2,
   "metadata": {},
   "outputs": [
    {
     "name": "stdout",
     "output_type": "stream",
     "text": [
      "['seaborn-paper', 'seaborn-talk', 'dark_background', 'seaborn-dark-palette', 'ggplot', 'grayscale', 'seaborn-darkgrid', 'fivethirtyeight', 'classic', 'seaborn-ticks', 'seaborn-pastel', 'seaborn-deep', 'bmh', 'seaborn-muted', 'seaborn-whitegrid', 'seaborn-bright', 'seaborn-notebook', 'seaborn-dark', 'seaborn-poster', 'seaborn-white', 'seaborn-colorblind']\n"
     ]
    }
   ],
   "source": [
    "# Estilos de graficos disponibles\n",
    "\n",
    "print(plt.style.available)"
   ]
  },
  {
   "cell_type": "code",
   "execution_count": 20,
   "metadata": {},
   "outputs": [],
   "source": [
    "plt.style.use('classic')\n"
   ]
  },
  {
   "cell_type": "code",
   "execution_count": 7,
   "metadata": {},
   "outputs": [
    {
     "data": {
      "image/png": "[encoded data removed]",
      "text/plain": [
       "<matplotlib.figure.Figure at 0x7fe0b40953c8>"
      ]
     },
     "metadata": {},
     "output_type": "display_data"
    }
   ],
   "source": [
    "# XKCD anyone?\n",
    "\n",
    "with plt.xkcd():\n",
    "    plt.plot(x, np.sin(x), \"--\"  , label=\"$\\sin(x)$\" )\n",
    "    plt.plot(x, np.cos(x), \"ro--\", label=\"$\\cos(x)$\")  \n",
    "    plt.xlabel(\"$x$\", size=20)\n",
    "    plt.ylabel(\"$\\sin(x), \\cos(x)$\", size=20)\n",
    "    plt.legend()"
   ]
  },
  {
   "cell_type": "code",
   "execution_count": null,
   "metadata": {
    "collapsed": true
   },
   "outputs": [],
   "source": []
  },
  {
   "cell_type": "markdown",
   "metadata": {},
   "source": [
    "**Ejercicio** Que tal si hacemos un grafico de la funcion logaritmica y el exponencial en un mismo grafico mas una linea punteada, mostrando la leyenda $y=x$ para denotar la simetria.\n",
    "\n",
    "Para ajustar nuestros limites visibles del grafico podemos usar `plt.ylim([ymin, ymax])` para ajustar en el eje Y."
   ]
  },
  {
   "cell_type": "code",
   "execution_count": 24,
   "metadata": {
    "scrolled": true
   },
   "outputs": [
    {
     "data": {
      "text/plain": [
       "(-5, 5)"
      ]
     },
     "execution_count": 24,
     "metadata": {},
     "output_type": "execute_result"
    },
    {
     "data": {
      "image/png": "[encoded data removed]",
      "text/plain": [
       "<matplotlib.figure.Figure at 0x7f523f255cc0>"
      ]
     },
     "metadata": {},
     "output_type": "display_data"
    }
   ],
   "source": [
    "plt.plot(x[x>0], np.log(x[x>0]), \"-\")\n",
    "plt.plot(x, np.exp(x), \"-\")\n",
    "plt.plot(x,x,\"--\",label=\"$y=x$\")\n",
    "plt.legend()\n",
    "\n",
    "\n",
    "plt.axhline(y=0)\n",
    "plt.axvline(x=0)   # Lineas sobre el origen\n",
    "plt.ylim([-5,5])   # Limite visual en y"
   ]
  },
  {
   "cell_type": "markdown",
   "metadata": {},
   "source": [
    "## Cargando datos en numpy\n",
    "Generalmente las aplicaciones cientificas no generan datos a partir de funciones, o travez de simulaciones numericas, si no de datos ya existentes.\n",
    "\n",
    "Numpy cuenta con funcionalidad para cargar y salvar datos a sus arreglos, aun mas funcionalidad esta disponible en la libreria `pandas`"
   ]
  },
  {
   "cell_type": "code",
   "execution_count": 75,
   "metadata": {},
   "outputs": [
    {
     "data": {
      "text/plain": [
       "array([ 0.5474918 ,  0.78878503,  0.16325052,  0.40631857,  0.2774425 ,\n",
       "        0.52468145,  0.52052233,  0.61937627,  0.55938531,  0.90868494])"
      ]
     },
     "execution_count": 75,
     "metadata": {},
     "output_type": "execute_result"
    }
   ],
   "source": [
    "# Generemos datos aleatorios\n",
    "np.random.rand(10)"
   ]
  },
  {
   "cell_type": "code",
   "execution_count": 79,
   "metadata": {},
   "outputs": [
    {
     "data": {
      "text/plain": [
       "array([ 28.24702562,  26.47248378,  23.85184173,  23.75468923,\n",
       "        19.94246103,  16.03053163,  18.94884992,  15.22097288,\n",
       "        16.29456242,  11.57554023,  10.89748651,  11.76946391,\n",
       "         7.63200879,   5.5685312 ,   8.53069983,   5.26402443,\n",
       "         6.05148689,   6.19798044,   3.86075681,   5.58545446,\n",
       "         1.11093367,   2.33371577,   2.86832031,   2.39863092,\n",
       "         4.33513072,   2.31218201,   2.44547957,   4.2519523 ,\n",
       "         0.8576819 ,   4.47914683,   3.96820588,   6.42379984,\n",
       "         5.61448753,   5.63050068,   5.73330696,   7.96045853,\n",
       "         8.29888478,   8.99704858,   9.27120565,  11.1755766 ,\n",
       "        10.3908207 ,  12.47633002,  17.63901878,  18.26512429,\n",
       "        16.04881155,  18.74257505,  20.99108876,  23.8788008 ,\n",
       "        23.58272932,  26.92471953])"
      ]
     },
     "execution_count": 79,
     "metadata": {},
     "output_type": "execute_result"
    }
   ],
   "source": [
    "# Vectores con datos , \"simulando datos cientificos\"\n",
    "x = np.linspace(-5, 5, 50)\n",
    "y = x**2 + 5*np.random.rand(x.size)\n",
    "y"
   ]
  },
  {
   "cell_type": "code",
   "execution_count": 82,
   "metadata": {},
   "outputs": [
    {
     "data": {
      "text/plain": [
       "[<matplotlib.lines.Line2D at 0x7f74ec8e2390>]"
      ]
     },
     "execution_count": 82,
     "metadata": {},
     "output_type": "execute_result"
    },
    {
     "data": {
      "image/png": "[encoded data removed]",
      "text/plain": [
       "<matplotlib.figure.Figure at 0x7f74ec98e470>"
      ]
     },
     "metadata": {},
     "output_type": "display_data"
    }
   ],
   "source": [
    "# Visualizamos nuestros datos.\n",
    "plt.plot(x,y,'.')"
   ]
  },
  {
   "cell_type": "markdown",
   "metadata": {},
   "source": [
    "Para exportar nuestros datos, de preferencia los salvaremos en forma tabulada, creando una matriz en numpy a partir de los dos vectores x,y."
   ]
  },
  {
   "cell_type": "code",
   "execution_count": 25,
   "metadata": {},
   "outputs": [
    {
     "data": {
      "text/plain": [
       "array([[ 0,  1,  2,  3,  4,  5],\n",
       "       [ 6,  7,  8,  9, 10, 11]])"
      ]
     },
     "execution_count": 25,
     "metadata": {},
     "output_type": "execute_result"
    }
   ],
   "source": [
    "ar = np.arange(12).reshape(2,6)\n",
    "ar"
   ]
  },
  {
   "cell_type": "code",
   "execution_count": 27,
   "metadata": {},
   "outputs": [
    {
     "data": {
      "text/plain": [
       "(array([-6.28318531, -6.15625227, -6.02931923, -5.9023862 , -5.77545316,\n",
       "        -5.64852012, -5.52158709, -5.39465405, -5.26772102, -5.14078798,\n",
       "        -5.01385494, -4.88692191, -4.75998887, -4.63305583, -4.5061228 ,\n",
       "        -4.37918976, -4.25225672, -4.12532369, -3.99839065, -3.87145761,\n",
       "        -3.74452458, -3.61759154, -3.4906585 , -3.36372547, -3.23679243,\n",
       "        -3.10985939, -2.98292636, -2.85599332, -2.72906028, -2.60212725,\n",
       "        -2.47519421, -2.34826118, -2.22132814, -2.0943951 , -1.96746207,\n",
       "        -1.84052903, -1.71359599, -1.58666296, -1.45972992, -1.33279688,\n",
       "        -1.20586385, -1.07893081, -0.95199777, -0.82506474, -0.6981317 ,\n",
       "        -0.57119866, -0.44426563, -0.31733259, -0.19039955, -0.06346652,\n",
       "         0.06346652,  0.19039955,  0.31733259,  0.44426563,  0.57119866,\n",
       "         0.6981317 ,  0.82506474,  0.95199777,  1.07893081,  1.20586385,\n",
       "         1.33279688,  1.45972992,  1.58666296,  1.71359599,  1.84052903,\n",
       "         1.96746207,  2.0943951 ,  2.22132814,  2.34826118,  2.47519421,\n",
       "         2.60212725,  2.72906028,  2.85599332,  2.98292636,  3.10985939,\n",
       "         3.23679243,  3.36372547,  3.4906585 ,  3.61759154,  3.74452458,\n",
       "         3.87145761,  3.99839065,  4.12532369,  4.25225672,  4.37918976,\n",
       "         4.5061228 ,  4.63305583,  4.75998887,  4.88692191,  5.01385494,\n",
       "         5.14078798,  5.26772102,  5.39465405,  5.52158709,  5.64852012,\n",
       "         5.77545316,  5.9023862 ,  6.02931923,  6.15625227,  6.28318531]),\n",
       " array([  2.44929360e-16,   1.26592454e-01,   2.51147987e-01,\n",
       "          3.71662456e-01,   4.86196736e-01,   5.92907929e-01,\n",
       "          6.90079011e-01,   7.76146464e-01,   8.49725430e-01,\n",
       "          9.09631995e-01,   9.54902241e-01,   9.84807753e-01,\n",
       "          9.98867339e-01,   9.96854776e-01,   9.78802446e-01,\n",
       "          9.45000819e-01,   8.95993774e-01,   8.32569855e-01,\n",
       "          7.55749574e-01,   6.66769001e-01,   5.67059864e-01,\n",
       "          4.58226522e-01,   3.42020143e-01,   2.20310533e-01,\n",
       "          9.50560433e-02,  -3.17279335e-02,  -1.58001396e-01,\n",
       "         -2.81732557e-01,  -4.00930535e-01,  -5.13677392e-01,\n",
       "         -6.18158986e-01,  -7.12694171e-01,  -7.95761841e-01,\n",
       "         -8.66025404e-01,  -9.22354294e-01,  -9.63842159e-01,\n",
       "         -9.89821442e-01,  -9.99874128e-01,  -9.93838464e-01,\n",
       "         -9.71811568e-01,  -9.34147860e-01,  -8.81453363e-01,\n",
       "         -8.14575952e-01,  -7.34591709e-01,  -6.42787610e-01,\n",
       "         -5.40640817e-01,  -4.29794912e-01,  -3.12033446e-01,\n",
       "         -1.89251244e-01,  -6.34239197e-02,   6.34239197e-02,\n",
       "          1.89251244e-01,   3.12033446e-01,   4.29794912e-01,\n",
       "          5.40640817e-01,   6.42787610e-01,   7.34591709e-01,\n",
       "          8.14575952e-01,   8.81453363e-01,   9.34147860e-01,\n",
       "          9.71811568e-01,   9.93838464e-01,   9.99874128e-01,\n",
       "          9.89821442e-01,   9.63842159e-01,   9.22354294e-01,\n",
       "          8.66025404e-01,   7.95761841e-01,   7.12694171e-01,\n",
       "          6.18158986e-01,   5.13677392e-01,   4.00930535e-01,\n",
       "          2.81732557e-01,   1.58001396e-01,   3.17279335e-02,\n",
       "         -9.50560433e-02,  -2.20310533e-01,  -3.42020143e-01,\n",
       "         -4.58226522e-01,  -5.67059864e-01,  -6.66769001e-01,\n",
       "         -7.55749574e-01,  -8.32569855e-01,  -8.95993774e-01,\n",
       "         -9.45000819e-01,  -9.78802446e-01,  -9.96854776e-01,\n",
       "         -9.98867339e-01,  -9.84807753e-01,  -9.54902241e-01,\n",
       "         -9.09631995e-01,  -8.49725430e-01,  -7.76146464e-01,\n",
       "         -6.90079011e-01,  -5.92907929e-01,  -4.86196736e-01,\n",
       "         -3.71662456e-01,  -2.51147987e-01,  -1.26592454e-01,\n",
       "         -2.44929360e-16]))"
      ]
     },
     "execution_count": 27,
     "metadata": {},
     "output_type": "execute_result"
    }
   ],
   "source": [
    "x , y"
   ]
  },
  {
   "cell_type": "code",
   "execution_count": null,
   "metadata": {
    "collapsed": true
   },
   "outputs": [],
   "source": []
  },
  {
   "cell_type": "code",
   "execution_count": 41,
   "metadata": {},
   "outputs": [
    {
     "data": {
      "text/plain": [
       "array([[ -6.28318531e+00,   2.44929360e-16],\n",
       "       [ -6.15625227e+00,   1.26592454e-01],\n",
       "       [ -6.02931923e+00,   2.51147987e-01],\n",
       "       [ -5.90238620e+00,   3.71662456e-01],\n",
       "       [ -5.77545316e+00,   4.86196736e-01],\n",
       "       [ -5.64852012e+00,   5.92907929e-01],\n",
       "       [ -5.52158709e+00,   6.90079011e-01],\n",
       "       [ -5.39465405e+00,   7.76146464e-01],\n",
       "       [ -5.26772102e+00,   8.49725430e-01],\n",
       "       [ -5.14078798e+00,   9.09631995e-01],\n",
       "       [ -5.01385494e+00,   9.54902241e-01],\n",
       "       [ -4.88692191e+00,   9.84807753e-01],\n",
       "       [ -4.75998887e+00,   9.98867339e-01],\n",
       "       [ -4.63305583e+00,   9.96854776e-01],\n",
       "       [ -4.50612280e+00,   9.78802446e-01],\n",
       "       [ -4.37918976e+00,   9.45000819e-01],\n",
       "       [ -4.25225672e+00,   8.95993774e-01],\n",
       "       [ -4.12532369e+00,   8.32569855e-01],\n",
       "       [ -3.99839065e+00,   7.55749574e-01],\n",
       "       [ -3.87145761e+00,   6.66769001e-01],\n",
       "       [ -3.74452458e+00,   5.67059864e-01],\n",
       "       [ -3.61759154e+00,   4.58226522e-01],\n",
       "       [ -3.49065850e+00,   3.42020143e-01],\n",
       "       [ -3.36372547e+00,   2.20310533e-01],\n",
       "       [ -3.23679243e+00,   9.50560433e-02],\n",
       "       [ -3.10985939e+00,  -3.17279335e-02],\n",
       "       [ -2.98292636e+00,  -1.58001396e-01],\n",
       "       [ -2.85599332e+00,  -2.81732557e-01],\n",
       "       [ -2.72906028e+00,  -4.00930535e-01],\n",
       "       [ -2.60212725e+00,  -5.13677392e-01],\n",
       "       [ -2.47519421e+00,  -6.18158986e-01],\n",
       "       [ -2.34826118e+00,  -7.12694171e-01],\n",
       "       [ -2.22132814e+00,  -7.95761841e-01],\n",
       "       [ -2.09439510e+00,  -8.66025404e-01],\n",
       "       [ -1.96746207e+00,  -9.22354294e-01],\n",
       "       [ -1.84052903e+00,  -9.63842159e-01],\n",
       "       [ -1.71359599e+00,  -9.89821442e-01],\n",
       "       [ -1.58666296e+00,  -9.99874128e-01],\n",
       "       [ -1.45972992e+00,  -9.93838464e-01],\n",
       "       [ -1.33279688e+00,  -9.71811568e-01],\n",
       "       [ -1.20586385e+00,  -9.34147860e-01],\n",
       "       [ -1.07893081e+00,  -8.81453363e-01],\n",
       "       [ -9.51997774e-01,  -8.14575952e-01],\n",
       "       [ -8.25064737e-01,  -7.34591709e-01],\n",
       "       [ -6.98131701e-01,  -6.42787610e-01],\n",
       "       [ -5.71198664e-01,  -5.40640817e-01],\n",
       "       [ -4.44265628e-01,  -4.29794912e-01],\n",
       "       [ -3.17332591e-01,  -3.12033446e-01],\n",
       "       [ -1.90399555e-01,  -1.89251244e-01],\n",
       "       [ -6.34665183e-02,  -6.34239197e-02],\n",
       "       [  6.34665183e-02,   6.34239197e-02],\n",
       "       [  1.90399555e-01,   1.89251244e-01],\n",
       "       [  3.17332591e-01,   3.12033446e-01],\n",
       "       [  4.44265628e-01,   4.29794912e-01],\n",
       "       [  5.71198664e-01,   5.40640817e-01],\n",
       "       [  6.98131701e-01,   6.42787610e-01],\n",
       "       [  8.25064737e-01,   7.34591709e-01],\n",
       "       [  9.51997774e-01,   8.14575952e-01],\n",
       "       [  1.07893081e+00,   8.81453363e-01],\n",
       "       [  1.20586385e+00,   9.34147860e-01],\n",
       "       [  1.33279688e+00,   9.71811568e-01],\n",
       "       [  1.45972992e+00,   9.93838464e-01],\n",
       "       [  1.58666296e+00,   9.99874128e-01],\n",
       "       [  1.71359599e+00,   9.89821442e-01],\n",
       "       [  1.84052903e+00,   9.63842159e-01],\n",
       "       [  1.96746207e+00,   9.22354294e-01],\n",
       "       [  2.09439510e+00,   8.66025404e-01],\n",
       "       [  2.22132814e+00,   7.95761841e-01],\n",
       "       [  2.34826118e+00,   7.12694171e-01],\n",
       "       [  2.47519421e+00,   6.18158986e-01],\n",
       "       [  2.60212725e+00,   5.13677392e-01],\n",
       "       [  2.72906028e+00,   4.00930535e-01],\n",
       "       [  2.85599332e+00,   2.81732557e-01],\n",
       "       [  2.98292636e+00,   1.58001396e-01],\n",
       "       [  3.10985939e+00,   3.17279335e-02],\n",
       "       [  3.23679243e+00,  -9.50560433e-02],\n",
       "       [  3.36372547e+00,  -2.20310533e-01],\n",
       "       [  3.49065850e+00,  -3.42020143e-01],\n",
       "       [  3.61759154e+00,  -4.58226522e-01],\n",
       "       [  3.74452458e+00,  -5.67059864e-01],\n",
       "       [  3.87145761e+00,  -6.66769001e-01],\n",
       "       [  3.99839065e+00,  -7.55749574e-01],\n",
       "       [  4.12532369e+00,  -8.32569855e-01],\n",
       "       [  4.25225672e+00,  -8.95993774e-01],\n",
       "       [  4.37918976e+00,  -9.45000819e-01],\n",
       "       [  4.50612280e+00,  -9.78802446e-01],\n",
       "       [  4.63305583e+00,  -9.96854776e-01],\n",
       "       [  4.75998887e+00,  -9.98867339e-01],\n",
       "       [  4.88692191e+00,  -9.84807753e-01],\n",
       "       [  5.01385494e+00,  -9.54902241e-01],\n",
       "       [  5.14078798e+00,  -9.09631995e-01],\n",
       "       [  5.26772102e+00,  -8.49725430e-01],\n",
       "       [  5.39465405e+00,  -7.76146464e-01],\n",
       "       [  5.52158709e+00,  -6.90079011e-01],\n",
       "       [  5.64852012e+00,  -5.92907929e-01],\n",
       "       [  5.77545316e+00,  -4.86196736e-01],\n",
       "       [  5.90238620e+00,  -3.71662456e-01],\n",
       "       [  6.02931923e+00,  -2.51147987e-01],\n",
       "       [  6.15625227e+00,  -1.26592454e-01],\n",
       "       [  6.28318531e+00,  -2.44929360e-16]])"
      ]
     },
     "execution_count": 41,
     "metadata": {},
     "output_type": "execute_result"
    }
   ],
   "source": [
    "# Arreglo z con columnas x, y\n",
    "z = np.stack((x,y), axis=1) \n",
    "z"
   ]
  },
  {
   "cell_type": "code",
   "execution_count": 31,
   "metadata": {},
   "outputs": [
    {
     "data": {
      "text/plain": [
       "array([[ -6.28318531e+00,   2.44929360e-16],\n",
       "       [ -6.15625227e+00,   1.26592454e-01],\n",
       "       [ -6.02931923e+00,   2.51147987e-01],\n",
       "       [ -5.90238620e+00,   3.71662456e-01],\n",
       "       [ -5.77545316e+00,   4.86196736e-01],\n",
       "       [ -5.64852012e+00,   5.92907929e-01],\n",
       "       [ -5.52158709e+00,   6.90079011e-01],\n",
       "       [ -5.39465405e+00,   7.76146464e-01],\n",
       "       [ -5.26772102e+00,   8.49725430e-01],\n",
       "       [ -5.14078798e+00,   9.09631995e-01],\n",
       "       [ -5.01385494e+00,   9.54902241e-01],\n",
       "       [ -4.88692191e+00,   9.84807753e-01],\n",
       "       [ -4.75998887e+00,   9.98867339e-01],\n",
       "       [ -4.63305583e+00,   9.96854776e-01],\n",
       "       [ -4.50612280e+00,   9.78802446e-01],\n",
       "       [ -4.37918976e+00,   9.45000819e-01],\n",
       "       [ -4.25225672e+00,   8.95993774e-01],\n",
       "       [ -4.12532369e+00,   8.32569855e-01],\n",
       "       [ -3.99839065e+00,   7.55749574e-01],\n",
       "       [ -3.87145761e+00,   6.66769001e-01],\n",
       "       [ -3.74452458e+00,   5.67059864e-01],\n",
       "       [ -3.61759154e+00,   4.58226522e-01],\n",
       "       [ -3.49065850e+00,   3.42020143e-01],\n",
       "       [ -3.36372547e+00,   2.20310533e-01],\n",
       "       [ -3.23679243e+00,   9.50560433e-02],\n",
       "       [ -3.10985939e+00,  -3.17279335e-02],\n",
       "       [ -2.98292636e+00,  -1.58001396e-01],\n",
       "       [ -2.85599332e+00,  -2.81732557e-01],\n",
       "       [ -2.72906028e+00,  -4.00930535e-01],\n",
       "       [ -2.60212725e+00,  -5.13677392e-01],\n",
       "       [ -2.47519421e+00,  -6.18158986e-01],\n",
       "       [ -2.34826118e+00,  -7.12694171e-01],\n",
       "       [ -2.22132814e+00,  -7.95761841e-01],\n",
       "       [ -2.09439510e+00,  -8.66025404e-01],\n",
       "       [ -1.96746207e+00,  -9.22354294e-01],\n",
       "       [ -1.84052903e+00,  -9.63842159e-01],\n",
       "       [ -1.71359599e+00,  -9.89821442e-01],\n",
       "       [ -1.58666296e+00,  -9.99874128e-01],\n",
       "       [ -1.45972992e+00,  -9.93838464e-01],\n",
       "       [ -1.33279688e+00,  -9.71811568e-01],\n",
       "       [ -1.20586385e+00,  -9.34147860e-01],\n",
       "       [ -1.07893081e+00,  -8.81453363e-01],\n",
       "       [ -9.51997774e-01,  -8.14575952e-01],\n",
       "       [ -8.25064737e-01,  -7.34591709e-01],\n",
       "       [ -6.98131701e-01,  -6.42787610e-01],\n",
       "       [ -5.71198664e-01,  -5.40640817e-01],\n",
       "       [ -4.44265628e-01,  -4.29794912e-01],\n",
       "       [ -3.17332591e-01,  -3.12033446e-01],\n",
       "       [ -1.90399555e-01,  -1.89251244e-01],\n",
       "       [ -6.34665183e-02,  -6.34239197e-02],\n",
       "       [  6.34665183e-02,   6.34239197e-02],\n",
       "       [  1.90399555e-01,   1.89251244e-01],\n",
       "       [  3.17332591e-01,   3.12033446e-01],\n",
       "       [  4.44265628e-01,   4.29794912e-01],\n",
       "       [  5.71198664e-01,   5.40640817e-01],\n",
       "       [  6.98131701e-01,   6.42787610e-01],\n",
       "       [  8.25064737e-01,   7.34591709e-01],\n",
       "       [  9.51997774e-01,   8.14575952e-01],\n",
       "       [  1.07893081e+00,   8.81453363e-01],\n",
       "       [  1.20586385e+00,   9.34147860e-01],\n",
       "       [  1.33279688e+00,   9.71811568e-01],\n",
       "       [  1.45972992e+00,   9.93838464e-01],\n",
       "       [  1.58666296e+00,   9.99874128e-01],\n",
       "       [  1.71359599e+00,   9.89821442e-01],\n",
       "       [  1.84052903e+00,   9.63842159e-01],\n",
       "       [  1.96746207e+00,   9.22354294e-01],\n",
       "       [  2.09439510e+00,   8.66025404e-01],\n",
       "       [  2.22132814e+00,   7.95761841e-01],\n",
       "       [  2.34826118e+00,   7.12694171e-01],\n",
       "       [  2.47519421e+00,   6.18158986e-01],\n",
       "       [  2.60212725e+00,   5.13677392e-01],\n",
       "       [  2.72906028e+00,   4.00930535e-01],\n",
       "       [  2.85599332e+00,   2.81732557e-01],\n",
       "       [  2.98292636e+00,   1.58001396e-01],\n",
       "       [  3.10985939e+00,   3.17279335e-02],\n",
       "       [  3.23679243e+00,  -9.50560433e-02],\n",
       "       [  3.36372547e+00,  -2.20310533e-01],\n",
       "       [  3.49065850e+00,  -3.42020143e-01],\n",
       "       [  3.61759154e+00,  -4.58226522e-01],\n",
       "       [  3.74452458e+00,  -5.67059864e-01],\n",
       "       [  3.87145761e+00,  -6.66769001e-01],\n",
       "       [  3.99839065e+00,  -7.55749574e-01],\n",
       "       [  4.12532369e+00,  -8.32569855e-01],\n",
       "       [  4.25225672e+00,  -8.95993774e-01],\n",
       "       [  4.37918976e+00,  -9.45000819e-01],\n",
       "       [  4.50612280e+00,  -9.78802446e-01],\n",
       "       [  4.63305583e+00,  -9.96854776e-01],\n",
       "       [  4.75998887e+00,  -9.98867339e-01],\n",
       "       [  4.88692191e+00,  -9.84807753e-01],\n",
       "       [  5.01385494e+00,  -9.54902241e-01],\n",
       "       [  5.14078798e+00,  -9.09631995e-01],\n",
       "       [  5.26772102e+00,  -8.49725430e-01],\n",
       "       [  5.39465405e+00,  -7.76146464e-01],\n",
       "       [  5.52158709e+00,  -6.90079011e-01],\n",
       "       [  5.64852012e+00,  -5.92907929e-01],\n",
       "       [  5.77545316e+00,  -4.86196736e-01],\n",
       "       [  5.90238620e+00,  -3.71662456e-01],\n",
       "       [  6.02931923e+00,  -2.51147987e-01],\n",
       "       [  6.15625227e+00,  -1.26592454e-01],\n",
       "       [  6.28318531e+00,  -2.44929360e-16]])"
      ]
     },
     "execution_count": 31,
     "metadata": {},
     "output_type": "execute_result"
    }
   ],
   "source": [
    "# Segundo metodo\n",
    "z = np.hstack((x[:,np.newaxis],y[:,np.newaxis]))\n",
    "z"
   ]
  },
  {
   "cell_type": "code",
   "execution_count": 32,
   "metadata": {},
   "outputs": [],
   "source": [
    "np.savetxt(\"cuadratica-ruido.txt\", z)"
   ]
  },
  {
   "cell_type": "code",
   "execution_count": 113,
   "metadata": {},
   "outputs": [
    {
     "name": "stdout",
     "output_type": "stream",
     "text": [
      "-5.000000000000000000e+00 2.824702562420766583e+01\r\n",
      "-4.795918367346938993e+00 2.647248378150305115e+01\r\n",
      "-4.591836734693877986e+00 2.385184173119323248e+01\r\n",
      "-4.387755102040816091e+00 2.375468923151409228e+01\r\n",
      "-4.183673469387755084e+00 1.994246103445604490e+01\r\n",
      "-3.979591836734694077e+00 1.603053162724983238e+01\r\n",
      "-3.775510204081632626e+00 1.894884991956936915e+01\r\n",
      "-3.571428571428571175e+00 1.522097287953479139e+01\r\n",
      "-3.367346938775510168e+00 1.629456241638368397e+01\r\n",
      "-3.163265306122449161e+00 1.157554023382974506e+01\r\n",
      "-2.959183673469387710e+00 1.089748651161886706e+01\r\n",
      "-2.755102040816326259e+00 1.176946390905610684e+01\r\n",
      "-2.551020408163265252e+00 7.632008793374686739e+00\r\n",
      "-2.346938775510204245e+00 5.568531201749807202e+00\r\n",
      "-2.142857142857142794e+00 8.530699829161520142e+00\r\n",
      "-1.938775510204081343e+00 5.264024433670237535e+00\r\n",
      "-1.734693877551020336e+00 6.051486889151954429e+00\r\n",
      "-1.530612244897959329e+00 6.197980440787007161e+00\r\n",
      "-1.326530612244897878e+00 3.860756806616196801e+00\r\n",
      "-1.122448979591836427e+00 5.585454460204204885e+00\r\n",
      "-9.183673469387754196e-01 1.110933667200340924e+00\r\n",
      "-7.142857142857144126e-01 2.333715771550480156e+00\r\n",
      "-5.102040816326525174e-01 2.868320306634464689e+00\r\n",
      "-3.061224489795915105e-01 2.398630915603418234e+00\r\n",
      "-1.020408163265305035e-01 4.335130720253237868e+00\r\n",
      "1.020408163265305035e-01 2.312182009856941889e+00\r\n",
      "3.061224489795915105e-01 2.445479571020570120e+00\r\n",
      "5.102040816326534056e-01 4.251952295242000801e+00\r\n",
      "7.142857142857144126e-01 8.576818989232950496e-01\r\n",
      "9.183673469387754196e-01 4.479146831473111767e+00\r\n",
      "1.122448979591837315e+00 3.968205881682113745e+00\r\n",
      "1.326530612244898322e+00 6.423799835472181918e+00\r\n",
      "1.530612244897959329e+00 5.614487529912880248e+00\r\n",
      "1.734693877551020336e+00 5.630500681861990486e+00\r\n",
      "1.938775510204081343e+00 5.733306962408925678e+00\r\n",
      "2.142857142857143238e+00 7.960458525412763109e+00\r\n",
      "2.346938775510204245e+00 8.298884777030480109e+00\r\n",
      "2.551020408163265252e+00 8.997048583115015319e+00\r\n",
      "2.755102040816327147e+00 9.271205646681103474e+00\r\n",
      "2.959183673469388154e+00 1.117557660184447244e+01\r\n",
      "3.163265306122449161e+00 1.039082069834641331e+01\r\n",
      "3.367346938775510168e+00 1.247633002061017393e+01\r\n",
      "3.571428571428571175e+00 1.763901878040118376e+01\r\n",
      "3.775510204081632182e+00 1.826512429422394845e+01\r\n",
      "3.979591836734694965e+00 1.604881155333788811e+01\r\n",
      "4.183673469387755972e+00 1.874257504581618505e+01\r\n",
      "4.387755102040816979e+00 2.099108875662204099e+01\r\n",
      "4.591836734693877986e+00 2.387880080401864547e+01\r\n",
      "4.795918367346938993e+00 2.358272932452515036e+01\r\n",
      "5.000000000000000000e+00 2.692471953440272969e+01\r\n"
     ]
    }
   ],
   "source": [
    "# Comando magico cat - funciona en windows? (intenta %more)\n",
    "%cat cuadratica-ruido.txt"
   ]
  },
  {
   "cell_type": "code",
   "execution_count": 36,
   "metadata": {},
   "outputs": [],
   "source": [
    "np.savetxt(\"cuadratica-ruido.txt\", z, fmt=\"%10.5f\", delimiter=\",\", header=\"X, Y\")"
   ]
  },
  {
   "cell_type": "code",
   "execution_count": 37,
   "metadata": {},
   "outputs": [
    {
     "name": "stdout",
     "output_type": "stream",
     "text": [
      "cuadratica-ruido.txt\r\n",
      "dask-dataframes-demo.ipynb\r\n",
      "\u001b[0m\u001b[01;34mdata\u001b[0m/\r\n",
      "extra-tabla-equivalencias-matlab-numpy.ipynb\r\n",
      "\u001b[01;34mimages\u001b[0m/\r\n",
      "LICENSE\r\n",
      "nb00-python-basics.ipynb\r\n",
      "nb01-empezando-python-cientifico.ipynb\r\n",
      "nb02-numpy-basics.ipynb\r\n",
      "nb03-timeseries-numpy.ipynb\r\n",
      "nb05-pandas-demo-ejercicios.ipynb\r\n",
      "nb05-pandas-demo-ejercicios-SOLUCIONES.ipynb\r\n",
      "nb06-pandas-demo-ejercicios.ipynb\r\n",
      "nb06-pandas-demo-ejercicios-SOLUCIONES.ipynb\r\n",
      "nb07-pandas-demo-ejercicios.ipynb\r\n",
      "nb07-pandas-demo-ejercicios-SOLUCIONES.ipynb\r\n",
      "README.md\r\n",
      "\u001b[01;35msincos.png\u001b[0m\r\n",
      "texto.txt\r\n"
     ]
    }
   ],
   "source": [
    "%ls"
   ]
  },
  {
   "cell_type": "code",
   "execution_count": 34,
   "metadata": {
    "collapsed": true
   },
   "outputs": [],
   "source": [
    "np.savetxt?"
   ]
  },
  {
   "cell_type": "code",
   "execution_count": 38,
   "metadata": {},
   "outputs": [
    {
     "data": {
      "text/plain": [
       "array([[-6.28319,  0.     ],\n",
       "       [-6.15625,  0.12659],\n",
       "       [-6.02932,  0.25115],\n",
       "       [-5.90239,  0.37166],\n",
       "       [-5.77545,  0.4862 ],\n",
       "       [-5.64852,  0.59291],\n",
       "       [-5.52159,  0.69008],\n",
       "       [-5.39465,  0.77615],\n",
       "       [-5.26772,  0.84973],\n",
       "       [-5.14079,  0.90963],\n",
       "       [-5.01385,  0.9549 ],\n",
       "       [-4.88692,  0.98481],\n",
       "       [-4.75999,  0.99887],\n",
       "       [-4.63306,  0.99685],\n",
       "       [-4.50612,  0.9788 ],\n",
       "       [-4.37919,  0.945  ],\n",
       "       [-4.25226,  0.89599],\n",
       "       [-4.12532,  0.83257],\n",
       "       [-3.99839,  0.75575],\n",
       "       [-3.87146,  0.66677],\n",
       "       [-3.74452,  0.56706],\n",
       "       [-3.61759,  0.45823],\n",
       "       [-3.49066,  0.34202],\n",
       "       [-3.36373,  0.22031],\n",
       "       [-3.23679,  0.09506],\n",
       "       [-3.10986, -0.03173],\n",
       "       [-2.98293, -0.158  ],\n",
       "       [-2.85599, -0.28173],\n",
       "       [-2.72906, -0.40093],\n",
       "       [-2.60213, -0.51368],\n",
       "       [-2.47519, -0.61816],\n",
       "       [-2.34826, -0.71269],\n",
       "       [-2.22133, -0.79576],\n",
       "       [-2.0944 , -0.86603],\n",
       "       [-1.96746, -0.92235],\n",
       "       [-1.84053, -0.96384],\n",
       "       [-1.7136 , -0.98982],\n",
       "       [-1.58666, -0.99987],\n",
       "       [-1.45973, -0.99384],\n",
       "       [-1.3328 , -0.97181],\n",
       "       [-1.20586, -0.93415],\n",
       "       [-1.07893, -0.88145],\n",
       "       [-0.952  , -0.81458],\n",
       "       [-0.82506, -0.73459],\n",
       "       [-0.69813, -0.64279],\n",
       "       [-0.5712 , -0.54064],\n",
       "       [-0.44427, -0.42979],\n",
       "       [-0.31733, -0.31203],\n",
       "       [-0.1904 , -0.18925],\n",
       "       [-0.06347, -0.06342],\n",
       "       [ 0.06347,  0.06342],\n",
       "       [ 0.1904 ,  0.18925],\n",
       "       [ 0.31733,  0.31203],\n",
       "       [ 0.44427,  0.42979],\n",
       "       [ 0.5712 ,  0.54064],\n",
       "       [ 0.69813,  0.64279],\n",
       "       [ 0.82506,  0.73459],\n",
       "       [ 0.952  ,  0.81458],\n",
       "       [ 1.07893,  0.88145],\n",
       "       [ 1.20586,  0.93415],\n",
       "       [ 1.3328 ,  0.97181],\n",
       "       [ 1.45973,  0.99384],\n",
       "       [ 1.58666,  0.99987],\n",
       "       [ 1.7136 ,  0.98982],\n",
       "       [ 1.84053,  0.96384],\n",
       "       [ 1.96746,  0.92235],\n",
       "       [ 2.0944 ,  0.86603],\n",
       "       [ 2.22133,  0.79576],\n",
       "       [ 2.34826,  0.71269],\n",
       "       [ 2.47519,  0.61816],\n",
       "       [ 2.60213,  0.51368],\n",
       "       [ 2.72906,  0.40093],\n",
       "       [ 2.85599,  0.28173],\n",
       "       [ 2.98293,  0.158  ],\n",
       "       [ 3.10986,  0.03173],\n",
       "       [ 3.23679, -0.09506],\n",
       "       [ 3.36373, -0.22031],\n",
       "       [ 3.49066, -0.34202],\n",
       "       [ 3.61759, -0.45823],\n",
       "       [ 3.74452, -0.56706],\n",
       "       [ 3.87146, -0.66677],\n",
       "       [ 3.99839, -0.75575],\n",
       "       [ 4.12532, -0.83257],\n",
       "       [ 4.25226, -0.89599],\n",
       "       [ 4.37919, -0.945  ],\n",
       "       [ 4.50612, -0.9788 ],\n",
       "       [ 4.63306, -0.99685],\n",
       "       [ 4.75999, -0.99887],\n",
       "       [ 4.88692, -0.98481],\n",
       "       [ 5.01385, -0.9549 ],\n",
       "       [ 5.14079, -0.90963],\n",
       "       [ 5.26772, -0.84973],\n",
       "       [ 5.39465, -0.77615],\n",
       "       [ 5.52159, -0.69008],\n",
       "       [ 5.64852, -0.59291],\n",
       "       [ 5.77545, -0.4862 ],\n",
       "       [ 5.90239, -0.37166],\n",
       "       [ 6.02932, -0.25115],\n",
       "       [ 6.15625, -0.12659],\n",
       "       [ 6.28319, -0.     ]])"
      ]
     },
     "execution_count": 38,
     "metadata": {},
     "output_type": "execute_result"
    }
   ],
   "source": [
    "zz = np.loadtxt(\"cuadratica-ruido.txt\", delimiter=\",\")\n",
    "zz "
   ]
  },
  {
   "cell_type": "code",
   "execution_count": 39,
   "metadata": {},
   "outputs": [
    {
     "data": {
      "text/plain": [
       "array([-6.28319,  0.     ])"
      ]
     },
     "execution_count": 39,
     "metadata": {},
     "output_type": "execute_result"
    }
   ],
   "source": [
    "zz[0]"
   ]
  },
  {
   "cell_type": "code",
   "execution_count": null,
   "metadata": {
    "collapsed": true
   },
   "outputs": [],
   "source": []
  },
  {
   "cell_type": "markdown",
   "metadata": {},
   "source": [
    "**Ejercicio** Como podemos extraer ahora los elementos de cada columna de la matriz que salvamos.\n",
    "\n",
    "-----"
   ]
  },
  {
   "cell_type": "code",
   "execution_count": null,
   "metadata": {
    "collapsed": true
   },
   "outputs": [],
   "source": []
  },
  {
   "cell_type": "markdown",
   "metadata": {},
   "source": [
    "## Documentando nuestro codigo en el entorno Notebook \"Literate programming\"\n",
    "Podemos agregar informacion complementaria utilizando un lenguaje ligero para hacer anotaciones llamado **markdown**.\n",
    "\n",
    "Markdown nos permite escribir en *italicas*, poner texto en **negritas**, \n",
    "- hacer listas, \n",
    "- definir titulos, \n",
    "- tablas, resaltar algun texto:.\n",
    "\n",
    "> Alguna frase\n",
    "\n",
    "Resulta util para el computo cientifico poder incluir en celdas con Markup formulas escritas con LaTeX, encasillando las ecuaciones entre `$`, y `$$` para parrafos.\n",
    "\n",
    "Por ejemplo $y=x^2$ , Una mas complicada seria:\n",
    "$$\n",
    "\\mathcal{N}(x)=Ce^{-x^2}\n",
    "$$delimiter"
   ]
  },
  {
   "cell_type": "markdown",
   "metadata": {},
   "source": [
    "## Resumen\n",
    "Hemos revisado de manera general los componentes fundamentales del paquete SciPy\n",
    "\n",
    "- El IPython Notebook\n",
    "    - Un entorno que facilita los flujos de trabajo de computo\n",
    "    - Soporte para visualizacion interactiva\n",
    "    - Posibilidad de exportar en distintos formatos\n",
    "- numpy\n",
    "    - Manejo de vectores, matrices y arreglos de n-dimensiones\n",
    "    - Provee de funciones vectorizadas optimizadas para arreglos    \n",
    "\n",
    "- matplotlib\n",
    "    - Flexibilidad\n",
    "    - Calidad para publicaciones\n"
   ]
  },
  {
   "cell_type": "code",
   "execution_count": null,
   "metadata": {
    "collapsed": true
   },
   "outputs": [],
   "source": []
  }
 ],
 "metadata": {
  "anaconda-cloud": {},
  "celltoolbar": "Raw Cell Format",
  "kernelspec": {
   "display_name": "Python 3 (ipykernel)",
   "language": "python",
   "name": "python3"
  },
  "language_info": {
   "codemirror_mode": {
    "name": "ipython",
    "version": 3
   },
   "file_extension": ".py",
   "mimetype": "text/x-python",
   "name": "python",
   "nbconvert_exporter": "python",
   "pygments_lexer": "ipython3",
   "version": "3.8.5"
  },
  "nbpresent": {
   "slides": {
    "017af810-e7c1-4ab4-a2f1-38fa59c57093": {
     "id": "017af810-e7c1-4ab4-a2f1-38fa59c57093",
     "prev": "cc979dff-2853-4ef1-aabe-9a2128500086",
     "regions": {
      "d14ab94b-0158-45f0-a4fc-12a8ab81ccdd": {
       "attrs": {
        "height": 0.8,
        "width": 0.8,
        "x": 0.1,
        "y": 0.1
       },
       "content": {
        "cell": "925a95fe-d944-4b8f-98a3-5b1a88146e92",
        "part": "whole"
       },
       "id": "d14ab94b-0158-45f0-a4fc-12a8ab81ccdd"
      }
     }
    },
    "08db31b8-96cd-4b8c-9e83-b1848ca3291c": {
     "id": "08db31b8-96cd-4b8c-9e83-b1848ca3291c",
     "prev": "4f36bb32-1eef-4d70-bc9b-6838089c0a02",
     "regions": {
      "802e1941-f657-42d8-8a6a-4cf37fe747c8": {
       "attrs": {
        "height": 0.8,
        "width": 0.8,
        "x": 0.1,
        "y": 0.1
       },
       "content": {
        "cell": "c2c0d875-6f19-4f16-9dc5-25dc487204ed",
        "part": "whole"
       },
       "id": "802e1941-f657-42d8-8a6a-4cf37fe747c8"
      }
     }
    },
    "10945771-cd2b-4ad5-91c4-3b8256fb914a": {
     "id": "10945771-cd2b-4ad5-91c4-3b8256fb914a",
     "prev": null,
     "regions": {
      "0abb7c14-77fc-4dfb-a060-f357156e9030": {
       "attrs": {
        "height": 0.8,
        "width": 0.8,
        "x": 0.1,
        "y": 0.1
       },
       "content": {
        "cell": "570d5f36-8d2f-40e0-a55d-2541976f39f5",
        "part": "whole"
       },
       "id": "0abb7c14-77fc-4dfb-a060-f357156e9030"
      }
     }
    },
    "162302a0-08b6-435f-8f61-feaa9b477c93": {
     "id": "162302a0-08b6-435f-8f61-feaa9b477c93",
     "prev": "ff91a8de-d9be-4c0e-a844-5bc56f28fe06",
     "regions": {
      "74887246-ef94-4375-a5c2-3c619ba00b33": {
       "attrs": {
        "height": 0.8,
        "width": 0.8,
        "x": 0.1,
        "y": 0.1
       },
       "content": {
        "cell": "40aed528-1d6f-472d-9c59-13fa7b3ccbd3",
        "part": "whole"
       },
       "id": "74887246-ef94-4375-a5c2-3c619ba00b33"
      }
     }
    },
    "1a005aa6-b17d-4444-8510-657c82a638a5": {
     "id": "1a005aa6-b17d-4444-8510-657c82a638a5",
     "prev": "10945771-cd2b-4ad5-91c4-3b8256fb914a",
     "regions": {
      "a46cd02f-0470-4cfc-bf20-5e62bb73905b": {
       "attrs": {
        "height": 0.8,
        "width": 0.8,
        "x": 0.1,
        "y": 0.1
       },
       "content": {
        "cell": "8feae209-830c-4f75-be7f-8220417846f2",
        "part": "whole"
       },
       "id": "a46cd02f-0470-4cfc-bf20-5e62bb73905b"
      }
     }
    },
    "1a9575b0-ba56-452a-b4e9-7ae5dacf0b3e": {
     "id": "1a9575b0-ba56-452a-b4e9-7ae5dacf0b3e",
     "prev": "732b2899-029c-4bee-aac6-a1539bab0cf8",
     "regions": {
      "30f6d204-6fc6-4164-98c7-6a6d6534e613": {
       "attrs": {
        "height": 0.8,
        "width": 0.8,
        "x": 0.1,
        "y": 0.1
       },
       "content": {
        "cell": "13c57300-0fcb-4579-a4d3-afc1f2c9ab55",
        "part": "whole"
       },
       "id": "30f6d204-6fc6-4164-98c7-6a6d6534e613"
      }
     }
    },
    "1c72e38d-7e8a-4259-85ee-85e0777c412b": {
     "id": "1c72e38d-7e8a-4259-85ee-85e0777c412b",
     "prev": "b7a4eb2f-5c0a-4492-ab25-a0e6996264be",
     "regions": {
      "a68de963-7b99-4023-8024-f6703d61019a": {
       "attrs": {
        "height": 0.8,
        "width": 0.8,
        "x": 0.1,
        "y": 0.1
       },
       "content": {
        "cell": "1e695bca-d65c-4362-8365-5480cf678b15",
        "part": "whole"
       },
       "id": "a68de963-7b99-4023-8024-f6703d61019a"
      }
     }
    },
    "2471e03c-8cdd-430c-bf73-c28d2b490df8": {
     "id": "2471e03c-8cdd-430c-bf73-c28d2b490df8",
     "prev": "39000ac6-2125-4317-8668-b3a507cc5bef",
     "regions": {
      "0c10659a-1383-4747-80a1-fe0b1d648b04": {
       "attrs": {
        "height": 0.8,
        "width": 0.8,
        "x": 0.1,
        "y": 0.1
       },
       "content": {
        "cell": "2357aaa7-515c-4d8c-b3a9-52a0fa9a5865",
        "part": "whole"
       },
       "id": "0c10659a-1383-4747-80a1-fe0b1d648b04"
      }
     }
    },
    "24d6deef-a686-469c-96e1-964c5589168f": {
     "id": "24d6deef-a686-469c-96e1-964c5589168f",
     "prev": "7170a560-5832-4f31-8b85-90be791ea066",
     "regions": {
      "59072491-946d-4b05-ae7b-bfe7013f943e": {
       "attrs": {
        "height": 0.8,
        "width": 0.8,
        "x": 0.1,
        "y": 0.1
       },
       "content": {
        "cell": "0433d528-4717-49e2-880e-1105c48790db",
        "part": "whole"
       },
       "id": "59072491-946d-4b05-ae7b-bfe7013f943e"
      }
     }
    },
    "2e6d092a-dc4c-4aa0-a11d-cb36654b5608": {
     "id": "2e6d092a-dc4c-4aa0-a11d-cb36654b5608",
     "prev": "d8788ff8-432f-4450-b02b-a61cb5033cc1",
     "regions": {
      "99c320d8-adcc-4d95-8cb1-4298f8c90c14": {
       "attrs": {
        "height": 0.8,
        "width": 0.8,
        "x": 0.1,
        "y": 0.1
       },
       "content": {
        "cell": "c7a47147-2486-41bf-ae03-30e55887beee",
        "part": "whole"
       },
       "id": "99c320d8-adcc-4d95-8cb1-4298f8c90c14"
      }
     }
    },
    "317194c4-dadd-440d-8e85-5d6231af92a7": {
     "id": "317194c4-dadd-440d-8e85-5d6231af92a7",
     "prev": "162302a0-08b6-435f-8f61-feaa9b477c93",
     "regions": {
      "08545776-5d0a-45d6-a0dd-452e529e0b96": {
       "attrs": {
        "height": 0.8,
        "width": 0.8,
        "x": 0.1,
        "y": 0.1
       },
       "content": {
        "cell": "4bf3b57e-b097-42b3-b110-21d024a72a04",
        "part": "whole"
       },
       "id": "08545776-5d0a-45d6-a0dd-452e529e0b96"
      }
     }
    },
    "39000ac6-2125-4317-8668-b3a507cc5bef": {
     "id": "39000ac6-2125-4317-8668-b3a507cc5bef",
     "prev": "de6a7223-4388-4e3c-8392-8d88d04ae1eb",
     "regions": {
      "5288e022-c378-4d77-ad79-e2192abb13de": {
       "attrs": {
        "height": 0.8,
        "width": 0.8,
        "x": 0.1,
        "y": 0.1
       },
       "content": {
        "cell": "8bd52533-fab3-4188-a45a-17d247ca1e8b",
        "part": "whole"
       },
       "id": "5288e022-c378-4d77-ad79-e2192abb13de"
      }
     }
    },
    "4f36bb32-1eef-4d70-bc9b-6838089c0a02": {
     "id": "4f36bb32-1eef-4d70-bc9b-6838089c0a02",
     "prev": "556fc5a9-97ff-45d5-a950-1bdb9d4e7fa2",
     "regions": {
      "d39321be-a443-4d23-b79a-0bb48c316464": {
       "attrs": {
        "height": 0.8,
        "width": 0.8,
        "x": 0.1,
        "y": 0.1
       },
       "content": {
        "cell": "6db97975-0ceb-4aab-8cd9-d1f5e995b5bb",
        "part": "whole"
       },
       "id": "d39321be-a443-4d23-b79a-0bb48c316464"
      }
     }
    },
    "556fc5a9-97ff-45d5-a950-1bdb9d4e7fa2": {
     "id": "556fc5a9-97ff-45d5-a950-1bdb9d4e7fa2",
     "prev": "317194c4-dadd-440d-8e85-5d6231af92a7",
     "regions": {
      "390ce535-8243-4fb8-a8fd-b3805e3470d3": {
       "attrs": {
        "height": 0.8,
        "width": 0.8,
        "x": 0.1,
        "y": 0.1
       },
       "content": {
        "cell": "12bf985a-7f38-4fcc-9691-b698b61cdba6",
        "part": "whole"
       },
       "id": "390ce535-8243-4fb8-a8fd-b3805e3470d3"
      }
     }
    },
    "5bc09ae3-8133-42e6-ac75-6083145d9a2e": {
     "id": "5bc09ae3-8133-42e6-ac75-6083145d9a2e",
     "prev": "b059567b-a693-4153-aa8c-2e6696f91073",
     "regions": {
      "a47b488b-acc2-48a1-ac1a-c8719003d725": {
       "attrs": {
        "height": 0.8,
        "width": 0.8,
        "x": 0.1,
        "y": 0.1
       },
       "content": {
        "cell": "2b3dd24f-f690-4d60-9277-40fbfc57821b",
        "part": "whole"
       },
       "id": "a47b488b-acc2-48a1-ac1a-c8719003d725"
      }
     }
    },
    "7170a560-5832-4f31-8b85-90be791ea066": {
     "id": "7170a560-5832-4f31-8b85-90be791ea066",
     "prev": "dc2c7f05-42b6-414e-a977-51175544e5ea",
     "regions": {
      "1992c130-0390-4a21-a108-89c8c98dc90e": {
       "attrs": {
        "height": 0.8,
        "width": 0.8,
        "x": 0.1,
        "y": 0.1
       },
       "content": {
        "cell": "b0b5f8a1-4158-4276-9c40-fb82e4def479",
        "part": "whole"
       },
       "id": "1992c130-0390-4a21-a108-89c8c98dc90e"
      }
     }
    },
    "71fc7eb1-32ef-4dd3-8b26-c0d0016afcfb": {
     "id": "71fc7eb1-32ef-4dd3-8b26-c0d0016afcfb",
     "prev": "a2486b70-e356-48c2-98dc-185ad9455783",
     "regions": {
      "48958b22-e4ee-45fd-9071-3fe84132fed8": {
       "attrs": {
        "height": 0.8,
        "width": 0.8,
        "x": 0.1,
        "y": 0.1
       },
       "content": {
        "cell": "e75f55d2-a3d7-42d0-8ae5-210894d13a79",
        "part": "whole"
       },
       "id": "48958b22-e4ee-45fd-9071-3fe84132fed8"
      }
     }
    },
    "732b2899-029c-4bee-aac6-a1539bab0cf8": {
     "id": "732b2899-029c-4bee-aac6-a1539bab0cf8",
     "prev": "a9e5ea70-29d0-4763-8773-5a417603487c",
     "regions": {
      "76a02844-c2c8-46e3-8f2d-7fab5a3adf78": {
       "attrs": {
        "height": 0.8,
        "width": 0.8,
        "x": 0.1,
        "y": 0.1
       },
       "content": {
        "cell": "6f8ba47c-eca0-48a5-9512-99040c6d5cd2",
        "part": "whole"
       },
       "id": "76a02844-c2c8-46e3-8f2d-7fab5a3adf78"
      }
     }
    },
    "7f4a7f80-3f56-4d11-b0c5-a12f99d8414b": {
     "id": "7f4a7f80-3f56-4d11-b0c5-a12f99d8414b",
     "prev": "e4aaaa54-e4db-4f5d-b0fa-72fe2e4d4b1f",
     "regions": {
      "a31e50fd-dd03-4e7f-9f24-65d6dbbfe538": {
       "attrs": {
        "height": 0.8,
        "width": 0.8,
        "x": 0.1,
        "y": 0.1
       },
       "content": {
        "cell": "b0b17a35-23b6-4e3c-86d5-f032010f4b69",
        "part": "whole"
       },
       "id": "a31e50fd-dd03-4e7f-9f24-65d6dbbfe538"
      }
     }
    },
    "8f65ed88-9281-4d99-9de7-7425e4ea3db4": {
     "id": "8f65ed88-9281-4d99-9de7-7425e4ea3db4",
     "prev": "2471e03c-8cdd-430c-bf73-c28d2b490df8",
     "regions": {
      "bfbfd368-4220-4fca-98ad-543a4dae3f64": {
       "attrs": {
        "height": 0.8,
        "width": 0.8,
        "x": 0.1,
        "y": 0.1
       },
       "content": {
        "cell": "6512381c-5bf3-4df5-949e-33dc2ae940d0",
        "part": "whole"
       },
       "id": "bfbfd368-4220-4fca-98ad-543a4dae3f64"
      }
     }
    },
    "a2486b70-e356-48c2-98dc-185ad9455783": {
     "id": "a2486b70-e356-48c2-98dc-185ad9455783",
     "prev": "7f4a7f80-3f56-4d11-b0c5-a12f99d8414b",
     "regions": {
      "89e5b261-8ab5-452a-b0d7-75b9eb476919": {
       "attrs": {
        "height": 0.8,
        "width": 0.8,
        "x": 0.1,
        "y": 0.1
       },
       "content": {
        "cell": "a0097925-839e-4d09-ab1c-e8a5e38be214",
        "part": "whole"
       },
       "id": "89e5b261-8ab5-452a-b0d7-75b9eb476919"
      }
     }
    },
    "a9e5ea70-29d0-4763-8773-5a417603487c": {
     "id": "a9e5ea70-29d0-4763-8773-5a417603487c",
     "prev": "5bc09ae3-8133-42e6-ac75-6083145d9a2e",
     "regions": {
      "3c9302ce-8e6a-4676-b4eb-ab09eb496226": {
       "attrs": {
        "height": 0.8,
        "width": 0.8,
        "x": 0.1,
        "y": 0.1
       },
       "content": {
        "cell": "2ac5d98b-9338-4347-9cd5-8d775b2765d2",
        "part": "whole"
       },
       "id": "3c9302ce-8e6a-4676-b4eb-ab09eb496226"
      }
     }
    },
    "ac27b8d5-7437-4e92-9076-c60f6e4238bf": {
     "id": "ac27b8d5-7437-4e92-9076-c60f6e4238bf",
     "prev": "1a9575b0-ba56-452a-b4e9-7ae5dacf0b3e",
     "regions": {
      "aed5e413-d0d4-4b1f-a13b-399118b23cb1": {
       "attrs": {
        "height": 0.8,
        "width": 0.8,
        "x": 0.1,
        "y": 0.1
       },
       "content": {
        "cell": "096e86e8-5df7-4bd3-a388-44b18a527f7c",
        "part": "whole"
       },
       "id": "aed5e413-d0d4-4b1f-a13b-399118b23cb1"
      }
     }
    },
    "b059567b-a693-4153-aa8c-2e6696f91073": {
     "id": "b059567b-a693-4153-aa8c-2e6696f91073",
     "prev": "c6eb3da0-cce8-441f-a2ee-a5f85260c459",
     "regions": {
      "72820722-847e-417d-ad15-6fec85df634a": {
       "attrs": {
        "height": 0.8,
        "width": 0.8,
        "x": 0.1,
        "y": 0.1
       },
       "content": {
        "cell": "480b73f3-1f5e-44cf-b185-6c94cd33d26c",
        "part": "whole"
       },
       "id": "72820722-847e-417d-ad15-6fec85df634a"
      }
     }
    },
    "b7a4eb2f-5c0a-4492-ab25-a0e6996264be": {
     "id": "b7a4eb2f-5c0a-4492-ab25-a0e6996264be",
     "prev": "017af810-e7c1-4ab4-a2f1-38fa59c57093",
     "regions": {
      "9e576c16-5425-4294-b825-404c172cdfd3": {
       "attrs": {
        "height": 0.8,
        "width": 0.8,
        "x": 0.1,
        "y": 0.1
       },
       "content": {
        "cell": "c8b26eab-e26b-44ea-9c76-8cbe12f7ec0d",
        "part": "whole"
       },
       "id": "9e576c16-5425-4294-b825-404c172cdfd3"
      }
     }
    },
    "c00624e9-fe71-483e-8055-8cc91fc292ca": {
     "id": "c00624e9-fe71-483e-8055-8cc91fc292ca",
     "prev": "2e6d092a-dc4c-4aa0-a11d-cb36654b5608",
     "regions": {
      "4054d932-b8da-4fcf-8ed0-872583f3e948": {
       "attrs": {
        "height": 0.8,
        "width": 0.8,
        "x": 0.1,
        "y": 0.1
       },
       "content": {
        "cell": "d145117e-b105-47ee-8ed5-9944fecd373c",
        "part": "whole"
       },
       "id": "4054d932-b8da-4fcf-8ed0-872583f3e948"
      }
     }
    },
    "c6eb3da0-cce8-441f-a2ee-a5f85260c459": {
     "id": "c6eb3da0-cce8-441f-a2ee-a5f85260c459",
     "prev": "d99d0a2a-7567-4439-9a2d-f844fa3e7ba0",
     "regions": {
      "c6c6626c-f2e4-4240-94b7-1fe966be3013": {
       "attrs": {
        "height": 0.8,
        "width": 0.8,
        "x": 0.1,
        "y": 0.1
       },
       "content": {
        "cell": "b4cd7cc2-42f6-4434-9497-351df91385d1",
        "part": "whole"
       },
       "id": "c6c6626c-f2e4-4240-94b7-1fe966be3013"
      }
     }
    },
    "c730242a-28ca-4a5a-927d-c959d7c7a04f": {
     "id": "c730242a-28ca-4a5a-927d-c959d7c7a04f",
     "prev": "c00624e9-fe71-483e-8055-8cc91fc292ca",
     "regions": {
      "ebf23e4a-81d8-4e49-840e-1999f7a52fba": {
       "attrs": {
        "height": 0.8,
        "width": 0.8,
        "x": 0.1,
        "y": 0.1
       },
       "content": {
        "cell": "7ad0977b-8708-4ad5-8aeb-549af1fbabaa",
        "part": "whole"
       },
       "id": "ebf23e4a-81d8-4e49-840e-1999f7a52fba"
      }
     }
    },
    "cc979dff-2853-4ef1-aabe-9a2128500086": {
     "id": "cc979dff-2853-4ef1-aabe-9a2128500086",
     "prev": "1a005aa6-b17d-4444-8510-657c82a638a5",
     "regions": {
      "cf6daea1-e2f7-439d-ab2b-45339d74fffb": {
       "attrs": {
        "height": 0.8,
        "width": 0.8,
        "x": 0.1,
        "y": 0.1
       },
       "content": {
        "cell": "4b942b3f-f83c-47b1-a3f1-6be7231ef4fe",
        "part": "whole"
       },
       "id": "cf6daea1-e2f7-439d-ab2b-45339d74fffb"
      }
     }
    },
    "d8788ff8-432f-4450-b02b-a61cb5033cc1": {
     "id": "d8788ff8-432f-4450-b02b-a61cb5033cc1",
     "prev": "71fc7eb1-32ef-4dd3-8b26-c0d0016afcfb",
     "regions": {
      "2ecf87e6-96b8-4170-a9bc-817ebb0f9695": {
       "attrs": {
        "height": 0.8,
        "width": 0.8,
        "x": 0.1,
        "y": 0.1
       },
       "content": {
        "cell": "5e670026-a8b3-4151-8165-5921dfa80f39",
        "part": "whole"
       },
       "id": "2ecf87e6-96b8-4170-a9bc-817ebb0f9695"
      }
     }
    },
    "d99d0a2a-7567-4439-9a2d-f844fa3e7ba0": {
     "id": "d99d0a2a-7567-4439-9a2d-f844fa3e7ba0",
     "prev": "8f65ed88-9281-4d99-9de7-7425e4ea3db4",
     "regions": {
      "70c0419d-10ef-4438-b98b-8c0cbaa59b8a": {
       "attrs": {
        "height": 0.8,
        "width": 0.8,
        "x": 0.1,
        "y": 0.1
       },
       "content": {
        "cell": "d5befe13-b5f9-491f-b2f5-0583b406f28c",
        "part": "whole"
       },
       "id": "70c0419d-10ef-4438-b98b-8c0cbaa59b8a"
      }
     }
    },
    "dc2c7f05-42b6-414e-a977-51175544e5ea": {
     "id": "dc2c7f05-42b6-414e-a977-51175544e5ea",
     "prev": "1c72e38d-7e8a-4259-85ee-85e0777c412b",
     "regions": {
      "4ce71acc-5fca-4145-9308-d703153b3d7f": {
       "attrs": {
        "height": 0.8,
        "width": 0.8,
        "x": 0.1,
        "y": 0.1
       },
       "content": {
        "cell": "f3b436da-3a6b-4ea2-b99d-3d13617f4f07",
        "part": "whole"
       },
       "id": "4ce71acc-5fca-4145-9308-d703153b3d7f"
      }
     }
    },
    "de6a7223-4388-4e3c-8392-8d88d04ae1eb": {
     "id": "de6a7223-4388-4e3c-8392-8d88d04ae1eb",
     "prev": "08db31b8-96cd-4b8c-9e83-b1848ca3291c",
     "regions": {
      "09a9b64e-95fc-4edd-b3a7-eb2e2b79db58": {
       "attrs": {
        "height": 0.8,
        "width": 0.8,
        "x": 0.1,
        "y": 0.1
       },
       "content": {
        "cell": "392f5814-5800-4864-8ab3-193b13946261",
        "part": "whole"
       },
       "id": "09a9b64e-95fc-4edd-b3a7-eb2e2b79db58"
      }
     }
    },
    "e4aaaa54-e4db-4f5d-b0fa-72fe2e4d4b1f": {
     "id": "e4aaaa54-e4db-4f5d-b0fa-72fe2e4d4b1f",
     "prev": "eea40c18-bbcf-41df-bbf4-568b3ca2b8df",
     "regions": {
      "15b675c3-d47a-4bde-8a6f-34a2f9a600a7": {
       "attrs": {
        "height": 0.8,
        "width": 0.8,
        "x": 0.1,
        "y": 0.1
       },
       "content": {
        "cell": "4baf9b21-d327-476c-98dc-ddab80a0ae8a",
        "part": "whole"
       },
       "id": "15b675c3-d47a-4bde-8a6f-34a2f9a600a7"
      }
     }
    },
    "eea40c18-bbcf-41df-bbf4-568b3ca2b8df": {
     "id": "eea40c18-bbcf-41df-bbf4-568b3ca2b8df",
     "prev": "ac27b8d5-7437-4e92-9076-c60f6e4238bf",
     "regions": {
      "7a08cb73-be59-4087-8de2-77e18fd58fb2": {
       "attrs": {
        "height": 0.8,
        "width": 0.8,
        "x": 0.1,
        "y": 0.1
       },
       "content": {
        "cell": "fd51bf62-60e2-4a6e-bacd-9bc5a0f879dd",
        "part": "whole"
       },
       "id": "7a08cb73-be59-4087-8de2-77e18fd58fb2"
      }
     }
    },
    "ff91a8de-d9be-4c0e-a844-5bc56f28fe06": {
     "id": "ff91a8de-d9be-4c0e-a844-5bc56f28fe06",
     "prev": "24d6deef-a686-469c-96e1-964c5589168f",
     "regions": {
      "5252c128-d75d-4b96-a3c3-528642406b66": {
       "attrs": {
        "height": 0.8,
        "width": 0.8,
        "x": 0.1,
        "y": 0.1
       },
       "content": {
        "cell": "3addacc0-c734-44dd-b21d-45a76bb4dc22",
        "part": "whole"
       },
       "id": "5252c128-d75d-4b96-a3c3-528642406b66"
      }
     }
    }
   },
   "themes": {}
  }
 },
 "nbformat": 4,
 "nbformat_minor": 1
}
