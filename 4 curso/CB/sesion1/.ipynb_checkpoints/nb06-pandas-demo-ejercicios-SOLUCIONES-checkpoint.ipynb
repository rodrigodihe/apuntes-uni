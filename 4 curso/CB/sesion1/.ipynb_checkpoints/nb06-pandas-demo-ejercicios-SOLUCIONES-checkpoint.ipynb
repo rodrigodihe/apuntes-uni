{
 "cells": [
  {
   "cell_type": "markdown",
   "metadata": {},
   "source": [
    "### Pandas demo segunda parte"
   ]
  },
  {
   "cell_type": "code",
   "execution_count": 1,
   "metadata": {},
   "outputs": [
    {
     "name": "stdout",
     "output_type": "stream",
     "text": [
      "Populating the interactive namespace from numpy and matplotlib\n"
     ]
    }
   ],
   "source": [
    "%pylab inline\n",
    "import pandas as pd\n"
   ]
  },
  {
   "cell_type": "code",
   "execution_count": 2,
   "metadata": {},
   "outputs": [
    {
     "data": {
      "text/html": [
       "<div>\n",
       "<table border=\"1\" class=\"dataframe\">\n",
       "  <thead>\n",
       "    <tr style=\"text-align: right;\">\n",
       "      <th></th>\n",
       "      <th>title</th>\n",
       "      <th>year</th>\n",
       "      <th>name</th>\n",
       "      <th>type</th>\n",
       "      <th>character</th>\n",
       "      <th>n</th>\n",
       "    </tr>\n",
       "  </thead>\n",
       "  <tbody>\n",
       "    <tr>\n",
       "      <th>0</th>\n",
       "      <td>Closet Monster</td>\n",
       "      <td>2015</td>\n",
       "      <td>Buffy #1</td>\n",
       "      <td>actor</td>\n",
       "      <td>Buffy 4</td>\n",
       "      <td>31.0</td>\n",
       "    </tr>\n",
       "    <tr>\n",
       "      <th>1</th>\n",
       "      <td>Suuri illusioni</td>\n",
       "      <td>1985</td>\n",
       "      <td>Homo $</td>\n",
       "      <td>actor</td>\n",
       "      <td>Guests</td>\n",
       "      <td>22.0</td>\n",
       "    </tr>\n",
       "    <tr>\n",
       "      <th>2</th>\n",
       "      <td>Battle of the Sexes</td>\n",
       "      <td>2017</td>\n",
       "      <td>$hutter</td>\n",
       "      <td>actor</td>\n",
       "      <td>Bobby Riggs Fan</td>\n",
       "      <td>10.0</td>\n",
       "    </tr>\n",
       "    <tr>\n",
       "      <th>3</th>\n",
       "      <td>Secret in Their Eyes</td>\n",
       "      <td>2015</td>\n",
       "      <td>$hutter</td>\n",
       "      <td>actor</td>\n",
       "      <td>2002 Dodger Fan</td>\n",
       "      <td>NaN</td>\n",
       "    </tr>\n",
       "    <tr>\n",
       "      <th>4</th>\n",
       "      <td>Steve Jobs</td>\n",
       "      <td>2015</td>\n",
       "      <td>$hutter</td>\n",
       "      <td>actor</td>\n",
       "      <td>1988 Opera House Patron</td>\n",
       "      <td>NaN</td>\n",
       "    </tr>\n",
       "  </tbody>\n",
       "</table>\n",
       "</div>"
      ],
      "text/plain": [
       "                  title  year      name   type                character     n\n",
       "0        Closet Monster  2015  Buffy #1  actor                  Buffy 4  31.0\n",
       "1       Suuri illusioni  1985    Homo $  actor                   Guests  22.0\n",
       "2   Battle of the Sexes  2017   $hutter  actor          Bobby Riggs Fan  10.0\n",
       "3  Secret in Their Eyes  2015   $hutter  actor          2002 Dodger Fan   NaN\n",
       "4            Steve Jobs  2015   $hutter  actor  1988 Opera House Patron   NaN"
      ]
     },
     "execution_count": 2,
     "metadata": {},
     "output_type": "execute_result"
    }
   ],
   "source": [
    "elenco = pd.read_csv('data/cast.csv', encoding='utf-8')\n",
    "elenco.head()"
   ]
  },
  {
   "cell_type": "code",
   "execution_count": 3,
   "metadata": {},
   "outputs": [
    {
     "data": {
      "text/plain": [
       "3564650"
      ]
     },
     "execution_count": 3,
     "metadata": {},
     "output_type": "execute_result"
    }
   ],
   "source": [
    "e = elenco\n",
    "len(e)"
   ]
  },
  {
   "cell_type": "code",
   "execution_count": 4,
   "metadata": {},
   "outputs": [
    {
     "name": "stdout",
     "output_type": "stream",
     "text": [
      "CPU times: user 184 ms, sys: 4 ms, total: 188 ms\n",
      "Wall time: 212 ms\n"
     ]
    },
    {
     "data": {
      "text/html": [
       "<div>\n",
       "<table border=\"1\" class=\"dataframe\">\n",
       "  <thead>\n",
       "    <tr style=\"text-align: right;\">\n",
       "      <th></th>\n",
       "      <th>title</th>\n",
       "      <th>year</th>\n",
       "      <th>name</th>\n",
       "      <th>type</th>\n",
       "      <th>character</th>\n",
       "      <th>n</th>\n",
       "    </tr>\n",
       "  </thead>\n",
       "  <tbody>\n",
       "    <tr>\n",
       "      <th>3936</th>\n",
       "      <td>The Silence of the Lambs</td>\n",
       "      <td>1991</td>\n",
       "      <td>Chuck Aber</td>\n",
       "      <td>actor</td>\n",
       "      <td>Agent Terry</td>\n",
       "      <td>21.0</td>\n",
       "    </tr>\n",
       "    <tr>\n",
       "      <th>78450</th>\n",
       "      <td>The Silence of the Lambs</td>\n",
       "      <td>1991</td>\n",
       "      <td>Lamont Arnold</td>\n",
       "      <td>actor</td>\n",
       "      <td>Flower Delivery Man</td>\n",
       "      <td>54.0</td>\n",
       "    </tr>\n",
       "    <tr>\n",
       "      <th>101250</th>\n",
       "      <td>The Silence of the Lambs</td>\n",
       "      <td>1991</td>\n",
       "      <td>Obba Babatund?</td>\n",
       "      <td>actor</td>\n",
       "      <td>TV Anchor Man</td>\n",
       "      <td>30.0</td>\n",
       "    </tr>\n",
       "    <tr>\n",
       "      <th>203810</th>\n",
       "      <td>The Silence of the Lambs</td>\n",
       "      <td>1991</td>\n",
       "      <td>Andre B. Blake</td>\n",
       "      <td>actor</td>\n",
       "      <td>Tall Memphis Cop</td>\n",
       "      <td>45.0</td>\n",
       "    </tr>\n",
       "    <tr>\n",
       "      <th>223263</th>\n",
       "      <td>The Silence of the Lambs</td>\n",
       "      <td>1991</td>\n",
       "      <td>Lawrence A. Bonney</td>\n",
       "      <td>actor</td>\n",
       "      <td>FBI Instructor</td>\n",
       "      <td>2.0</td>\n",
       "    </tr>\n",
       "  </tbody>\n",
       "</table>\n",
       "</div>"
      ],
      "text/plain": [
       "                           title  year                name   type  \\\n",
       "3936    The Silence of the Lambs  1991          Chuck Aber  actor   \n",
       "78450   The Silence of the Lambs  1991       Lamont Arnold  actor   \n",
       "101250  The Silence of the Lambs  1991      Obba Babatund?  actor   \n",
       "203810  The Silence of the Lambs  1991      Andre B. Blake  actor   \n",
       "223263  The Silence of the Lambs  1991  Lawrence A. Bonney  actor   \n",
       "\n",
       "                  character     n  \n",
       "3936            Agent Terry  21.0  \n",
       "78450   Flower Delivery Man  54.0  \n",
       "101250        TV Anchor Man  30.0  \n",
       "203810     Tall Memphis Cop  45.0  \n",
       "223263       FBI Instructor   2.0  "
      ]
     },
     "execution_count": 4,
     "metadata": {},
     "output_type": "execute_result"
    }
   ],
   "source": [
    "%%time\n",
    "e[e.title == 'The Silence of the Lambs'].head()"
   ]
  },
  {
   "cell_type": "code",
   "execution_count": 5,
   "metadata": {
    "collapsed": true
   },
   "outputs": [],
   "source": [
    "# Indexamos por el titulo\n",
    "eti = e.set_index('title')"
   ]
  },
  {
   "cell_type": "code",
   "execution_count": 6,
   "metadata": {},
   "outputs": [
    {
     "name": "stdout",
     "output_type": "stream",
     "text": [
      "CPU times: user 856 ms, sys: 8 ms, total: 864 ms\n",
      "Wall time: 861 ms\n"
     ]
    },
    {
     "data": {
      "text/html": [
       "<div>\n",
       "<table border=\"1\" class=\"dataframe\">\n",
       "  <thead>\n",
       "    <tr style=\"text-align: right;\">\n",
       "      <th></th>\n",
       "      <th>year</th>\n",
       "      <th>name</th>\n",
       "      <th>type</th>\n",
       "      <th>character</th>\n",
       "      <th>n</th>\n",
       "    </tr>\n",
       "    <tr>\n",
       "      <th>title</th>\n",
       "      <th></th>\n",
       "      <th></th>\n",
       "      <th></th>\n",
       "      <th></th>\n",
       "      <th></th>\n",
       "    </tr>\n",
       "  </thead>\n",
       "  <tbody>\n",
       "    <tr>\n",
       "      <th>The Silence of the Lambs</th>\n",
       "      <td>1991</td>\n",
       "      <td>Chuck Aber</td>\n",
       "      <td>actor</td>\n",
       "      <td>Agent Terry</td>\n",
       "      <td>21.0</td>\n",
       "    </tr>\n",
       "    <tr>\n",
       "      <th>The Silence of the Lambs</th>\n",
       "      <td>1991</td>\n",
       "      <td>Lamont Arnold</td>\n",
       "      <td>actor</td>\n",
       "      <td>Flower Delivery Man</td>\n",
       "      <td>54.0</td>\n",
       "    </tr>\n",
       "    <tr>\n",
       "      <th>The Silence of the Lambs</th>\n",
       "      <td>1991</td>\n",
       "      <td>Obba Babatund?</td>\n",
       "      <td>actor</td>\n",
       "      <td>TV Anchor Man</td>\n",
       "      <td>30.0</td>\n",
       "    </tr>\n",
       "    <tr>\n",
       "      <th>The Silence of the Lambs</th>\n",
       "      <td>1991</td>\n",
       "      <td>Andre B. Blake</td>\n",
       "      <td>actor</td>\n",
       "      <td>Tall Memphis Cop</td>\n",
       "      <td>45.0</td>\n",
       "    </tr>\n",
       "    <tr>\n",
       "      <th>The Silence of the Lambs</th>\n",
       "      <td>1991</td>\n",
       "      <td>Lawrence A. Bonney</td>\n",
       "      <td>actor</td>\n",
       "      <td>FBI Instructor</td>\n",
       "      <td>2.0</td>\n",
       "    </tr>\n",
       "  </tbody>\n",
       "</table>\n",
       "</div>"
      ],
      "text/plain": [
       "                          year                name   type  \\\n",
       "title                                                       \n",
       "The Silence of the Lambs  1991          Chuck Aber  actor   \n",
       "The Silence of the Lambs  1991       Lamont Arnold  actor   \n",
       "The Silence of the Lambs  1991      Obba Babatund?  actor   \n",
       "The Silence of the Lambs  1991      Andre B. Blake  actor   \n",
       "The Silence of the Lambs  1991  Lawrence A. Bonney  actor   \n",
       "\n",
       "                                    character     n  \n",
       "title                                                \n",
       "The Silence of the Lambs          Agent Terry  21.0  \n",
       "The Silence of the Lambs  Flower Delivery Man  54.0  \n",
       "The Silence of the Lambs        TV Anchor Man  30.0  \n",
       "The Silence of the Lambs     Tall Memphis Cop  45.0  \n",
       "The Silence of the Lambs       FBI Instructor   2.0  "
      ]
     },
     "execution_count": 6,
     "metadata": {},
     "output_type": "execute_result"
    }
   ],
   "source": [
    "%%time\n",
    "eti.loc[\"The Silence of the Lambs\"].head()"
   ]
  },
  {
   "cell_type": "code",
   "execution_count": 7,
   "metadata": {},
   "outputs": [
    {
     "data": {
      "text/html": [
       "<div>\n",
       "<table border=\"1\" class=\"dataframe\">\n",
       "  <thead>\n",
       "    <tr style=\"text-align: right;\">\n",
       "      <th></th>\n",
       "      <th>year</th>\n",
       "      <th>name</th>\n",
       "      <th>type</th>\n",
       "      <th>character</th>\n",
       "      <th>n</th>\n",
       "    </tr>\n",
       "    <tr>\n",
       "      <th>title</th>\n",
       "      <th></th>\n",
       "      <th></th>\n",
       "      <th></th>\n",
       "      <th></th>\n",
       "      <th></th>\n",
       "    </tr>\n",
       "  </thead>\n",
       "  <tbody>\n",
       "    <tr>\n",
       "      <th>#1 Serial Killer</th>\n",
       "      <td>2013</td>\n",
       "      <td>Matthias Chrans</td>\n",
       "      <td>actor</td>\n",
       "      <td>Brian Bennett</td>\n",
       "      <td>13.0</td>\n",
       "    </tr>\n",
       "    <tr>\n",
       "      <th>#1 Serial Killer</th>\n",
       "      <td>2013</td>\n",
       "      <td>Yvis Cannavale</td>\n",
       "      <td>actor</td>\n",
       "      <td>Homeless Man</td>\n",
       "      <td>25.0</td>\n",
       "    </tr>\n",
       "    <tr>\n",
       "      <th>#1 Serial Killer</th>\n",
       "      <td>2013</td>\n",
       "      <td>Jesse Wang</td>\n",
       "      <td>actor</td>\n",
       "      <td>Mr. Tsai</td>\n",
       "      <td>11.0</td>\n",
       "    </tr>\n",
       "    <tr>\n",
       "      <th>#1 Serial Killer</th>\n",
       "      <td>2013</td>\n",
       "      <td>Shoshana Bush</td>\n",
       "      <td>actress</td>\n",
       "      <td>Tricia Arnold</td>\n",
       "      <td>4.0</td>\n",
       "    </tr>\n",
       "    <tr>\n",
       "      <th>#1 Serial Killer</th>\n",
       "      <td>2013</td>\n",
       "      <td>Tiley Chao</td>\n",
       "      <td>actress</td>\n",
       "      <td>Mrs. Chang</td>\n",
       "      <td>12.0</td>\n",
       "    </tr>\n",
       "  </tbody>\n",
       "</table>\n",
       "</div>"
      ],
      "text/plain": [
       "                  year             name     type      character     n\n",
       "title                                                                \n",
       "#1 Serial Killer  2013  Matthias Chrans    actor  Brian Bennett  13.0\n",
       "#1 Serial Killer  2013   Yvis Cannavale    actor   Homeless Man  25.0\n",
       "#1 Serial Killer  2013       Jesse Wang    actor       Mr. Tsai  11.0\n",
       "#1 Serial Killer  2013    Shoshana Bush  actress  Tricia Arnold   4.0\n",
       "#1 Serial Killer  2013       Tiley Chao  actress     Mrs. Chang  12.0"
      ]
     },
     "execution_count": 7,
     "metadata": {},
     "output_type": "execute_result"
    }
   ],
   "source": [
    "# El indice realmente funciona cuando esa columna esta ordenada\n",
    "eti = e.set_index('title').sort_index()\n",
    "eti.head()"
   ]
  },
  {
   "cell_type": "code",
   "execution_count": 21,
   "metadata": {},
   "outputs": [
    {
     "name": "stdout",
     "output_type": "stream",
     "text": [
      "CPU times: user 20 ms, sys: 0 ns, total: 20 ms\n",
      "Wall time: 20.5 ms\n"
     ]
    },
    {
     "data": {
      "text/html": [
       "<div>\n",
       "<table border=\"1\" class=\"dataframe\">\n",
       "  <thead>\n",
       "    <tr style=\"text-align: right;\">\n",
       "      <th></th>\n",
       "      <th>name</th>\n",
       "      <th>type</th>\n",
       "      <th>character</th>\n",
       "      <th>n</th>\n",
       "    </tr>\n",
       "    <tr>\n",
       "      <th>year</th>\n",
       "      <th></th>\n",
       "      <th></th>\n",
       "      <th></th>\n",
       "      <th></th>\n",
       "    </tr>\n",
       "  </thead>\n",
       "  <tbody>\n",
       "    <tr>\n",
       "      <th>1991</th>\n",
       "      <td>Chuck Aber</td>\n",
       "      <td>actor</td>\n",
       "      <td>Agent Terry</td>\n",
       "      <td>21.0</td>\n",
       "    </tr>\n",
       "    <tr>\n",
       "      <th>1991</th>\n",
       "      <td>Lamont Arnold</td>\n",
       "      <td>actor</td>\n",
       "      <td>Flower Delivery Man</td>\n",
       "      <td>54.0</td>\n",
       "    </tr>\n",
       "    <tr>\n",
       "      <th>1991</th>\n",
       "      <td>Obba Babatund?</td>\n",
       "      <td>actor</td>\n",
       "      <td>TV Anchor Man</td>\n",
       "      <td>30.0</td>\n",
       "    </tr>\n",
       "    <tr>\n",
       "      <th>1991</th>\n",
       "      <td>Andre B. Blake</td>\n",
       "      <td>actor</td>\n",
       "      <td>Tall Memphis Cop</td>\n",
       "      <td>45.0</td>\n",
       "    </tr>\n",
       "    <tr>\n",
       "      <th>1991</th>\n",
       "      <td>Lawrence A. Bonney</td>\n",
       "      <td>actor</td>\n",
       "      <td>FBI Instructor</td>\n",
       "      <td>2.0</td>\n",
       "    </tr>\n",
       "  </tbody>\n",
       "</table>\n",
       "</div>"
      ],
      "text/plain": [
       "                    name   type            character     n\n",
       "year                                                      \n",
       "1991          Chuck Aber  actor          Agent Terry  21.0\n",
       "1991       Lamont Arnold  actor  Flower Delivery Man  54.0\n",
       "1991      Obba Babatund?  actor        TV Anchor Man  30.0\n",
       "1991      Andre B. Blake  actor     Tall Memphis Cop  45.0\n",
       "1991  Lawrence A. Bonney  actor       FBI Instructor   2.0"
      ]
     },
     "execution_count": 21,
     "metadata": {},
     "output_type": "execute_result"
    }
   ],
   "source": [
    "%%time\n",
    "eti.loc[\"The Silence of the Lambs\"].head()"
   ]
  },
  {
   "cell_type": "code",
   "execution_count": 22,
   "metadata": {},
   "outputs": [
    {
     "data": {
      "text/html": [
       "<div>\n",
       "<table border=\"1\" class=\"dataframe\">\n",
       "  <thead>\n",
       "    <tr style=\"text-align: right;\">\n",
       "      <th></th>\n",
       "      <th></th>\n",
       "      <th>name</th>\n",
       "      <th>type</th>\n",
       "      <th>character</th>\n",
       "      <th>n</th>\n",
       "    </tr>\n",
       "    <tr>\n",
       "      <th>title</th>\n",
       "      <th>year</th>\n",
       "      <th></th>\n",
       "      <th></th>\n",
       "      <th></th>\n",
       "      <th></th>\n",
       "    </tr>\n",
       "  </thead>\n",
       "  <tbody>\n",
       "    <tr>\n",
       "      <th rowspan=\"5\" valign=\"top\">#1 Serial Killer</th>\n",
       "      <th>2013</th>\n",
       "      <td>Michael Alton</td>\n",
       "      <td>actor</td>\n",
       "      <td>Detective Roberts</td>\n",
       "      <td>17.0</td>\n",
       "    </tr>\n",
       "    <tr>\n",
       "      <th>2013</th>\n",
       "      <td>Aaron Aoki</td>\n",
       "      <td>actor</td>\n",
       "      <td>Plastic Bag Victim</td>\n",
       "      <td>21.0</td>\n",
       "    </tr>\n",
       "    <tr>\n",
       "      <th>2013</th>\n",
       "      <td>Zachary (X) Brown</td>\n",
       "      <td>actor</td>\n",
       "      <td>Africian American Teen</td>\n",
       "      <td>18.0</td>\n",
       "    </tr>\n",
       "    <tr>\n",
       "      <th>2013</th>\n",
       "      <td>Yvis Cannavale</td>\n",
       "      <td>actor</td>\n",
       "      <td>Homeless Man</td>\n",
       "      <td>25.0</td>\n",
       "    </tr>\n",
       "    <tr>\n",
       "      <th>2013</th>\n",
       "      <td>Patrick Chien</td>\n",
       "      <td>actor</td>\n",
       "      <td>Cleaver Victim</td>\n",
       "      <td>22.0</td>\n",
       "    </tr>\n",
       "  </tbody>\n",
       "</table>\n",
       "</div>"
      ],
      "text/plain": [
       "                                    name   type               character     n\n",
       "title            year                                                        \n",
       "#1 Serial Killer 2013      Michael Alton  actor       Detective Roberts  17.0\n",
       "                 2013         Aaron Aoki  actor      Plastic Bag Victim  21.0\n",
       "                 2013  Zachary (X) Brown  actor  Africian American Teen  18.0\n",
       "                 2013     Yvis Cannavale  actor            Homeless Man  25.0\n",
       "                 2013      Patrick Chien  actor          Cleaver Victim  22.0"
      ]
     },
     "execution_count": 22,
     "metadata": {},
     "output_type": "execute_result"
    }
   ],
   "source": [
    "# El indice se puede generar de multiples columnas **Puede tardar en construirse**\n",
    "eti = e.set_index(['title','year']).sort_index()\n",
    "eti.head()"
   ]
  },
  {
   "cell_type": "code",
   "execution_count": 40,
   "metadata": {},
   "outputs": [
    {
     "name": "stdout",
     "output_type": "stream",
     "text": [
      "CPU times: user 24 ms, sys: 0 ns, total: 24 ms\n",
      "Wall time: 21.2 ms\n"
     ]
    }
   ],
   "source": [
    "%%time\n",
    "# Se puede localizar por multiples columnas\n",
    "b89 = eti.loc['Batman',1989].sort_index(ascending=False)"
   ]
  },
  {
   "cell_type": "code",
   "execution_count": 41,
   "metadata": {},
   "outputs": [
    {
     "data": {
      "text/plain": [
       "FrozenList(['title', 'year'])"
      ]
     },
     "execution_count": 41,
     "metadata": {},
     "output_type": "execute_result"
    }
   ],
   "source": [
    "# Nombre de nuestros indices\n",
    "b89.index.names"
   ]
  },
  {
   "cell_type": "code",
   "execution_count": 46,
   "metadata": {},
   "outputs": [
    {
     "data": {
      "text/html": [
       "<div>\n",
       "<table border=\"1\" class=\"dataframe\">\n",
       "  <thead>\n",
       "    <tr style=\"text-align: right;\">\n",
       "      <th></th>\n",
       "      <th>year</th>\n",
       "      <th>name</th>\n",
       "      <th>type</th>\n",
       "      <th>character</th>\n",
       "      <th>n</th>\n",
       "    </tr>\n",
       "    <tr>\n",
       "      <th>title</th>\n",
       "      <th></th>\n",
       "      <th></th>\n",
       "      <th></th>\n",
       "      <th></th>\n",
       "      <th></th>\n",
       "    </tr>\n",
       "  </thead>\n",
       "  <tbody>\n",
       "    <tr>\n",
       "      <th>Batman</th>\n",
       "      <td>1989</td>\n",
       "      <td>Del Baker</td>\n",
       "      <td>actor</td>\n",
       "      <td>Napier Hood</td>\n",
       "      <td>31.0</td>\n",
       "    </tr>\n",
       "    <tr>\n",
       "      <th>Batman</th>\n",
       "      <td>1989</td>\n",
       "      <td>Michael Balfour</td>\n",
       "      <td>actor</td>\n",
       "      <td>Scientist</td>\n",
       "      <td>44.0</td>\n",
       "    </tr>\n",
       "    <tr>\n",
       "      <th>Batman</th>\n",
       "      <td>1989</td>\n",
       "      <td>David Baxt</td>\n",
       "      <td>actor</td>\n",
       "      <td>Dr. Thomas Wayne</td>\n",
       "      <td>48.0</td>\n",
       "    </tr>\n",
       "    <tr>\n",
       "      <th>Batman</th>\n",
       "      <td>1989</td>\n",
       "      <td>Paul Birchard</td>\n",
       "      <td>actor</td>\n",
       "      <td>Another Reporter</td>\n",
       "      <td>55.0</td>\n",
       "    </tr>\n",
       "    <tr>\n",
       "      <th>Batman</th>\n",
       "      <td>1989</td>\n",
       "      <td>Hugo Blick</td>\n",
       "      <td>actor</td>\n",
       "      <td>Young Jack Napier</td>\n",
       "      <td>41.0</td>\n",
       "    </tr>\n",
       "    <tr>\n",
       "      <th>Batman</th>\n",
       "      <td>1989</td>\n",
       "      <td>Carl Chase</td>\n",
       "      <td>actor</td>\n",
       "      <td>Goon</td>\n",
       "      <td>14.0</td>\n",
       "    </tr>\n",
       "    <tr>\n",
       "      <th>Batman</th>\n",
       "      <td>1989</td>\n",
       "      <td>George Lane Cooper</td>\n",
       "      <td>actor</td>\n",
       "      <td>Goon</td>\n",
       "      <td>16.0</td>\n",
       "    </tr>\n",
       "    <tr>\n",
       "      <th>Batman</th>\n",
       "      <td>1989</td>\n",
       "      <td>Harold Coyne</td>\n",
       "      <td>actor</td>\n",
       "      <td>Gotham City Pedestrian</td>\n",
       "      <td>NaN</td>\n",
       "    </tr>\n",
       "    <tr>\n",
       "      <th>Batman</th>\n",
       "      <td>1989</td>\n",
       "      <td>Edwin Craig</td>\n",
       "      <td>actor</td>\n",
       "      <td>Rotelli</td>\n",
       "      <td>20.0</td>\n",
       "    </tr>\n",
       "    <tr>\n",
       "      <th>Batman</th>\n",
       "      <td>1989</td>\n",
       "      <td>Clive Curtis</td>\n",
       "      <td>actor</td>\n",
       "      <td>Goon in Bell-Tower</td>\n",
       "      <td>NaN</td>\n",
       "    </tr>\n",
       "    <tr>\n",
       "      <th>Batman</th>\n",
       "      <td>1989</td>\n",
       "      <td>Joel Cutrara</td>\n",
       "      <td>actor</td>\n",
       "      <td>Crimelord #2</td>\n",
       "      <td>22.0</td>\n",
       "    </tr>\n",
       "    <tr>\n",
       "      <th>Batman</th>\n",
       "      <td>1989</td>\n",
       "      <td>John Dair</td>\n",
       "      <td>actor</td>\n",
       "      <td>Ricorso</td>\n",
       "      <td>23.0</td>\n",
       "    </tr>\n",
       "    <tr>\n",
       "      <th>Batman</th>\n",
       "      <td>1989</td>\n",
       "      <td>Sam Douglas</td>\n",
       "      <td>actor</td>\n",
       "      <td>Lawyer</td>\n",
       "      <td>52.0</td>\n",
       "    </tr>\n",
       "    <tr>\n",
       "      <th>Batman</th>\n",
       "      <td>1989</td>\n",
       "      <td>Richard Durden</td>\n",
       "      <td>actor</td>\n",
       "      <td>TV Director</td>\n",
       "      <td>28.0</td>\n",
       "    </tr>\n",
       "    <tr>\n",
       "      <th>Batman</th>\n",
       "      <td>1989</td>\n",
       "      <td>Keith Edwards</td>\n",
       "      <td>actor</td>\n",
       "      <td>Reporter</td>\n",
       "      <td>36.0</td>\n",
       "    </tr>\n",
       "    <tr>\n",
       "      <th>Batman</th>\n",
       "      <td>1989</td>\n",
       "      <td>Christopher Fairbank</td>\n",
       "      <td>actor</td>\n",
       "      <td>Nic</td>\n",
       "      <td>24.0</td>\n",
       "    </tr>\n",
       "    <tr>\n",
       "      <th>Batman</th>\n",
       "      <td>1989</td>\n",
       "      <td>Clyde Gatell</td>\n",
       "      <td>actor</td>\n",
       "      <td>Other Mugger</td>\n",
       "      <td>50.0</td>\n",
       "    </tr>\n",
       "    <tr>\n",
       "      <th>Batman</th>\n",
       "      <td>1989</td>\n",
       "      <td>Pat Gorman</td>\n",
       "      <td>actor</td>\n",
       "      <td>Cop at Axis Chemicals</td>\n",
       "      <td>NaN</td>\n",
       "    </tr>\n",
       "    <tr>\n",
       "      <th>Batman</th>\n",
       "      <td>1989</td>\n",
       "      <td>Michael Gough</td>\n",
       "      <td>actor</td>\n",
       "      <td>Alfred Pennyworth</td>\n",
       "      <td>7.0</td>\n",
       "    </tr>\n",
       "    <tr>\n",
       "      <th>Batman</th>\n",
       "      <td>1989</td>\n",
       "      <td>Garrick Hagon</td>\n",
       "      <td>actor</td>\n",
       "      <td>Tourist Dad</td>\n",
       "      <td>46.0</td>\n",
       "    </tr>\n",
       "    <tr>\n",
       "      <th>Batman</th>\n",
       "      <td>1989</td>\n",
       "      <td>Leon Herbert</td>\n",
       "      <td>actor</td>\n",
       "      <td>Reporter</td>\n",
       "      <td>37.0</td>\n",
       "    </tr>\n",
       "    <tr>\n",
       "      <th>Batman</th>\n",
       "      <td>1989</td>\n",
       "      <td>Pat Hingle</td>\n",
       "      <td>actor</td>\n",
       "      <td>Commissioner James Gordon</td>\n",
       "      <td>5.0</td>\n",
       "    </tr>\n",
       "    <tr>\n",
       "      <th>Batman</th>\n",
       "      <td>1989</td>\n",
       "      <td>William Hootkins</td>\n",
       "      <td>actor</td>\n",
       "      <td>Lt. Eckhardt</td>\n",
       "      <td>12.0</td>\n",
       "    </tr>\n",
       "    <tr>\n",
       "      <th>Batman</th>\n",
       "      <td>1989</td>\n",
       "      <td>Jazzer Jeyes</td>\n",
       "      <td>actor</td>\n",
       "      <td>Napier Hood</td>\n",
       "      <td>32.0</td>\n",
       "    </tr>\n",
       "    <tr>\n",
       "      <th>Batman</th>\n",
       "      <td>1989</td>\n",
       "      <td>Michael Keaton</td>\n",
       "      <td>actor</td>\n",
       "      <td>Batman</td>\n",
       "      <td>1.0</td>\n",
       "    </tr>\n",
       "    <tr>\n",
       "      <th>Batman</th>\n",
       "      <td>1989</td>\n",
       "      <td>Michael Keaton</td>\n",
       "      <td>actor</td>\n",
       "      <td>Bruce Wayne</td>\n",
       "      <td>1.0</td>\n",
       "    </tr>\n",
       "    <tr>\n",
       "      <th>Batman</th>\n",
       "      <td>1989</td>\n",
       "      <td>Amir M. Korangy</td>\n",
       "      <td>actor</td>\n",
       "      <td>Wine Steward</td>\n",
       "      <td>40.0</td>\n",
       "    </tr>\n",
       "    <tr>\n",
       "      <th>Batman</th>\n",
       "      <td>1989</td>\n",
       "      <td>Roy Lansford</td>\n",
       "      <td>actor</td>\n",
       "      <td>Party Guest Talking to Vicki Vale</td>\n",
       "      <td>NaN</td>\n",
       "    </tr>\n",
       "    <tr>\n",
       "      <th>Batman</th>\n",
       "      <td>1989</td>\n",
       "      <td>Denis Lill</td>\n",
       "      <td>actor</td>\n",
       "      <td>Bob the Cartoonist</td>\n",
       "      <td>54.0</td>\n",
       "    </tr>\n",
       "    <tr>\n",
       "      <th>Batman</th>\n",
       "      <td>1989</td>\n",
       "      <td>Mac McDonald</td>\n",
       "      <td>actor</td>\n",
       "      <td>Goon</td>\n",
       "      <td>15.0</td>\n",
       "    </tr>\n",
       "    <tr>\n",
       "      <th>...</th>\n",
       "      <td>...</td>\n",
       "      <td>...</td>\n",
       "      <td>...</td>\n",
       "      <td>...</td>\n",
       "      <td>...</td>\n",
       "    </tr>\n",
       "    <tr>\n",
       "      <th>Batman</th>\n",
       "      <td>1989</td>\n",
       "      <td>Jack Palance</td>\n",
       "      <td>actor</td>\n",
       "      <td>Carl Grissom</td>\n",
       "      <td>8.0</td>\n",
       "    </tr>\n",
       "    <tr>\n",
       "      <th>Batman</th>\n",
       "      <td>1989</td>\n",
       "      <td>Terence Plummer</td>\n",
       "      <td>actor</td>\n",
       "      <td>Goon</td>\n",
       "      <td>17.0</td>\n",
       "    </tr>\n",
       "    <tr>\n",
       "      <th>Batman</th>\n",
       "      <td>1989</td>\n",
       "      <td>Steve Plytas</td>\n",
       "      <td>actor</td>\n",
       "      <td>Doctor</td>\n",
       "      <td>38.0</td>\n",
       "    </tr>\n",
       "    <tr>\n",
       "      <th>Batman</th>\n",
       "      <td>1989</td>\n",
       "      <td>Charles Roskilly</td>\n",
       "      <td>actor</td>\n",
       "      <td>Young Bruce Wayne</td>\n",
       "      <td>42.0</td>\n",
       "    </tr>\n",
       "    <tr>\n",
       "      <th>Batman</th>\n",
       "      <td>1989</td>\n",
       "      <td>George Roth</td>\n",
       "      <td>actor</td>\n",
       "      <td>Eddie</td>\n",
       "      <td>25.0</td>\n",
       "    </tr>\n",
       "    <tr>\n",
       "      <th>Batman</th>\n",
       "      <td>1989</td>\n",
       "      <td>Jon Soresi</td>\n",
       "      <td>actor</td>\n",
       "      <td>Medic</td>\n",
       "      <td>51.0</td>\n",
       "    </tr>\n",
       "    <tr>\n",
       "      <th>Batman</th>\n",
       "      <td>1989</td>\n",
       "      <td>Elliott (II) Stein</td>\n",
       "      <td>actor</td>\n",
       "      <td>Man in Crowd</td>\n",
       "      <td>53.0</td>\n",
       "    </tr>\n",
       "    <tr>\n",
       "      <th>Batman</th>\n",
       "      <td>1989</td>\n",
       "      <td>John Sterland</td>\n",
       "      <td>actor</td>\n",
       "      <td>Accountant</td>\n",
       "      <td>19.0</td>\n",
       "    </tr>\n",
       "    <tr>\n",
       "      <th>Batman</th>\n",
       "      <td>1989</td>\n",
       "      <td>Richard Strange</td>\n",
       "      <td>actor</td>\n",
       "      <td>Goon</td>\n",
       "      <td>13.0</td>\n",
       "    </tr>\n",
       "    <tr>\n",
       "      <th>Batman</th>\n",
       "      <td>1989</td>\n",
       "      <td>Philip Tan</td>\n",
       "      <td>actor</td>\n",
       "      <td>Goon</td>\n",
       "      <td>18.0</td>\n",
       "    </tr>\n",
       "    <tr>\n",
       "      <th>Batman</th>\n",
       "      <td>1989</td>\n",
       "      <td>Rocky Taylor</td>\n",
       "      <td>actor</td>\n",
       "      <td>Napier Hood</td>\n",
       "      <td>35.0</td>\n",
       "    </tr>\n",
       "    <tr>\n",
       "      <th>Batman</th>\n",
       "      <td>1989</td>\n",
       "      <td>Lee Wallace</td>\n",
       "      <td>actor</td>\n",
       "      <td>The Mayor</td>\n",
       "      <td>11.0</td>\n",
       "    </tr>\n",
       "    <tr>\n",
       "      <th>Batman</th>\n",
       "      <td>1989</td>\n",
       "      <td>Tracey Walter</td>\n",
       "      <td>actor</td>\n",
       "      <td>Bob the Goon</td>\n",
       "      <td>10.0</td>\n",
       "    </tr>\n",
       "    <tr>\n",
       "      <th>Batman</th>\n",
       "      <td>1989</td>\n",
       "      <td>Anthony Wellington</td>\n",
       "      <td>actor</td>\n",
       "      <td>Patrolman at Party</td>\n",
       "      <td>39.0</td>\n",
       "    </tr>\n",
       "    <tr>\n",
       "      <th>Batman</th>\n",
       "      <td>1989</td>\n",
       "      <td>Billy Dee Williams</td>\n",
       "      <td>actor</td>\n",
       "      <td>Harvey Dent</td>\n",
       "      <td>6.0</td>\n",
       "    </tr>\n",
       "    <tr>\n",
       "      <th>Batman</th>\n",
       "      <td>1989</td>\n",
       "      <td>Christian Wolf-La'Moy</td>\n",
       "      <td>actor</td>\n",
       "      <td>Taxi Driver</td>\n",
       "      <td>NaN</td>\n",
       "    </tr>\n",
       "    <tr>\n",
       "      <th>Batman</th>\n",
       "      <td>1989</td>\n",
       "      <td>Christian Wolf-La'Moy</td>\n",
       "      <td>actor</td>\n",
       "      <td>Joker's Car Owner</td>\n",
       "      <td>NaN</td>\n",
       "    </tr>\n",
       "    <tr>\n",
       "      <th>Batman</th>\n",
       "      <td>1989</td>\n",
       "      <td>Vincent Wong</td>\n",
       "      <td>actor</td>\n",
       "      <td>Crimelord #1</td>\n",
       "      <td>21.0</td>\n",
       "    </tr>\n",
       "    <tr>\n",
       "      <th>Batman</th>\n",
       "      <td>1989</td>\n",
       "      <td>Robert Wuhl</td>\n",
       "      <td>actor</td>\n",
       "      <td>Alexander Knox</td>\n",
       "      <td>4.0</td>\n",
       "    </tr>\n",
       "    <tr>\n",
       "      <th>Batman</th>\n",
       "      <td>1989</td>\n",
       "      <td>Kim Basinger</td>\n",
       "      <td>actress</td>\n",
       "      <td>Vicki Vale</td>\n",
       "      <td>3.0</td>\n",
       "    </tr>\n",
       "    <tr>\n",
       "      <th>Batman</th>\n",
       "      <td>1989</td>\n",
       "      <td>Lachele Carl</td>\n",
       "      <td>actress</td>\n",
       "      <td>TV Technician</td>\n",
       "      <td>30.0</td>\n",
       "    </tr>\n",
       "    <tr>\n",
       "      <th>Batman</th>\n",
       "      <td>1989</td>\n",
       "      <td>Priscilla Cory</td>\n",
       "      <td>actress</td>\n",
       "      <td>Beautiful Hostage</td>\n",
       "      <td>NaN</td>\n",
       "    </tr>\n",
       "    <tr>\n",
       "      <th>Batman</th>\n",
       "      <td>1989</td>\n",
       "      <td>Serena Destouche</td>\n",
       "      <td>actress</td>\n",
       "      <td>Extra</td>\n",
       "      <td>NaN</td>\n",
       "    </tr>\n",
       "    <tr>\n",
       "      <th>Batman</th>\n",
       "      <td>1989</td>\n",
       "      <td>Jerry Hall</td>\n",
       "      <td>actress</td>\n",
       "      <td>Alicia Hunt</td>\n",
       "      <td>9.0</td>\n",
       "    </tr>\n",
       "    <tr>\n",
       "      <th>Batman</th>\n",
       "      <td>1989</td>\n",
       "      <td>Kate Harper</td>\n",
       "      <td>actress</td>\n",
       "      <td>Anchorwoman</td>\n",
       "      <td>26.0</td>\n",
       "    </tr>\n",
       "    <tr>\n",
       "      <th>Batman</th>\n",
       "      <td>1989</td>\n",
       "      <td>Kit Hollerbach</td>\n",
       "      <td>actress</td>\n",
       "      <td>Becky</td>\n",
       "      <td>29.0</td>\n",
       "    </tr>\n",
       "    <tr>\n",
       "      <th>Batman</th>\n",
       "      <td>1989</td>\n",
       "      <td>Sharon Holm</td>\n",
       "      <td>actress</td>\n",
       "      <td>Mrs. Wayne</td>\n",
       "      <td>49.0</td>\n",
       "    </tr>\n",
       "    <tr>\n",
       "      <th>Batman</th>\n",
       "      <td>1989</td>\n",
       "      <td>Pam Rose</td>\n",
       "      <td>actress</td>\n",
       "      <td>Party Guest at Wayne Manor</td>\n",
       "      <td>NaN</td>\n",
       "    </tr>\n",
       "    <tr>\n",
       "      <th>Batman</th>\n",
       "      <td>1989</td>\n",
       "      <td>Liza Ross</td>\n",
       "      <td>actress</td>\n",
       "      <td>Tourist Mom</td>\n",
       "      <td>45.0</td>\n",
       "    </tr>\n",
       "    <tr>\n",
       "      <th>Batman</th>\n",
       "      <td>1989</td>\n",
       "      <td>Rachel Ryan</td>\n",
       "      <td>actress</td>\n",
       "      <td>Corpse</td>\n",
       "      <td>NaN</td>\n",
       "    </tr>\n",
       "  </tbody>\n",
       "</table>\n",
       "<p>68 rows × 5 columns</p>\n",
       "</div>"
      ],
      "text/plain": [
       "        year                   name     type  \\\n",
       "title                                          \n",
       "Batman  1989              Del Baker    actor   \n",
       "Batman  1989        Michael Balfour    actor   \n",
       "Batman  1989             David Baxt    actor   \n",
       "Batman  1989          Paul Birchard    actor   \n",
       "Batman  1989             Hugo Blick    actor   \n",
       "Batman  1989             Carl Chase    actor   \n",
       "Batman  1989     George Lane Cooper    actor   \n",
       "Batman  1989           Harold Coyne    actor   \n",
       "Batman  1989            Edwin Craig    actor   \n",
       "Batman  1989           Clive Curtis    actor   \n",
       "Batman  1989           Joel Cutrara    actor   \n",
       "Batman  1989              John Dair    actor   \n",
       "Batman  1989            Sam Douglas    actor   \n",
       "Batman  1989         Richard Durden    actor   \n",
       "Batman  1989          Keith Edwards    actor   \n",
       "Batman  1989   Christopher Fairbank    actor   \n",
       "Batman  1989           Clyde Gatell    actor   \n",
       "Batman  1989             Pat Gorman    actor   \n",
       "Batman  1989          Michael Gough    actor   \n",
       "Batman  1989          Garrick Hagon    actor   \n",
       "Batman  1989           Leon Herbert    actor   \n",
       "Batman  1989             Pat Hingle    actor   \n",
       "Batman  1989       William Hootkins    actor   \n",
       "Batman  1989           Jazzer Jeyes    actor   \n",
       "Batman  1989         Michael Keaton    actor   \n",
       "Batman  1989         Michael Keaton    actor   \n",
       "Batman  1989        Amir M. Korangy    actor   \n",
       "Batman  1989           Roy Lansford    actor   \n",
       "Batman  1989             Denis Lill    actor   \n",
       "Batman  1989           Mac McDonald    actor   \n",
       "...      ...                    ...      ...   \n",
       "Batman  1989           Jack Palance    actor   \n",
       "Batman  1989        Terence Plummer    actor   \n",
       "Batman  1989           Steve Plytas    actor   \n",
       "Batman  1989       Charles Roskilly    actor   \n",
       "Batman  1989            George Roth    actor   \n",
       "Batman  1989             Jon Soresi    actor   \n",
       "Batman  1989     Elliott (II) Stein    actor   \n",
       "Batman  1989          John Sterland    actor   \n",
       "Batman  1989        Richard Strange    actor   \n",
       "Batman  1989             Philip Tan    actor   \n",
       "Batman  1989           Rocky Taylor    actor   \n",
       "Batman  1989            Lee Wallace    actor   \n",
       "Batman  1989          Tracey Walter    actor   \n",
       "Batman  1989     Anthony Wellington    actor   \n",
       "Batman  1989     Billy Dee Williams    actor   \n",
       "Batman  1989  Christian Wolf-La'Moy    actor   \n",
       "Batman  1989  Christian Wolf-La'Moy    actor   \n",
       "Batman  1989           Vincent Wong    actor   \n",
       "Batman  1989            Robert Wuhl    actor   \n",
       "Batman  1989           Kim Basinger  actress   \n",
       "Batman  1989           Lachele Carl  actress   \n",
       "Batman  1989         Priscilla Cory  actress   \n",
       "Batman  1989       Serena Destouche  actress   \n",
       "Batman  1989             Jerry Hall  actress   \n",
       "Batman  1989            Kate Harper  actress   \n",
       "Batman  1989         Kit Hollerbach  actress   \n",
       "Batman  1989            Sharon Holm  actress   \n",
       "Batman  1989               Pam Rose  actress   \n",
       "Batman  1989              Liza Ross  actress   \n",
       "Batman  1989            Rachel Ryan  actress   \n",
       "\n",
       "                                character     n  \n",
       "title                                            \n",
       "Batman                        Napier Hood  31.0  \n",
       "Batman                          Scientist  44.0  \n",
       "Batman                   Dr. Thomas Wayne  48.0  \n",
       "Batman                   Another Reporter  55.0  \n",
       "Batman                  Young Jack Napier  41.0  \n",
       "Batman                               Goon  14.0  \n",
       "Batman                               Goon  16.0  \n",
       "Batman             Gotham City Pedestrian   NaN  \n",
       "Batman                            Rotelli  20.0  \n",
       "Batman                 Goon in Bell-Tower   NaN  \n",
       "Batman                       Crimelord #2  22.0  \n",
       "Batman                            Ricorso  23.0  \n",
       "Batman                             Lawyer  52.0  \n",
       "Batman                        TV Director  28.0  \n",
       "Batman                           Reporter  36.0  \n",
       "Batman                                Nic  24.0  \n",
       "Batman                       Other Mugger  50.0  \n",
       "Batman              Cop at Axis Chemicals   NaN  \n",
       "Batman                  Alfred Pennyworth   7.0  \n",
       "Batman                        Tourist Dad  46.0  \n",
       "Batman                           Reporter  37.0  \n",
       "Batman          Commissioner James Gordon   5.0  \n",
       "Batman                       Lt. Eckhardt  12.0  \n",
       "Batman                        Napier Hood  32.0  \n",
       "Batman                             Batman   1.0  \n",
       "Batman                        Bruce Wayne   1.0  \n",
       "Batman                       Wine Steward  40.0  \n",
       "Batman  Party Guest Talking to Vicki Vale   NaN  \n",
       "Batman                 Bob the Cartoonist  54.0  \n",
       "Batman                               Goon  15.0  \n",
       "...                                   ...   ...  \n",
       "Batman                       Carl Grissom   8.0  \n",
       "Batman                               Goon  17.0  \n",
       "Batman                             Doctor  38.0  \n",
       "Batman                  Young Bruce Wayne  42.0  \n",
       "Batman                              Eddie  25.0  \n",
       "Batman                              Medic  51.0  \n",
       "Batman                       Man in Crowd  53.0  \n",
       "Batman                         Accountant  19.0  \n",
       "Batman                               Goon  13.0  \n",
       "Batman                               Goon  18.0  \n",
       "Batman                        Napier Hood  35.0  \n",
       "Batman                          The Mayor  11.0  \n",
       "Batman                       Bob the Goon  10.0  \n",
       "Batman                 Patrolman at Party  39.0  \n",
       "Batman                        Harvey Dent   6.0  \n",
       "Batman                        Taxi Driver   NaN  \n",
       "Batman                  Joker's Car Owner   NaN  \n",
       "Batman                       Crimelord #1  21.0  \n",
       "Batman                     Alexander Knox   4.0  \n",
       "Batman                         Vicki Vale   3.0  \n",
       "Batman                      TV Technician  30.0  \n",
       "Batman                  Beautiful Hostage   NaN  \n",
       "Batman                              Extra   NaN  \n",
       "Batman                        Alicia Hunt   9.0  \n",
       "Batman                        Anchorwoman  26.0  \n",
       "Batman                              Becky  29.0  \n",
       "Batman                         Mrs. Wayne  49.0  \n",
       "Batman         Party Guest at Wayne Manor   NaN  \n",
       "Batman                        Tourist Mom  45.0  \n",
       "Batman                             Corpse   NaN  \n",
       "\n",
       "[68 rows x 5 columns]"
      ]
     },
     "execution_count": 46,
     "metadata": {},
     "output_type": "execute_result"
    }
   ],
   "source": [
    "# Quitar indices, \n",
    "b89.reset_index('year')"
   ]
  },
  {
   "cell_type": "code",
   "execution_count": 54,
   "metadata": {},
   "outputs": [
    {
     "data": {
      "text/plain": [
       "title                       year  character                \n",
       "3:10 to Yuma                2007  Dan Evans                    1\n",
       "A Midsummer Night's Dream   1999  Demetrius                    1\n",
       "All the Little Animals      1998  Bobby Platt                  1\n",
       "American Hustle             2013  Irving Rosenfeld             1\n",
       "American Psycho             2000  Patrick Bateman              1\n",
       "Batman Begins               2005  Batman                       1\n",
       "                                  Bruce Wayne                  1\n",
       "Captain Corelli's Mandolin  2001  Mandras                      1\n",
       "Empire of the Sun           1987  Jim                          1\n",
       "Equilibrium                 2002  John Preston                 1\n",
       "Exodus: Gods and Kings      2014  Moses                        1\n",
       "Harsh Times                 2005  Jim Luther Davis             1\n",
       "Hauru no ugoku shiro        2004  Howl                         1\n",
       "Henry V                     1989  Robin the Luggage-Boy        1\n",
       "Hostiles                    2017  Captain Joseph J. Blocker    1\n",
       "I'm Not There.              2007  Jack                         1\n",
       "                                  Pastor John                  1\n",
       "Jin ling shi san chai       2011  John Miller                  1\n",
       "Jungle Book                 2018  Bagheera                     1\n",
       "Knight of Cups              2015  Rick                         1\n",
       "Laurel Canyon               2002  Sam                          1\n",
       "Little Women                1994  Laurie                       1\n",
       "Metroland                   1997  Chris                        1\n",
       "Mio min Mio                 1987  Benke                        1\n",
       "                                  Jum-Jum                      1\n",
       "Newsies                     1992  Jack Kelly                   1\n",
       "Out of the Furnace          2013  Russell Baze                 1\n",
       "Pocahontas                  1995  Thomas                       1\n",
       "Prince of Jutland           1994  Amled                        1\n",
       "Public Enemies              2009  Melvin Purvis                1\n",
       "Reign of Fire               2002  Quinn Abercromby             1\n",
       "Rescue Dawn                 2006  Dieter Dengler               1\n",
       "Shaft                       2000  Walter Wade, Jr.             1\n",
       "Swing Kids                  1993  Thomas Berger                1\n",
       "Terminator Salvation        2009  John Connor                  1\n",
       "The Big Short               2015  Michael Burry                1\n",
       "The Dark Knight             2008  Bruce Wayne                  1\n",
       "The Dark Knight Rises       2012  Bruce Wayne                  1\n",
       "The Fighter                 2010  Dicky Eklund                 1\n",
       "The Machinist               2004  Trevor Reznik                1\n",
       "The New World               2005  John Rolfe                   1\n",
       "The Portrait of a Lady      1996  Edward Rosier                1\n",
       "The Prestige                2006  Alfred Borden                1\n",
       "The Promise (II)            2016  Chris                        1\n",
       "The Secret Agent            1996  Stevie                       1\n",
       "Velvet Goldmine             1998  Arthur Stuart                1\n",
       "dtype: int64"
      ]
     },
     "execution_count": 54,
     "metadata": {},
     "output_type": "execute_result"
    }
   ],
   "source": [
    "# Groupby, agrupando por elementos\n",
    "e = elenco\n",
    "e = e[e.name == \"Christian Bale\"]\n",
    "e.groupby(['title','year','character']).size()"
   ]
  },
  {
   "cell_type": "code",
   "execution_count": 55,
   "metadata": {},
   "outputs": [
    {
     "data": {
      "text/plain": [
       "title                       year\n",
       "3:10 to Yuma                2007    1\n",
       "A Midsummer Night's Dream   1999    1\n",
       "All the Little Animals      1998    1\n",
       "American Hustle             2013    1\n",
       "American Psycho             2000    1\n",
       "Batman Begins               2005    2\n",
       "Captain Corelli's Mandolin  2001    1\n",
       "Empire of the Sun           1987    1\n",
       "Equilibrium                 2002    1\n",
       "Exodus: Gods and Kings      2014    1\n",
       "Harsh Times                 2005    1\n",
       "Hauru no ugoku shiro        2004    1\n",
       "Henry V                     1989    1\n",
       "Hostiles                    2017    1\n",
       "I'm Not There.              2007    2\n",
       "Jin ling shi san chai       2011    1\n",
       "Jungle Book                 2018    1\n",
       "Knight of Cups              2015    1\n",
       "Laurel Canyon               2002    1\n",
       "Little Women                1994    1\n",
       "Metroland                   1997    1\n",
       "Mio min Mio                 1987    2\n",
       "Newsies                     1992    1\n",
       "Out of the Furnace          2013    1\n",
       "Pocahontas                  1995    1\n",
       "Prince of Jutland           1994    1\n",
       "Public Enemies              2009    1\n",
       "Reign of Fire               2002    1\n",
       "Rescue Dawn                 2006    1\n",
       "Shaft                       2000    1\n",
       "Swing Kids                  1993    1\n",
       "Terminator Salvation        2009    1\n",
       "The Big Short               2015    1\n",
       "The Dark Knight             2008    1\n",
       "The Dark Knight Rises       2012    1\n",
       "The Fighter                 2010    1\n",
       "The Machinist               2004    1\n",
       "The New World               2005    1\n",
       "The Portrait of a Lady      1996    1\n",
       "The Prestige                2006    1\n",
       "The Promise (II)            2016    1\n",
       "The Secret Agent            1996    1\n",
       "Velvet Goldmine             1998    1\n",
       "dtype: int64"
      ]
     },
     "execution_count": 55,
     "metadata": {},
     "output_type": "execute_result"
    }
   ],
   "source": [
    "e = elenco\n",
    "e = e[e.name == \"Christian Bale\"]\n",
    "e.groupby(['title','year']).size()"
   ]
  },
  {
   "cell_type": "code",
   "execution_count": 59,
   "metadata": {},
   "outputs": [
    {
     "data": {
      "text/plain": [
       "<matplotlib.axes._subplots.AxesSubplot at 0x7f4d665bfd30>"
      ]
     },
     "execution_count": 59,
     "metadata": {},
     "output_type": "execute_result"
    },
    {
     "data": {
      "image/png": "[encoded data removed]",
      "text/plain": [
       "<matplotlib.figure.Figure at 0x7f4d665ca080>"
      ]
     },
     "metadata": {},
     "output_type": "display_data"
    }
   ],
   "source": [
    "e = elenco\n",
    "e = e[e.name == \"Christian Bale\"]\n",
    "e.groupby(['year']).size().plot()"
   ]
  },
  {
   "cell_type": "code",
   "execution_count": 108,
   "metadata": {},
   "outputs": [
    {
     "data": {
      "text/plain": [
       "<matplotlib.axes._subplots.AxesSubplot at 0x7fd6c45c1320>"
      ]
     },
     "execution_count": 108,
     "metadata": {},
     "output_type": "execute_result"
    },
    {
     "data": {
      "image/png": "[encoded data removed]",
      "text/plain": [
       "<matplotlib.figure.Figure at 0x7fd6c4547588>"
      ]
     },
     "metadata": {},
     "output_type": "display_data"
    }
   ],
   "source": [
    "e = elenco\n",
    "e = e[e.name == \"Christian Bale\"]\n",
    "e.groupby(['year']).size().plot(kind='bar')"
   ]
  },
  {
   "cell_type": "code",
   "execution_count": 109,
   "metadata": {},
   "outputs": [
    {
     "data": {
      "text/plain": [
       "<matplotlib.axes._subplots.AxesSubplot at 0x7fd6c4476c50>"
      ]
     },
     "execution_count": 109,
     "metadata": {},
     "output_type": "execute_result"
    },
    {
     "data": {
      "image/png": "[encoded data removed]",
      "text/plain": [
       "<matplotlib.figure.Figure at 0x7fd6c4482358>"
      ]
     },
     "metadata": {},
     "output_type": "display_data"
    }
   ],
   "source": [
    "# Por decada\n",
    "e = elenco\n",
    "e = e[e.name == \"Christian Bale\"]\n",
    "e.groupby(e.year // 10 * 10).size().plot(kind='bar')"
   ]
  },
  {
   "cell_type": "code",
   "execution_count": 11,
   "metadata": {},
   "outputs": [
    {
     "data": {
      "text/html": [
       "<div>\n",
       "<table border=\"1\" class=\"dataframe\">\n",
       "  <thead>\n",
       "    <tr style=\"text-align: right;\">\n",
       "      <th></th>\n",
       "      <th>title</th>\n",
       "      <th>year</th>\n",
       "      <th>name</th>\n",
       "      <th>type</th>\n",
       "      <th>character</th>\n",
       "      <th>n</th>\n",
       "    </tr>\n",
       "  </thead>\n",
       "  <tbody>\n",
       "    <tr>\n",
       "      <th>47507</th>\n",
       "      <td>The Three Musketeers</td>\n",
       "      <td>1939</td>\n",
       "      <td>Don Ameche</td>\n",
       "      <td>actor</td>\n",
       "      <td>D'Artagnan</td>\n",
       "      <td>1.0</td>\n",
       "    </tr>\n",
       "    <tr>\n",
       "      <th>129535</th>\n",
       "      <td>Robin Hood e i pirati</td>\n",
       "      <td>1960</td>\n",
       "      <td>Lex Barker</td>\n",
       "      <td>actor</td>\n",
       "      <td>Robin Hood</td>\n",
       "      <td>1.0</td>\n",
       "    </tr>\n",
       "    <tr>\n",
       "      <th>133752</th>\n",
       "      <td>Les trois mousquetaires: La vengeance de Milady</td>\n",
       "      <td>1961</td>\n",
       "      <td>G?rard Barray</td>\n",
       "      <td>actor</td>\n",
       "      <td>D'Artagnan</td>\n",
       "      <td>1.0</td>\n",
       "    </tr>\n",
       "    <tr>\n",
       "      <th>176174</th>\n",
       "      <td>Robin Hood</td>\n",
       "      <td>1991</td>\n",
       "      <td>Patrick Bergin</td>\n",
       "      <td>actor</td>\n",
       "      <td>Robin Hood</td>\n",
       "      <td>1.0</td>\n",
       "    </tr>\n",
       "    <tr>\n",
       "      <th>207693</th>\n",
       "      <td>Robin Hood: Ghosts of Sherwood</td>\n",
       "      <td>2012</td>\n",
       "      <td>Ben Bledsoe</td>\n",
       "      <td>actor</td>\n",
       "      <td>Robin Hood</td>\n",
       "      <td>NaN</td>\n",
       "    </tr>\n",
       "  </tbody>\n",
       "</table>\n",
       "</div>"
      ],
      "text/plain": [
       "                                                  title  year            name  \\\n",
       "47507                              The Three Musketeers  1939      Don Ameche   \n",
       "129535                            Robin Hood e i pirati  1960      Lex Barker   \n",
       "133752  Les trois mousquetaires: La vengeance de Milady  1961   G?rard Barray   \n",
       "176174                                       Robin Hood  1991  Patrick Bergin   \n",
       "207693                   Robin Hood: Ghosts of Sherwood  2012     Ben Bledsoe   \n",
       "\n",
       "         type   character    n  \n",
       "47507   actor  D'Artagnan  1.0  \n",
       "129535  actor  Robin Hood  1.0  \n",
       "133752  actor  D'Artagnan  1.0  \n",
       "176174  actor  Robin Hood  1.0  \n",
       "207693  actor  Robin Hood  NaN  "
      ]
     },
     "execution_count": 11,
     "metadata": {},
     "output_type": "execute_result"
    }
   ],
   "source": [
    "# stack y unstack\n",
    "e = elenco\n",
    "e = e[(e.character == \"D'Artagnan\") | (e.character == 'Robin Hood')]\n",
    "e.head()"
   ]
  },
  {
   "cell_type": "code",
   "execution_count": 12,
   "metadata": {},
   "outputs": [
    {
     "data": {
      "text/plain": [
       "character   year\n",
       "D'Artagnan  1916    1\n",
       "            1917    1\n",
       "            1921    1\n",
       "            1929    1\n",
       "            1939    2\n",
       "            1942    1\n",
       "            1948    1\n",
       "            1951    1\n",
       "            1952    1\n",
       "            1953    1\n",
       "            1957    3\n",
       "            1960    1\n",
       "            1961    1\n",
       "            1963    3\n",
       "            1964    1\n",
       "            1971    1\n",
       "            1973    1\n",
       "            1974    2\n",
       "            1979    1\n",
       "            1983    1\n",
       "            1984    1\n",
       "            1989    1\n",
       "            1993    1\n",
       "            1994    1\n",
       "            1998    3\n",
       "            2001    1\n",
       "            2002    1\n",
       "            2005    3\n",
       "            2010    1\n",
       "            2011    1\n",
       "                   ..\n",
       "            2015    1\n",
       "Robin Hood  1913    2\n",
       "            1929    1\n",
       "            1938    1\n",
       "            1948    1\n",
       "            1951    1\n",
       "            1952    1\n",
       "            1954    1\n",
       "            1960    2\n",
       "            1962    2\n",
       "            1965    1\n",
       "            1969    1\n",
       "            1970    3\n",
       "            1971    1\n",
       "            1972    1\n",
       "            1976    3\n",
       "            1979    1\n",
       "            1980    1\n",
       "            1981    1\n",
       "            1983    1\n",
       "            1988    1\n",
       "            1991    3\n",
       "            1993    2\n",
       "            1995    1\n",
       "            1999    1\n",
       "            2002    1\n",
       "            2006    1\n",
       "            2012    3\n",
       "            2013    1\n",
       "            2017    1\n",
       "dtype: int64"
      ]
     },
     "execution_count": 12,
     "metadata": {},
     "output_type": "execute_result"
    }
   ],
   "source": [
    "e = e.groupby(['character', 'year'])\n",
    "e.size()"
   ]
  },
  {
   "cell_type": "code",
   "execution_count": 16,
   "metadata": {},
   "outputs": [
    {
     "data": {
      "text/html": [
       "<div>\n",
       "<table border=\"1\" class=\"dataframe\">\n",
       "  <thead>\n",
       "    <tr style=\"text-align: right;\">\n",
       "      <th>character</th>\n",
       "      <th>D'Artagnan</th>\n",
       "      <th>Robin Hood</th>\n",
       "    </tr>\n",
       "    <tr>\n",
       "      <th>year</th>\n",
       "      <th></th>\n",
       "      <th></th>\n",
       "    </tr>\n",
       "  </thead>\n",
       "  <tbody>\n",
       "    <tr>\n",
       "      <th>1913</th>\n",
       "      <td>NaN</td>\n",
       "      <td>2.0</td>\n",
       "    </tr>\n",
       "    <tr>\n",
       "      <th>1916</th>\n",
       "      <td>1.0</td>\n",
       "      <td>NaN</td>\n",
       "    </tr>\n",
       "    <tr>\n",
       "      <th>1917</th>\n",
       "      <td>1.0</td>\n",
       "      <td>NaN</td>\n",
       "    </tr>\n",
       "    <tr>\n",
       "      <th>1921</th>\n",
       "      <td>1.0</td>\n",
       "      <td>NaN</td>\n",
       "    </tr>\n",
       "    <tr>\n",
       "      <th>1929</th>\n",
       "      <td>1.0</td>\n",
       "      <td>1.0</td>\n",
       "    </tr>\n",
       "  </tbody>\n",
       "</table>\n",
       "</div>"
      ],
      "text/plain": [
       "character  D'Artagnan  Robin Hood\n",
       "year                             \n",
       "1913              NaN         2.0\n",
       "1916              1.0         NaN\n",
       "1917              1.0         NaN\n",
       "1921              1.0         NaN\n",
       "1929              1.0         1.0"
      ]
     },
     "execution_count": 16,
     "metadata": {},
     "output_type": "execute_result"
    }
   ],
   "source": [
    "# Comparemos cada personaje en una columna\n",
    "e.size().unstack(0).head()"
   ]
  },
  {
   "cell_type": "code",
   "execution_count": 19,
   "metadata": {},
   "outputs": [
    {
     "data": {
      "text/html": [
       "<div>\n",
       "<table border=\"1\" class=\"dataframe\">\n",
       "  <thead>\n",
       "    <tr style=\"text-align: right;\">\n",
       "      <th>year</th>\n",
       "      <th>1913</th>\n",
       "      <th>1916</th>\n",
       "      <th>1917</th>\n",
       "      <th>1921</th>\n",
       "      <th>1929</th>\n",
       "      <th>1938</th>\n",
       "      <th>1939</th>\n",
       "      <th>1942</th>\n",
       "      <th>1948</th>\n",
       "      <th>1951</th>\n",
       "      <th>...</th>\n",
       "      <th>2001</th>\n",
       "      <th>2002</th>\n",
       "      <th>2005</th>\n",
       "      <th>2006</th>\n",
       "      <th>2010</th>\n",
       "      <th>2011</th>\n",
       "      <th>2012</th>\n",
       "      <th>2013</th>\n",
       "      <th>2015</th>\n",
       "      <th>2017</th>\n",
       "    </tr>\n",
       "    <tr>\n",
       "      <th>character</th>\n",
       "      <th></th>\n",
       "      <th></th>\n",
       "      <th></th>\n",
       "      <th></th>\n",
       "      <th></th>\n",
       "      <th></th>\n",
       "      <th></th>\n",
       "      <th></th>\n",
       "      <th></th>\n",
       "      <th></th>\n",
       "      <th></th>\n",
       "      <th></th>\n",
       "      <th></th>\n",
       "      <th></th>\n",
       "      <th></th>\n",
       "      <th></th>\n",
       "      <th></th>\n",
       "      <th></th>\n",
       "      <th></th>\n",
       "      <th></th>\n",
       "      <th></th>\n",
       "    </tr>\n",
       "  </thead>\n",
       "  <tbody>\n",
       "    <tr>\n",
       "      <th>D'Artagnan</th>\n",
       "      <td>NaN</td>\n",
       "      <td>1.0</td>\n",
       "      <td>1.0</td>\n",
       "      <td>1.0</td>\n",
       "      <td>1.0</td>\n",
       "      <td>NaN</td>\n",
       "      <td>2.0</td>\n",
       "      <td>1.0</td>\n",
       "      <td>1.0</td>\n",
       "      <td>1.0</td>\n",
       "      <td>...</td>\n",
       "      <td>1.0</td>\n",
       "      <td>1.0</td>\n",
       "      <td>3.0</td>\n",
       "      <td>NaN</td>\n",
       "      <td>1.0</td>\n",
       "      <td>1.0</td>\n",
       "      <td>1.0</td>\n",
       "      <td>1.0</td>\n",
       "      <td>1.0</td>\n",
       "      <td>NaN</td>\n",
       "    </tr>\n",
       "    <tr>\n",
       "      <th>Robin Hood</th>\n",
       "      <td>2.0</td>\n",
       "      <td>NaN</td>\n",
       "      <td>NaN</td>\n",
       "      <td>NaN</td>\n",
       "      <td>1.0</td>\n",
       "      <td>1.0</td>\n",
       "      <td>NaN</td>\n",
       "      <td>NaN</td>\n",
       "      <td>1.0</td>\n",
       "      <td>1.0</td>\n",
       "      <td>...</td>\n",
       "      <td>NaN</td>\n",
       "      <td>1.0</td>\n",
       "      <td>NaN</td>\n",
       "      <td>1.0</td>\n",
       "      <td>NaN</td>\n",
       "      <td>NaN</td>\n",
       "      <td>3.0</td>\n",
       "      <td>1.0</td>\n",
       "      <td>NaN</td>\n",
       "      <td>1.0</td>\n",
       "    </tr>\n",
       "  </tbody>\n",
       "</table>\n",
       "<p>2 rows × 50 columns</p>\n",
       "</div>"
      ],
      "text/plain": [
       "year        1913  1916  1917  1921  1929  1938  1939  1942  1948  1951  ...   \\\n",
       "character                                                               ...    \n",
       "D'Artagnan   NaN   1.0   1.0   1.0   1.0   NaN   2.0   1.0   1.0   1.0  ...    \n",
       "Robin Hood   2.0   NaN   NaN   NaN   1.0   1.0   NaN   NaN   1.0   1.0  ...    \n",
       "\n",
       "year        2001  2002  2005  2006  2010  2011  2012  2013  2015  2017  \n",
       "character                                                               \n",
       "D'Artagnan   1.0   1.0   3.0   NaN   1.0   1.0   1.0   1.0   1.0   NaN  \n",
       "Robin Hood   NaN   1.0   NaN   1.0   NaN   NaN   3.0   1.0   NaN   1.0  \n",
       "\n",
       "[2 rows x 50 columns]"
      ]
     },
     "execution_count": 19,
     "metadata": {},
     "output_type": "execute_result"
    }
   ],
   "source": [
    "e.size().unstack(1).head()"
   ]
  },
  {
   "cell_type": "code",
   "execution_count": 22,
   "metadata": {},
   "outputs": [
    {
     "data": {
      "text/html": [
       "<div>\n",
       "<table border=\"1\" class=\"dataframe\">\n",
       "  <thead>\n",
       "    <tr style=\"text-align: right;\">\n",
       "      <th>year</th>\n",
       "      <th>1913</th>\n",
       "      <th>1916</th>\n",
       "      <th>1917</th>\n",
       "      <th>1921</th>\n",
       "      <th>1929</th>\n",
       "      <th>1938</th>\n",
       "      <th>1939</th>\n",
       "      <th>1942</th>\n",
       "      <th>1948</th>\n",
       "      <th>1951</th>\n",
       "      <th>...</th>\n",
       "      <th>2001</th>\n",
       "      <th>2002</th>\n",
       "      <th>2005</th>\n",
       "      <th>2006</th>\n",
       "      <th>2010</th>\n",
       "      <th>2011</th>\n",
       "      <th>2012</th>\n",
       "      <th>2013</th>\n",
       "      <th>2015</th>\n",
       "      <th>2017</th>\n",
       "    </tr>\n",
       "    <tr>\n",
       "      <th>character</th>\n",
       "      <th></th>\n",
       "      <th></th>\n",
       "      <th></th>\n",
       "      <th></th>\n",
       "      <th></th>\n",
       "      <th></th>\n",
       "      <th></th>\n",
       "      <th></th>\n",
       "      <th></th>\n",
       "      <th></th>\n",
       "      <th></th>\n",
       "      <th></th>\n",
       "      <th></th>\n",
       "      <th></th>\n",
       "      <th></th>\n",
       "      <th></th>\n",
       "      <th></th>\n",
       "      <th></th>\n",
       "      <th></th>\n",
       "      <th></th>\n",
       "      <th></th>\n",
       "    </tr>\n",
       "  </thead>\n",
       "  <tbody>\n",
       "    <tr>\n",
       "      <th>D'Artagnan</th>\n",
       "      <td>NaN</td>\n",
       "      <td>1.0</td>\n",
       "      <td>1.0</td>\n",
       "      <td>1.0</td>\n",
       "      <td>1.0</td>\n",
       "      <td>NaN</td>\n",
       "      <td>2.0</td>\n",
       "      <td>1.0</td>\n",
       "      <td>1.0</td>\n",
       "      <td>1.0</td>\n",
       "      <td>...</td>\n",
       "      <td>1.0</td>\n",
       "      <td>1.0</td>\n",
       "      <td>3.0</td>\n",
       "      <td>NaN</td>\n",
       "      <td>1.0</td>\n",
       "      <td>1.0</td>\n",
       "      <td>1.0</td>\n",
       "      <td>1.0</td>\n",
       "      <td>1.0</td>\n",
       "      <td>NaN</td>\n",
       "    </tr>\n",
       "    <tr>\n",
       "      <th>Robin Hood</th>\n",
       "      <td>2.0</td>\n",
       "      <td>NaN</td>\n",
       "      <td>NaN</td>\n",
       "      <td>NaN</td>\n",
       "      <td>1.0</td>\n",
       "      <td>1.0</td>\n",
       "      <td>NaN</td>\n",
       "      <td>NaN</td>\n",
       "      <td>1.0</td>\n",
       "      <td>1.0</td>\n",
       "      <td>...</td>\n",
       "      <td>NaN</td>\n",
       "      <td>1.0</td>\n",
       "      <td>NaN</td>\n",
       "      <td>1.0</td>\n",
       "      <td>NaN</td>\n",
       "      <td>NaN</td>\n",
       "      <td>3.0</td>\n",
       "      <td>1.0</td>\n",
       "      <td>NaN</td>\n",
       "      <td>1.0</td>\n",
       "    </tr>\n",
       "  </tbody>\n",
       "</table>\n",
       "<p>2 rows × 50 columns</p>\n",
       "</div>"
      ],
      "text/plain": [
       "year        1913  1916  1917  1921  1929  1938  1939  1942  1948  1951  ...   \\\n",
       "character                                                               ...    \n",
       "D'Artagnan   NaN   1.0   1.0   1.0   1.0   NaN   2.0   1.0   1.0   1.0  ...    \n",
       "Robin Hood   2.0   NaN   NaN   NaN   1.0   1.0   NaN   NaN   1.0   1.0  ...    \n",
       "\n",
       "year        2001  2002  2005  2006  2010  2011  2012  2013  2015  2017  \n",
       "character                                                               \n",
       "D'Artagnan   1.0   1.0   3.0   NaN   1.0   1.0   1.0   1.0   1.0   NaN  \n",
       "Robin Hood   NaN   1.0   NaN   1.0   NaN   NaN   3.0   1.0   NaN   1.0  \n",
       "\n",
       "[2 rows x 50 columns]"
      ]
     },
     "execution_count": 22,
     "metadata": {},
     "output_type": "execute_result"
    }
   ],
   "source": [
    "e.size().unstack().head()"
   ]
  },
  {
   "cell_type": "code",
   "execution_count": 24,
   "metadata": {},
   "outputs": [
    {
     "data": {
      "text/html": [
       "<div>\n",
       "<table border=\"1\" class=\"dataframe\">\n",
       "  <thead>\n",
       "    <tr style=\"text-align: right;\">\n",
       "      <th>character</th>\n",
       "      <th>D'Artagnan</th>\n",
       "      <th>Robin Hood</th>\n",
       "    </tr>\n",
       "    <tr>\n",
       "      <th>year</th>\n",
       "      <th></th>\n",
       "      <th></th>\n",
       "    </tr>\n",
       "  </thead>\n",
       "  <tbody>\n",
       "    <tr>\n",
       "      <th>1913</th>\n",
       "      <td>0.0</td>\n",
       "      <td>2.0</td>\n",
       "    </tr>\n",
       "    <tr>\n",
       "      <th>1916</th>\n",
       "      <td>1.0</td>\n",
       "      <td>0.0</td>\n",
       "    </tr>\n",
       "    <tr>\n",
       "      <th>1917</th>\n",
       "      <td>1.0</td>\n",
       "      <td>0.0</td>\n",
       "    </tr>\n",
       "    <tr>\n",
       "      <th>1921</th>\n",
       "      <td>1.0</td>\n",
       "      <td>0.0</td>\n",
       "    </tr>\n",
       "    <tr>\n",
       "      <th>1929</th>\n",
       "      <td>1.0</td>\n",
       "      <td>1.0</td>\n",
       "    </tr>\n",
       "  </tbody>\n",
       "</table>\n",
       "</div>"
      ],
      "text/plain": [
       "character  D'Artagnan  Robin Hood\n",
       "year                             \n",
       "1913              0.0         2.0\n",
       "1916              1.0         0.0\n",
       "1917              1.0         0.0\n",
       "1921              1.0         0.0\n",
       "1929              1.0         1.0"
      ]
     },
     "execution_count": 24,
     "metadata": {},
     "output_type": "execute_result"
    }
   ],
   "source": [
    "e.size().unstack(0).fillna(0).head()"
   ]
  },
  {
   "cell_type": "code",
   "execution_count": 26,
   "metadata": {},
   "outputs": [
    {
     "data": {
      "text/plain": [
       "<matplotlib.axes._subplots.AxesSubplot at 0x7efc56c537b8>"
      ]
     },
     "execution_count": 26,
     "metadata": {},
     "output_type": "execute_result"
    },
    {
     "data": {
      "image/png": "[encoded data removed]",
      "text/plain": [
       "<matplotlib.figure.Figure at 0x7efc56c89438>"
      ]
     },
     "metadata": {},
     "output_type": "display_data"
    }
   ],
   "source": [
    "e.size().unstack(0).fillna(0).plot(kind='bar',figsize=(15,6))"
   ]
  },
  {
   "cell_type": "code",
   "execution_count": 29,
   "metadata": {},
   "outputs": [
    {
     "data": {
      "text/plain": [
       "<matplotlib.axes._subplots.AxesSubplot at 0x7efc56215240>"
      ]
     },
     "execution_count": 29,
     "metadata": {},
     "output_type": "execute_result"
    },
    {
     "data": {
      "image/png": "[encoded data removed]",
      "text/plain": [
       "<matplotlib.figure.Figure at 0x7efc56273358>"
      ]
     },
     "metadata": {},
     "output_type": "display_data"
    }
   ],
   "source": [
    "e = elenco\n",
    "\n",
    "e = e[(e.character == \"D'Artagnan\") | (e.character == 'Robin Hood')]\n",
    "\n",
    "e = e.groupby(['character', e.year // 10 * 10])\n",
    "e.size().unstack(0).fillna(0).plot(kind='bar')\n",
    "#e.size().unstack(0).plot(kind='bar')"
   ]
  },
  {
   "cell_type": "code",
   "execution_count": 32,
   "metadata": {},
   "outputs": [
    {
     "data": {
      "text/html": [
       "<div>\n",
       "<table border=\"1\" class=\"dataframe\">\n",
       "  <thead>\n",
       "    <tr style=\"text-align: right;\">\n",
       "      <th>year</th>\n",
       "      <th>1910</th>\n",
       "      <th>1920</th>\n",
       "      <th>1930</th>\n",
       "      <th>1940</th>\n",
       "      <th>1950</th>\n",
       "      <th>1960</th>\n",
       "      <th>1970</th>\n",
       "      <th>1980</th>\n",
       "      <th>1990</th>\n",
       "      <th>2000</th>\n",
       "      <th>2010</th>\n",
       "    </tr>\n",
       "    <tr>\n",
       "      <th>character</th>\n",
       "      <th></th>\n",
       "      <th></th>\n",
       "      <th></th>\n",
       "      <th></th>\n",
       "      <th></th>\n",
       "      <th></th>\n",
       "      <th></th>\n",
       "      <th></th>\n",
       "      <th></th>\n",
       "      <th></th>\n",
       "      <th></th>\n",
       "    </tr>\n",
       "  </thead>\n",
       "  <tbody>\n",
       "    <tr>\n",
       "      <th>D'Artagnan</th>\n",
       "      <td>2</td>\n",
       "      <td>2</td>\n",
       "      <td>2</td>\n",
       "      <td>2</td>\n",
       "      <td>6</td>\n",
       "      <td>6</td>\n",
       "      <td>5</td>\n",
       "      <td>3</td>\n",
       "      <td>5</td>\n",
       "      <td>5</td>\n",
       "      <td>5</td>\n",
       "    </tr>\n",
       "    <tr>\n",
       "      <th>Robin Hood</th>\n",
       "      <td>2</td>\n",
       "      <td>1</td>\n",
       "      <td>1</td>\n",
       "      <td>1</td>\n",
       "      <td>3</td>\n",
       "      <td>6</td>\n",
       "      <td>9</td>\n",
       "      <td>4</td>\n",
       "      <td>7</td>\n",
       "      <td>2</td>\n",
       "      <td>5</td>\n",
       "    </tr>\n",
       "  </tbody>\n",
       "</table>\n",
       "</div>"
      ],
      "text/plain": [
       "year        1910  1920  1930  1940  1950  1960  1970  1980  1990  2000  2010\n",
       "character                                                                   \n",
       "D'Artagnan     2     2     2     2     6     6     5     3     5     5     5\n",
       "Robin Hood     2     1     1     1     3     6     9     4     7     2     5"
      ]
     },
     "execution_count": 32,
     "metadata": {},
     "output_type": "execute_result"
    }
   ],
   "source": [
    "e = elenco\n",
    "e = e[(e.character == \"D'Artagnan\") | (e.character == 'Robin Hood')]\n",
    "\n",
    "e = e.groupby(['character', e.year // 10 * 10])\n",
    "\n",
    "e = e.size().unstack(0)\n",
    "e\n",
    "\n",
    "e = e.stack(0)\n",
    "e\n",
    "e = e.unstack(0)\n",
    "e"
   ]
  },
  {
   "cell_type": "code",
   "execution_count": null,
   "metadata": {
    "collapsed": true
   },
   "outputs": [],
   "source": []
  },
  {
   "cell_type": "code",
   "execution_count": null,
   "metadata": {
    "collapsed": true
   },
   "outputs": [],
   "source": []
  },
  {
   "cell_type": "code",
   "execution_count": 200,
   "metadata": {},
   "outputs": [
    {
     "data": {
      "text/plain": [
       "<matplotlib.axes._subplots.AxesSubplot at 0x7fd6d4960c50>"
      ]
     },
     "execution_count": 200,
     "metadata": {},
     "output_type": "execute_result"
    },
    {
     "data": {
      "image/png": "[encoded data removed]",
      "text/plain": [
       "<matplotlib.figure.Figure at 0x7fd6d4a11c18>"
      ]
     },
     "metadata": {},
     "output_type": "display_data"
    }
   ],
   "source": [
    "# stack y unstack\n",
    "\n",
    "e = elenco\n",
    "e = e[(e.character == \"D'Artagnan\") | (e.character == 'Robin Hood')]\n",
    "e = e.groupby(['character',e.year //10 * 10]).size() \n",
    "e.unstack(0).fillna(0).plot(kind='barh')\n"
   ]
  },
  {
   "cell_type": "code",
   "execution_count": null,
   "metadata": {
    "collapsed": true
   },
   "outputs": [],
   "source": []
  },
  {
   "cell_type": "code",
   "execution_count": null,
   "metadata": {
    "collapsed": true
   },
   "outputs": [],
   "source": [
    "# Graficar la diferencia entre el numero de papeles \n",
    "# para actores cada año y el numero de papeles para actrices\n",
    "# cada año en la historia de la filmografia"
   ]
  },
  {
   "cell_type": "code",
   "execution_count": 290,
   "metadata": {},
   "outputs": [
    {
     "data": {
      "text/plain": [
       "<matplotlib.axes._subplots.AxesSubplot at 0x7fd6d416bd68>"
      ]
     },
     "execution_count": 290,
     "metadata": {},
     "output_type": "execute_result"
    },
    {
     "data": {
      "image/png": "[encoded data removed]",
      "text/plain": [
       "<matplotlib.figure.Figure at 0x7fd6d41c3cc0>"
      ]
     },
     "metadata": {},
     "output_type": "display_data"
    }
   ],
   "source": [
    "e = elenco\n",
    "e = e.groupby(['year','type']).size()\n",
    "e = e.unstack('type').fillna(0)\n",
    "(e.actor - e.actress).plot()"
   ]
  },
  {
   "cell_type": "code",
   "execution_count": null,
   "metadata": {
    "collapsed": true
   },
   "outputs": [],
   "source": []
  },
  {
   "cell_type": "code",
   "execution_count": 34,
   "metadata": {},
   "outputs": [
    {
     "data": {
      "text/plain": [
       "<matplotlib.axes._subplots.AxesSubplot at 0x7efc5608b6a0>"
      ]
     },
     "execution_count": 34,
     "metadata": {},
     "output_type": "execute_result"
    },
    {
     "data": {
      "image/png": "[encoded data removed]",
      "text/plain": [
       "<matplotlib.figure.Figure at 0x7efc562b60f0>"
      ]
     },
     "metadata": {},
     "output_type": "display_data"
    }
   ],
   "source": [
    "# Graficar en numero de papeles de actores cada año\n",
    "# y el numero de papeles para actrices cada año\n",
    "\n",
    "e = elenco\n",
    "e = e.groupby(['year','type']).size()\n",
    "\n",
    "e = e.unstack('type')\n",
    "\n",
    "e.plot()"
   ]
  },
  {
   "cell_type": "code",
   "execution_count": null,
   "metadata": {
    "collapsed": true
   },
   "outputs": [],
   "source": []
  },
  {
   "cell_type": "code",
   "execution_count": 8,
   "metadata": {},
   "outputs": [
    {
     "data": {
      "text/plain": [
       "<matplotlib.axes._subplots.AxesSubplot at 0x7f5019752cc0>"
      ]
     },
     "execution_count": 8,
     "metadata": {},
     "output_type": "execute_result"
    },
    {
     "data": {
      "image/png": "[encoded data removed]",
      "text/plain": [
       "<matplotlib.figure.Figure at 0x7f50197439e8>"
      ]
     },
     "metadata": {},
     "output_type": "display_data"
    }
   ],
   "source": [
    "# El mismo grafico anterior pero categorizado por decada y\n",
    "# con un grafico de area\n",
    "\n",
    "e = elenco\n",
    "e = e.groupby([e.year//10*10,'type']).size()\n",
    "e = e.unstack('type')\n",
    "e.plot(kind='area')"
   ]
  },
  {
   "cell_type": "code",
   "execution_count": null,
   "metadata": {
    "collapsed": true
   },
   "outputs": [],
   "source": []
  },
  {
   "cell_type": "code",
   "execution_count": 16,
   "metadata": {},
   "outputs": [
    {
     "data": {
      "text/plain": [
       "<matplotlib.axes._subplots.AxesSubplot at 0x7f5019682438>"
      ]
     },
     "execution_count": 16,
     "metadata": {},
     "output_type": "execute_result"
    },
    {
     "data": {
      "image/png": "[encoded data removed]",
      "text/plain": [
       "<matplotlib.figure.Figure at 0x7f501963b208>"
      ]
     },
     "metadata": {},
     "output_type": "display_data"
    }
   ],
   "source": [
    "# Graficar el porcentaje de papeles que han sido \n",
    "# actores cada año en la historia de la filmografia\n",
    "\n",
    "e = elenco\n",
    "e = e.groupby(['year','type']).size()\n",
    "e = e.unstack('type')\n",
    "(e.actor / (e.actor+e.actress) * 100).plot(ylim=[0,100])"
   ]
  },
  {
   "cell_type": "code",
   "execution_count": null,
   "metadata": {
    "collapsed": true
   },
   "outputs": [],
   "source": []
  },
  {
   "cell_type": "code",
   "execution_count": 35,
   "metadata": {},
   "outputs": [
    {
     "data": {
      "text/plain": [
       "<matplotlib.legend.Legend at 0x7efc5607c7b8>"
      ]
     },
     "execution_count": 35,
     "metadata": {},
     "output_type": "execute_result"
    },
    {
     "data": {
      "image/png": "[encoded data removed]",
      "text/plain": [
       "<matplotlib.figure.Figure at 0x7efc55fc3438>"
      ]
     },
     "metadata": {},
     "output_type": "display_data"
    }
   ],
   "source": [
    "# Graficar el porcentaje de papeles que han sido \n",
    "# actores cada año en la historia de la filmografia\n",
    "# junto al mismo porcentaje pero de actrices\n",
    "\n",
    "e = elenco\n",
    "e = e.groupby(['year','type']).size()\n",
    "e = e.unstack('type')\n",
    "\n",
    "\n",
    "(e.actor / (e.actor+e.actress) * 100).plot(ylim=[0,100],label=\"actor %\")\n",
    "(e.actress / (e.actor+e.actress) * 100).plot(ylim=[0,100],label=\"actress %\")\n",
    "plt.legend()"
   ]
  },
  {
   "cell_type": "code",
   "execution_count": null,
   "metadata": {
    "collapsed": true
   },
   "outputs": [],
   "source": []
  },
  {
   "cell_type": "code",
   "execution_count": 37,
   "metadata": {},
   "outputs": [
    {
     "data": {
      "text/plain": [
       "<matplotlib.axes._subplots.AxesSubplot at 0x7efc5605f3c8>"
      ]
     },
     "execution_count": 37,
     "metadata": {},
     "output_type": "execute_result"
    },
    {
     "data": {
      "image/png": "[encoded data removed]",
      "text/plain": [
       "<matplotlib.figure.Figure at 0x7efc55ff3cf8>"
      ]
     },
     "metadata": {},
     "output_type": "display_data"
    }
   ],
   "source": [
    "# Graficar 3 lines con clasificacion \"n\" de 1 al 3 donde cada \n",
    "# linea represente el porcentaje de la clasificacion para \n",
    "# los papeles de actores en cada año.\n",
    "\n",
    "e = elenco\n",
    "e = e[e.n <=3 ]\n",
    "\n",
    "e = e.groupby(['year','type','n']).size()\n",
    "\n",
    "\n",
    "e = e.unstack('type')   # Mover actor, actress a la dimension superior o de keys\n",
    "\n",
    "p = e.actor / (e.actor+e.actress) * 100   # Reducimos\n",
    "p = p.unstack('n')                        # Subimos la categoria 'n'\n",
    "p.plot()"
   ]
  },
  {
   "cell_type": "code",
   "execution_count": null,
   "metadata": {
    "collapsed": true
   },
   "outputs": [],
   "source": []
  },
  {
   "cell_type": "code",
   "execution_count": 43,
   "metadata": {},
   "outputs": [
    {
     "data": {
      "text/plain": [
       "<matplotlib.axes._subplots.AxesSubplot at 0x7f5018cde2e8>"
      ]
     },
     "execution_count": 43,
     "metadata": {},
     "output_type": "execute_result"
    },
    {
     "data": {
      "image/png": "[encoded data removed]",
      "text/plain": [
       "<matplotlib.figure.Figure at 0x7f5018c2d240>"
      ]
     },
     "metadata": {},
     "output_type": "display_data"
    }
   ],
   "source": [
    "# Encontrar las 5 peliculas de la historia tengan mas\n",
    "# actrices que actores\n",
    "\n",
    "e = elenco\n",
    "e = e.groupby(['type','title']).size()\n",
    "e = e.unstack('type')\n",
    "e = (e.actress - e.actor).sort_values(ascending=False)\n",
    "e[:5].plot(kind='bar',title=\"Peliculas con mas actrices en el reparto\")\n"
   ]
  },
  {
   "cell_type": "code",
   "execution_count": null,
   "metadata": {
    "collapsed": true
   },
   "outputs": [],
   "source": []
  },
  {
   "cell_type": "code",
   "execution_count": null,
   "metadata": {
    "collapsed": true
   },
   "outputs": [],
   "source": []
  },
  {
   "cell_type": "code",
   "execution_count": null,
   "metadata": {
    "collapsed": true
   },
   "outputs": [],
   "source": []
  },
  {
   "cell_type": "code",
   "execution_count": null,
   "metadata": {
    "collapsed": true
   },
   "outputs": [],
   "source": []
  }
 ],
 "metadata": {
  "anaconda-cloud": {},
  "kernelspec": {
   "display_name": "Python 3 (ipykernel)",
   "language": "python",
   "name": "python3"
  },
  "language_info": {
   "codemirror_mode": {
    "name": "ipython",
    "version": 3
   },
   "file_extension": ".py",
   "mimetype": "text/x-python",
   "name": "python",
   "nbconvert_exporter": "python",
   "pygments_lexer": "ipython3",
   "version": "3.8.5"
  }
 },
 "nbformat": 4,
 "nbformat_minor": 1
}
