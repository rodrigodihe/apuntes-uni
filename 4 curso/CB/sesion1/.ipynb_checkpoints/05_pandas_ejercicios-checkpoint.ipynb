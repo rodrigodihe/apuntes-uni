{
 "cells": [
  {
   "cell_type": "markdown",
   "metadata": {},
   "source": [
    "## Demo funciones pandas"
   ]
  },
  {
   "cell_type": "code",
   "execution_count": 2,
   "metadata": {},
   "outputs": [
    {
     "name": "stdout",
     "output_type": "stream",
     "text": [
      "Populating the interactive namespace from numpy and matplotlib\n"
     ]
    }
   ],
   "source": [
    "%pylab inline\n",
    "# importando pandas usando la convención\n",
    "import pandas as pd"
   ]
  },
  {
   "cell_type": "code",
   "execution_count": 10,
   "metadata": {},
   "outputs": [
    {
     "data": {
      "text/html": [
       "<div>\n",
       "<table border=\"1\" class=\"dataframe\">\n",
       "  <thead>\n",
       "    <tr style=\"text-align: right;\">\n",
       "      <th></th>\n",
       "      <th>title</th>\n",
       "      <th>year</th>\n",
       "    </tr>\n",
       "  </thead>\n",
       "  <tbody>\n",
       "    <tr>\n",
       "      <th>0</th>\n",
       "      <td>Mahler</td>\n",
       "      <td>1974</td>\n",
       "    </tr>\n",
       "    <tr>\n",
       "      <th>1</th>\n",
       "      <td>Ogon, voda i... mednye truby</td>\n",
       "      <td>1968</td>\n",
       "    </tr>\n",
       "    <tr>\n",
       "      <th>2</th>\n",
       "      <td>Ana Nojoom bent alasherah wamotalagah</td>\n",
       "      <td>2014</td>\n",
       "    </tr>\n",
       "    <tr>\n",
       "      <th>3</th>\n",
       "      <td>Malu de Bicicleta</td>\n",
       "      <td>2010</td>\n",
       "    </tr>\n",
       "    <tr>\n",
       "      <th>4</th>\n",
       "      <td>Nazareno Apostol: Boy Ahas</td>\n",
       "      <td>1989</td>\n",
       "    </tr>\n",
       "  </tbody>\n",
       "</table>\n",
       "</div>"
      ],
      "text/plain": [
       "                                   title  year\n",
       "0                                 Mahler  1974\n",
       "1           Ogon, voda i... mednye truby  1968\n",
       "2  Ana Nojoom bent alasherah wamotalagah  2014\n",
       "3                      Malu de Bicicleta  2010\n",
       "4             Nazareno Apostol: Boy Ahas  1989"
      ]
     },
     "execution_count": 10,
     "metadata": {},
     "output_type": "execute_result"
    }
   ],
   "source": [
    "# Cargar base de datos imdb de titulos de peliculas\n",
    "titulos = pd.read_csv('data/titles.csv', encoding='utf-8' )\n",
    "\n",
    "titulos.head()"
   ]
  },
  {
   "cell_type": "code",
   "execution_count": null,
   "metadata": {},
   "outputs": [],
   "source": []
  },
  {
   "cell_type": "code",
   "execution_count": 32,
   "metadata": {},
   "outputs": [
    {
     "data": {
      "text/html": [
       "<div>\n",
       "<table border=\"1\" class=\"dataframe\">\n",
       "  <thead>\n",
       "    <tr style=\"text-align: right;\">\n",
       "      <th></th>\n",
       "      <th>title</th>\n",
       "      <th>year</th>\n",
       "      <th>name</th>\n",
       "      <th>type</th>\n",
       "      <th>character</th>\n",
       "      <th>n</th>\n",
       "    </tr>\n",
       "  </thead>\n",
       "  <tbody>\n",
       "    <tr>\n",
       "      <th>0</th>\n",
       "      <td>Closet Monster</td>\n",
       "      <td>2015</td>\n",
       "      <td>Buffy #1</td>\n",
       "      <td>actor</td>\n",
       "      <td>Buffy 4</td>\n",
       "      <td>31.0</td>\n",
       "    </tr>\n",
       "    <tr>\n",
       "      <th>1</th>\n",
       "      <td>Suuri illusioni</td>\n",
       "      <td>1985</td>\n",
       "      <td>Homo $</td>\n",
       "      <td>actor</td>\n",
       "      <td>Guests</td>\n",
       "      <td>22.0</td>\n",
       "    </tr>\n",
       "    <tr>\n",
       "      <th>2</th>\n",
       "      <td>Battle of the Sexes</td>\n",
       "      <td>2017</td>\n",
       "      <td>$hutter</td>\n",
       "      <td>actor</td>\n",
       "      <td>Bobby Riggs Fan</td>\n",
       "      <td>10.0</td>\n",
       "    </tr>\n",
       "    <tr>\n",
       "      <th>3</th>\n",
       "      <td>Secret in Their Eyes</td>\n",
       "      <td>2015</td>\n",
       "      <td>$hutter</td>\n",
       "      <td>actor</td>\n",
       "      <td>2002 Dodger Fan</td>\n",
       "      <td>NaN</td>\n",
       "    </tr>\n",
       "    <tr>\n",
       "      <th>4</th>\n",
       "      <td>Steve Jobs</td>\n",
       "      <td>2015</td>\n",
       "      <td>$hutter</td>\n",
       "      <td>actor</td>\n",
       "      <td>1988 Opera House Patron</td>\n",
       "      <td>NaN</td>\n",
       "    </tr>\n",
       "  </tbody>\n",
       "</table>\n",
       "</div>"
      ],
      "text/plain": [
       "                  title  year      name   type                character     n\n",
       "0        Closet Monster  2015  Buffy #1  actor                  Buffy 4  31.0\n",
       "1       Suuri illusioni  1985    Homo $  actor                   Guests  22.0\n",
       "2   Battle of the Sexes  2017   $hutter  actor          Bobby Riggs Fan  10.0\n",
       "3  Secret in Their Eyes  2015   $hutter  actor          2002 Dodger Fan   NaN\n",
       "4            Steve Jobs  2015   $hutter  actor  1988 Opera House Patron   NaN"
      ]
     },
     "execution_count": 32,
     "metadata": {},
     "output_type": "execute_result"
    }
   ],
   "source": [
    "# Cargar base de datos de elenco de peliculas, de imdb\n",
    "elenco = pd.read_csv('data/cast.csv', encoding='utf-8')\n",
    "elenco.head()"
   ]
  },
  {
   "cell_type": "code",
   "execution_count": 11,
   "metadata": {},
   "outputs": [
    {
     "data": {
      "text/plain": [
       "230407"
      ]
     },
     "execution_count": 11,
     "metadata": {},
     "output_type": "execute_result"
    }
   ],
   "source": [
    "# Cuantas peliculas estan listadas en el dataframe de titulos?\n",
    "len(titulos)"
   ]
  },
  {
   "cell_type": "code",
   "execution_count": 12,
   "metadata": {},
   "outputs": [
    {
     "data": {
      "text/html": [
       "<div>\n",
       "<table border=\"1\" class=\"dataframe\">\n",
       "  <thead>\n",
       "    <tr style=\"text-align: right;\">\n",
       "      <th></th>\n",
       "      <th>title</th>\n",
       "      <th>year</th>\n",
       "    </tr>\n",
       "  </thead>\n",
       "  <tbody>\n",
       "    <tr>\n",
       "      <th>13229</th>\n",
       "      <td>Miss Jerry</td>\n",
       "      <td>1894</td>\n",
       "    </tr>\n",
       "    <tr>\n",
       "      <th>103233</th>\n",
       "      <td>The Startled Lover</td>\n",
       "      <td>1898</td>\n",
       "    </tr>\n",
       "    <tr>\n",
       "      <th>133020</th>\n",
       "      <td>Reproduction of the Corbett and Jeffries Fight</td>\n",
       "      <td>1899</td>\n",
       "    </tr>\n",
       "    <tr>\n",
       "      <th>51528</th>\n",
       "      <td>Family Troubles (II)</td>\n",
       "      <td>1900</td>\n",
       "    </tr>\n",
       "    <tr>\n",
       "      <th>195127</th>\n",
       "      <td>Pierrot's Problem, or How to Make a Fat Wife O...</td>\n",
       "      <td>1900</td>\n",
       "    </tr>\n",
       "  </tbody>\n",
       "</table>\n",
       "</div>"
      ],
      "text/plain": [
       "                                                    title  year\n",
       "13229                                          Miss Jerry  1894\n",
       "103233                                 The Startled Lover  1898\n",
       "133020     Reproduction of the Corbett and Jeffries Fight  1899\n",
       "51528                                Family Troubles (II)  1900\n",
       "195127  Pierrot's Problem, or How to Make a Fat Wife O...  1900"
      ]
     },
     "execution_count": 12,
     "metadata": {},
     "output_type": "execute_result"
    }
   ],
   "source": [
    "# Cuales son las peliculas mas antiguas listadas en titulos?\n",
    "titulos.sort_values('year').head()"
   ]
  },
  {
   "cell_type": "markdown",
   "metadata": {},
   "source": [
    "### Revisaremos comandos basicos pandas, sobre estas series"
   ]
  },
  {
   "cell_type": "code",
   "execution_count": 17,
   "metadata": {},
   "outputs": [
    {
     "data": {
      "text/plain": [
       "Hamlet                  19\n",
       "Carmen                  16\n",
       "Macbeth                 15\n",
       "Othello                 11\n",
       "The Three Musketeers    11\n",
       "Name: title, dtype: int64"
      ]
     },
     "execution_count": 17,
     "metadata": {},
     "output_type": "execute_result"
    }
   ],
   "source": [
    "t = titulos\n",
    "t['title'].value_counts().head()"
   ]
  },
  {
   "cell_type": "code",
   "execution_count": 20,
   "metadata": {},
   "outputs": [
    {
     "data": {
      "text/html": [
       "<div>\n",
       "<table border=\"1\" class=\"dataframe\">\n",
       "  <thead>\n",
       "    <tr style=\"text-align: right;\">\n",
       "      <th></th>\n",
       "      <th>title</th>\n",
       "      <th>year</th>\n",
       "    </tr>\n",
       "  </thead>\n",
       "  <tbody>\n",
       "    <tr>\n",
       "      <th>13229</th>\n",
       "      <td>Miss Jerry</td>\n",
       "      <td>1894</td>\n",
       "    </tr>\n",
       "    <tr>\n",
       "      <th>103233</th>\n",
       "      <td>The Startled Lover</td>\n",
       "      <td>1898</td>\n",
       "    </tr>\n",
       "    <tr>\n",
       "      <th>133020</th>\n",
       "      <td>Reproduction of the Corbett and Jeffries Fight</td>\n",
       "      <td>1899</td>\n",
       "    </tr>\n",
       "    <tr>\n",
       "      <th>51528</th>\n",
       "      <td>Family Troubles (II)</td>\n",
       "      <td>1900</td>\n",
       "    </tr>\n",
       "    <tr>\n",
       "      <th>195127</th>\n",
       "      <td>Pierrot's Problem, or How to Make a Fat Wife O...</td>\n",
       "      <td>1900</td>\n",
       "    </tr>\n",
       "  </tbody>\n",
       "</table>\n",
       "</div>"
      ],
      "text/plain": [
       "                                                    title  year\n",
       "13229                                          Miss Jerry  1894\n",
       "103233                                 The Startled Lover  1898\n",
       "133020     Reproduction of the Corbett and Jeffries Fight  1899\n",
       "51528                                Family Troubles (II)  1900\n",
       "195127  Pierrot's Problem, or How to Make a Fat Wife O...  1900"
      ]
     },
     "execution_count": 20,
     "metadata": {},
     "output_type": "execute_result"
    }
   ],
   "source": [
    "t = titulos\n",
    "t.sort_values('year').head()"
   ]
  },
  {
   "cell_type": "code",
   "execution_count": 21,
   "metadata": {},
   "outputs": [
    {
     "data": {
      "text/html": [
       "<div>\n",
       "<table border=\"1\" class=\"dataframe\">\n",
       "  <thead>\n",
       "    <tr style=\"text-align: right;\">\n",
       "      <th></th>\n",
       "      <th>title</th>\n",
       "      <th>year</th>\n",
       "    </tr>\n",
       "  </thead>\n",
       "  <tbody>\n",
       "    <tr>\n",
       "      <th>30479</th>\n",
       "      <td>Dracula</td>\n",
       "      <td>1992</td>\n",
       "    </tr>\n",
       "    <tr>\n",
       "      <th>35229</th>\n",
       "      <td>Dracula</td>\n",
       "      <td>1958</td>\n",
       "    </tr>\n",
       "    <tr>\n",
       "      <th>62596</th>\n",
       "      <td>Dracula</td>\n",
       "      <td>1999</td>\n",
       "    </tr>\n",
       "    <tr>\n",
       "      <th>94156</th>\n",
       "      <td>Dracula</td>\n",
       "      <td>1931</td>\n",
       "    </tr>\n",
       "    <tr>\n",
       "      <th>156968</th>\n",
       "      <td>Dracula</td>\n",
       "      <td>2019</td>\n",
       "    </tr>\n",
       "    <tr>\n",
       "      <th>184003</th>\n",
       "      <td>Dracula</td>\n",
       "      <td>1979</td>\n",
       "    </tr>\n",
       "  </tbody>\n",
       "</table>\n",
       "</div>"
      ],
      "text/plain": [
       "          title  year\n",
       "30479   Dracula  1992\n",
       "35229   Dracula  1958\n",
       "62596   Dracula  1999\n",
       "94156   Dracula  1931\n",
       "156968  Dracula  2019\n",
       "184003  Dracula  1979"
      ]
     },
     "execution_count": 21,
     "metadata": {},
     "output_type": "execute_result"
    }
   ],
   "source": [
    "t[t.title == \"Dracula\"]"
   ]
  },
  {
   "cell_type": "code",
   "execution_count": 24,
   "metadata": {},
   "outputs": [
    {
     "data": {
      "text/html": [
       "<div>\n",
       "<table border=\"1\" class=\"dataframe\">\n",
       "  <thead>\n",
       "    <tr style=\"text-align: right;\">\n",
       "      <th></th>\n",
       "      <th>title</th>\n",
       "      <th>year</th>\n",
       "    </tr>\n",
       "  </thead>\n",
       "  <tbody>\n",
       "    <tr>\n",
       "      <th>124702</th>\n",
       "      <td>Romeo and Juliet</td>\n",
       "      <td>1916</td>\n",
       "    </tr>\n",
       "    <tr>\n",
       "      <th>82622</th>\n",
       "      <td>Romeo and Juliet</td>\n",
       "      <td>1936</td>\n",
       "    </tr>\n",
       "    <tr>\n",
       "      <th>147308</th>\n",
       "      <td>Romeo and Juliet</td>\n",
       "      <td>1947</td>\n",
       "    </tr>\n",
       "    <tr>\n",
       "      <th>87037</th>\n",
       "      <td>Romeo and Juliet</td>\n",
       "      <td>1954</td>\n",
       "    </tr>\n",
       "    <tr>\n",
       "      <th>196039</th>\n",
       "      <td>Romeo and Juliet</td>\n",
       "      <td>1966</td>\n",
       "    </tr>\n",
       "    <tr>\n",
       "      <th>185337</th>\n",
       "      <td>Romeo and Juliet</td>\n",
       "      <td>1968</td>\n",
       "    </tr>\n",
       "    <tr>\n",
       "      <th>144796</th>\n",
       "      <td>Romeo and Juliet</td>\n",
       "      <td>2013</td>\n",
       "    </tr>\n",
       "    <tr>\n",
       "      <th>16975</th>\n",
       "      <td>Romeo and Juliet</td>\n",
       "      <td>2014</td>\n",
       "    </tr>\n",
       "  </tbody>\n",
       "</table>\n",
       "</div>"
      ],
      "text/plain": [
       "                   title  year\n",
       "124702  Romeo and Juliet  1916\n",
       "82622   Romeo and Juliet  1936\n",
       "147308  Romeo and Juliet  1947\n",
       "87037   Romeo and Juliet  1954\n",
       "196039  Romeo and Juliet  1966\n",
       "185337  Romeo and Juliet  1968\n",
       "144796  Romeo and Juliet  2013\n",
       "16975   Romeo and Juliet  2014"
      ]
     },
     "execution_count": 24,
     "metadata": {},
     "output_type": "execute_result"
    }
   ],
   "source": [
    "t[t.title == \"Romeo and Juliet\"].sort_values('year')"
   ]
  },
  {
   "cell_type": "code",
   "execution_count": 25,
   "metadata": {},
   "outputs": [
    {
     "data": {
      "text/html": [
       "<div>\n",
       "<table border=\"1\" class=\"dataframe\">\n",
       "  <thead>\n",
       "    <tr style=\"text-align: right;\">\n",
       "      <th></th>\n",
       "      <th>title</th>\n",
       "      <th>year</th>\n",
       "    </tr>\n",
       "  </thead>\n",
       "  <tbody>\n",
       "    <tr>\n",
       "      <th>122255</th>\n",
       "      <td>The Man o' Warsman</td>\n",
       "      <td>1914</td>\n",
       "    </tr>\n",
       "    <tr>\n",
       "      <th>105847</th>\n",
       "      <td>The War of Wars; Or, The Franco-German Invasion</td>\n",
       "      <td>1914</td>\n",
       "    </tr>\n",
       "    <tr>\n",
       "      <th>70439</th>\n",
       "      <td>The Indian Wars</td>\n",
       "      <td>1914</td>\n",
       "    </tr>\n",
       "    <tr>\n",
       "      <th>90148</th>\n",
       "      <td>Meine Cousine aus Warschau</td>\n",
       "      <td>1931</td>\n",
       "    </tr>\n",
       "    <tr>\n",
       "      <th>81083</th>\n",
       "      <td>Parada Warszawy</td>\n",
       "      <td>1937</td>\n",
       "    </tr>\n",
       "  </tbody>\n",
       "</table>\n",
       "</div>"
      ],
      "text/plain": [
       "                                                  title  year\n",
       "122255                               The Man o' Warsman  1914\n",
       "105847  The War of Wars; Or, The Franco-German Invasion  1914\n",
       "70439                                   The Indian Wars  1914\n",
       "90148                        Meine Cousine aus Warschau  1931\n",
       "81083                                   Parada Warszawy  1937"
      ]
     },
     "execution_count": 25,
     "metadata": {},
     "output_type": "execute_result"
    }
   ],
   "source": [
    "t[t.title.str.contains(\"Wars\")].sort_values('year').head()"
   ]
  },
  {
   "cell_type": "code",
   "execution_count": 30,
   "metadata": {},
   "outputs": [
    {
     "data": {
      "text/plain": [
       "6325"
      ]
     },
     "execution_count": 30,
     "metadata": {},
     "output_type": "execute_result"
    }
   ],
   "source": [
    "len( t[ (t.year > 1960) & (t.year < 1965) ] ) "
   ]
  },
  {
   "cell_type": "code",
   "execution_count": 31,
   "metadata": {},
   "outputs": [
    {
     "data": {
      "text/plain": [
       "18508"
      ]
     },
     "execution_count": 31,
     "metadata": {},
     "output_type": "execute_result"
    }
   ],
   "source": [
    "len( t[ t.year // 10 == 197 ] )197"
   ]
  },
  {
   "cell_type": "code",
   "execution_count": 46,
   "metadata": {},
   "outputs": [
    {
     "data": {
      "text/html": [
       "<div>\n",
       "<table border=\"1\" class=\"dataframe\">\n",
       "  <thead>\n",
       "    <tr style=\"text-align: right;\">\n",
       "      <th></th>\n",
       "      <th>title</th>\n",
       "      <th>year</th>\n",
       "      <th>name</th>\n",
       "      <th>type</th>\n",
       "      <th>character</th>\n",
       "      <th>n</th>\n",
       "    </tr>\n",
       "  </thead>\n",
       "  <tbody>\n",
       "    <tr>\n",
       "      <th>2210716</th>\n",
       "      <td>The Godfather</td>\n",
       "      <td>1972</td>\n",
       "      <td>Saro Urz?</td>\n",
       "      <td>actor</td>\n",
       "      <td>Vitelli - Sicilian Sequence</td>\n",
       "      <td>34.0</td>\n",
       "    </tr>\n",
       "    <tr>\n",
       "      <th>403361</th>\n",
       "      <td>The Godfather</td>\n",
       "      <td>1972</td>\n",
       "      <td>Franco Citti</td>\n",
       "      <td>actor</td>\n",
       "      <td>Calo - Sicilian Sequence</td>\n",
       "      <td>33.0</td>\n",
       "    </tr>\n",
       "    <tr>\n",
       "      <th>748995</th>\n",
       "      <td>The Godfather</td>\n",
       "      <td>1972</td>\n",
       "      <td>Corrado Gaipa</td>\n",
       "      <td>actor</td>\n",
       "      <td>Don Tommasino - Sicilian Sequence</td>\n",
       "      <td>32.0</td>\n",
       "    </tr>\n",
       "    <tr>\n",
       "      <th>1015341</th>\n",
       "      <td>The Godfather</td>\n",
       "      <td>1972</td>\n",
       "      <td>Angelo Infanti</td>\n",
       "      <td>actor</td>\n",
       "      <td>Fabrizio - Sicilian Sequence</td>\n",
       "      <td>31.0</td>\n",
       "    </tr>\n",
       "    <tr>\n",
       "      <th>3399922</th>\n",
       "      <td>The Godfather</td>\n",
       "      <td>1972</td>\n",
       "      <td>Simonetta Stefanelli</td>\n",
       "      <td>actress</td>\n",
       "      <td>Apollonia - Sicilian Sequence</td>\n",
       "      <td>30.0</td>\n",
       "    </tr>\n",
       "    <tr>\n",
       "      <th>3360381</th>\n",
       "      <td>The Godfather</td>\n",
       "      <td>1972</td>\n",
       "      <td>Ardell Sheridan</td>\n",
       "      <td>actress</td>\n",
       "      <td>Mrs. Clemenza</td>\n",
       "      <td>29.0</td>\n",
       "    </tr>\n",
       "    <tr>\n",
       "      <th>2811070</th>\n",
       "      <td>The Godfather</td>\n",
       "      <td>1972</td>\n",
       "      <td>Julie Gregg</td>\n",
       "      <td>actress</td>\n",
       "      <td>Sandra Corleone</td>\n",
       "      <td>28.0</td>\n",
       "    </tr>\n",
       "    <tr>\n",
       "      <th>3020378</th>\n",
       "      <td>The Godfather</td>\n",
       "      <td>1972</td>\n",
       "      <td>Jeannie Linero</td>\n",
       "      <td>actress</td>\n",
       "      <td>Lucy Mancini</td>\n",
       "      <td>27.0</td>\n",
       "    </tr>\n",
       "    <tr>\n",
       "      <th>1808526</th>\n",
       "      <td>The Godfather</td>\n",
       "      <td>1972</td>\n",
       "      <td>Victor Rendina</td>\n",
       "      <td>actor</td>\n",
       "      <td>Philip Tattaglia</td>\n",
       "      <td>26.0</td>\n",
       "    </tr>\n",
       "    <tr>\n",
       "      <th>3023908</th>\n",
       "      <td>The Godfather</td>\n",
       "      <td>1972</td>\n",
       "      <td>Tere Livrano</td>\n",
       "      <td>actress</td>\n",
       "      <td>Theresa Hagen</td>\n",
       "      <td>25.0</td>\n",
       "    </tr>\n",
       "    <tr>\n",
       "      <th>1952800</th>\n",
       "      <td>The Godfather</td>\n",
       "      <td>1972</td>\n",
       "      <td>Vito Scotti</td>\n",
       "      <td>actor</td>\n",
       "      <td>Nazorine</td>\n",
       "      <td>24.0</td>\n",
       "    </tr>\n",
       "    <tr>\n",
       "      <th>795073</th>\n",
       "      <td>The Godfather</td>\n",
       "      <td>1972</td>\n",
       "      <td>Tony Giorgio</td>\n",
       "      <td>actor</td>\n",
       "      <td>Bruno Tattaglia</td>\n",
       "      <td>23.0</td>\n",
       "    </tr>\n",
       "    <tr>\n",
       "      <th>1847779</th>\n",
       "      <td>The Godfather</td>\n",
       "      <td>1972</td>\n",
       "      <td>Alex Rocco</td>\n",
       "      <td>actor</td>\n",
       "      <td>Moe Greene</td>\n",
       "      <td>22.0</td>\n",
       "    </tr>\n",
       "    <tr>\n",
       "      <th>259495</th>\n",
       "      <td>The Godfather</td>\n",
       "      <td>1972</td>\n",
       "      <td>Richard Bright</td>\n",
       "      <td>actor</td>\n",
       "      <td>Neri</td>\n",
       "      <td>21.0</td>\n",
       "    </tr>\n",
       "    <tr>\n",
       "      <th>453023</th>\n",
       "      <td>The Godfather</td>\n",
       "      <td>1972</td>\n",
       "      <td>Salvatore Corsitto</td>\n",
       "      <td>actor</td>\n",
       "      <td>Bonasera</td>\n",
       "      <td>20.0</td>\n",
       "    </tr>\n",
       "    <tr>\n",
       "      <th>1381650</th>\n",
       "      <td>The Godfather</td>\n",
       "      <td>1972</td>\n",
       "      <td>John Martino</td>\n",
       "      <td>actor</td>\n",
       "      <td>Paulie Gatto</td>\n",
       "      <td>19.0</td>\n",
       "    </tr>\n",
       "    <tr>\n",
       "      <th>1497435</th>\n",
       "      <td>The Godfather</td>\n",
       "      <td>1972</td>\n",
       "      <td>Lenny Montana</td>\n",
       "      <td>actor</td>\n",
       "      <td>Luca Brasi</td>\n",
       "      <td>18.0</td>\n",
       "    </tr>\n",
       "    <tr>\n",
       "      <th>2950705</th>\n",
       "      <td>The Godfather</td>\n",
       "      <td>1972</td>\n",
       "      <td>Morgana King</td>\n",
       "      <td>actress</td>\n",
       "      <td>Mama Corleone</td>\n",
       "      <td>17.0</td>\n",
       "    </tr>\n",
       "    <tr>\n",
       "      <th>1381599</th>\n",
       "      <td>The Godfather</td>\n",
       "      <td>1972</td>\n",
       "      <td>Al Martino</td>\n",
       "      <td>actor</td>\n",
       "      <td>Johnny Fontane</td>\n",
       "      <td>16.0</td>\n",
       "    </tr>\n",
       "    <tr>\n",
       "      <th>220852</th>\n",
       "      <td>The Godfather</td>\n",
       "      <td>1972</td>\n",
       "      <td>Rudy Bond</td>\n",
       "      <td>actor</td>\n",
       "      <td>Cuneo</td>\n",
       "      <td>15.0</td>\n",
       "    </tr>\n",
       "    <tr>\n",
       "      <th>355932</th>\n",
       "      <td>The Godfather</td>\n",
       "      <td>1972</td>\n",
       "      <td>John Cazale</td>\n",
       "      <td>actor</td>\n",
       "      <td>Fredo</td>\n",
       "      <td>14.0</td>\n",
       "    </tr>\n",
       "    <tr>\n",
       "      <th>1888284</th>\n",
       "      <td>The Godfather</td>\n",
       "      <td>1972</td>\n",
       "      <td>Gianni Russo</td>\n",
       "      <td>actor</td>\n",
       "      <td>Carlo</td>\n",
       "      <td>13.0</td>\n",
       "    </tr>\n",
       "    <tr>\n",
       "      <th>3363276</th>\n",
       "      <td>The Godfather</td>\n",
       "      <td>1972</td>\n",
       "      <td>Talia Shire</td>\n",
       "      <td>actress</td>\n",
       "      <td>Connie</td>\n",
       "      <td>12.0</td>\n",
       "    </tr>\n",
       "    <tr>\n",
       "      <th>2244677</th>\n",
       "      <td>The Godfather</td>\n",
       "      <td>1972</td>\n",
       "      <td>Abe Vigoda</td>\n",
       "      <td>actor</td>\n",
       "      <td>Tessio</td>\n",
       "      <td>11.0</td>\n",
       "    </tr>\n",
       "    <tr>\n",
       "      <th>2935727</th>\n",
       "      <td>The Godfather</td>\n",
       "      <td>1972</td>\n",
       "      <td>Diane Keaton</td>\n",
       "      <td>actress</td>\n",
       "      <td>Kay Adams</td>\n",
       "      <td>10.0</td>\n",
       "    </tr>\n",
       "    <tr>\n",
       "      <th>1260607</th>\n",
       "      <td>The Godfather</td>\n",
       "      <td>1972</td>\n",
       "      <td>Al Lettieri</td>\n",
       "      <td>actor</td>\n",
       "      <td>Sollozzo</td>\n",
       "      <td>9.0</td>\n",
       "    </tr>\n",
       "    <tr>\n",
       "      <th>437796</th>\n",
       "      <td>The Godfather</td>\n",
       "      <td>1972</td>\n",
       "      <td>Richard Conte</td>\n",
       "      <td>actor</td>\n",
       "      <td>Barzini</td>\n",
       "      <td>8.0</td>\n",
       "    </tr>\n",
       "    <tr>\n",
       "      <th>1368787</th>\n",
       "      <td>The Godfather</td>\n",
       "      <td>1972</td>\n",
       "      <td>John Marley</td>\n",
       "      <td>actor</td>\n",
       "      <td>Jack Woltz</td>\n",
       "      <td>7.0</td>\n",
       "    </tr>\n",
       "    <tr>\n",
       "      <th>918579</th>\n",
       "      <td>The Godfather</td>\n",
       "      <td>1972</td>\n",
       "      <td>Sterling Hayden</td>\n",
       "      <td>actor</td>\n",
       "      <td>Capt. McCluskey</td>\n",
       "      <td>6.0</td>\n",
       "    </tr>\n",
       "    <tr>\n",
       "      <th>613255</th>\n",
       "      <td>The Godfather</td>\n",
       "      <td>1972</td>\n",
       "      <td>Robert Duvall</td>\n",
       "      <td>actor</td>\n",
       "      <td>Tom Hagen</td>\n",
       "      <td>5.0</td>\n",
       "    </tr>\n",
       "    <tr>\n",
       "      <th>349145</th>\n",
       "      <td>The Godfather</td>\n",
       "      <td>1972</td>\n",
       "      <td>Richard S. Castellano</td>\n",
       "      <td>actor</td>\n",
       "      <td>Clemenza</td>\n",
       "      <td>4.0</td>\n",
       "    </tr>\n",
       "    <tr>\n",
       "      <th>306807</th>\n",
       "      <td>The Godfather</td>\n",
       "      <td>1972</td>\n",
       "      <td>James Caan</td>\n",
       "      <td>actor</td>\n",
       "      <td>Sonny Corleone</td>\n",
       "      <td>3.0</td>\n",
       "    </tr>\n",
       "    <tr>\n",
       "      <th>1642816</th>\n",
       "      <td>The Godfather</td>\n",
       "      <td>1972</td>\n",
       "      <td>Al Pacino</td>\n",
       "      <td>actor</td>\n",
       "      <td>Michael Corleone</td>\n",
       "      <td>2.0</td>\n",
       "    </tr>\n",
       "    <tr>\n",
       "      <th>248000</th>\n",
       "      <td>The Godfather</td>\n",
       "      <td>1972</td>\n",
       "      <td>Marlon Brando</td>\n",
       "      <td>actor</td>\n",
       "      <td>Don Vito Corleone</td>\n",
       "      <td>1.0</td>\n",
       "    </tr>\n",
       "  </tbody>\n",
       "</table>\n",
       "</div>"
      ],
      "text/plain": [
       "                 title  year                   name     type  \\\n",
       "2210716  The Godfather  1972              Saro Urz?    actor   \n",
       "403361   The Godfather  1972           Franco Citti    actor   \n",
       "748995   The Godfather  1972          Corrado Gaipa    actor   \n",
       "1015341  The Godfather  1972         Angelo Infanti    actor   \n",
       "3399922  The Godfather  1972   Simonetta Stefanelli  actress   \n",
       "3360381  The Godfather  1972        Ardell Sheridan  actress   \n",
       "2811070  The Godfather  1972            Julie Gregg  actress   \n",
       "3020378  The Godfather  1972         Jeannie Linero  actress   \n",
       "1808526  The Godfather  1972         Victor Rendina    actor   \n",
       "3023908  The Godfather  1972           Tere Livrano  actress   \n",
       "1952800  The Godfather  1972            Vito Scotti    actor   \n",
       "795073   The Godfather  1972           Tony Giorgio    actor   \n",
       "1847779  The Godfather  1972             Alex Rocco    actor   \n",
       "259495   The Godfather  1972         Richard Bright    actor   \n",
       "453023   The Godfather  1972     Salvatore Corsitto    actor   \n",
       "1381650  The Godfather  1972           John Martino    actor   \n",
       "1497435  The Godfather  1972          Lenny Montana    actor   \n",
       "2950705  The Godfather  1972           Morgana King  actress   \n",
       "1381599  The Godfather  1972             Al Martino    actor   \n",
       "220852   The Godfather  1972              Rudy Bond    actor   \n",
       "355932   The Godfather  1972            John Cazale    actor   \n",
       "1888284  The Godfather  1972           Gianni Russo    actor   \n",
       "3363276  The Godfather  1972            Talia Shire  actress   \n",
       "2244677  The Godfather  1972             Abe Vigoda    actor   \n",
       "2935727  The Godfather  1972           Diane Keaton  actress   \n",
       "1260607  The Godfather  1972            Al Lettieri    actor   \n",
       "437796   The Godfather  1972          Richard Conte    actor   \n",
       "1368787  The Godfather  1972            John Marley    actor   \n",
       "918579   The Godfather  1972        Sterling Hayden    actor   \n",
       "613255   The Godfather  1972          Robert Duvall    actor   \n",
       "349145   The Godfather  1972  Richard S. Castellano    actor   \n",
       "306807   The Godfather  1972             James Caan    actor   \n",
       "1642816  The Godfather  1972              Al Pacino    actor   \n",
       "248000   The Godfather  1972          Marlon Brando    actor   \n",
       "\n",
       "                                 character     n  \n",
       "2210716        Vitelli - Sicilian Sequence  34.0  \n",
       "403361            Calo - Sicilian Sequence  33.0  \n",
       "748995   Don Tommasino - Sicilian Sequence  32.0  \n",
       "1015341       Fabrizio - Sicilian Sequence  31.0  \n",
       "3399922      Apollonia - Sicilian Sequence  30.0  \n",
       "3360381                      Mrs. Clemenza  29.0  \n",
       "2811070                    Sandra Corleone  28.0  \n",
       "3020378                       Lucy Mancini  27.0  \n",
       "1808526                   Philip Tattaglia  26.0  \n",
       "3023908                      Theresa Hagen  25.0  \n",
       "1952800                           Nazorine  24.0  \n",
       "795073                     Bruno Tattaglia  23.0  \n",
       "1847779                         Moe Greene  22.0  \n",
       "259495                                Neri  21.0  \n",
       "453023                            Bonasera  20.0  \n",
       "1381650                       Paulie Gatto  19.0  \n",
       "1497435                         Luca Brasi  18.0  \n",
       "2950705                      Mama Corleone  17.0  \n",
       "1381599                     Johnny Fontane  16.0  \n",
       "220852                               Cuneo  15.0  \n",
       "355932                               Fredo  14.0  \n",
       "1888284                              Carlo  13.0  \n",
       "3363276                             Connie  12.0  \n",
       "2244677                             Tessio  11.0  \n",
       "2935727                          Kay Adams  10.0  \n",
       "1260607                           Sollozzo   9.0  \n",
       "437796                             Barzini   8.0  \n",
       "1368787                         Jack Woltz   7.0  \n",
       "918579                     Capt. McCluskey   6.0  \n",
       "613255                           Tom Hagen   5.0  \n",
       "349145                            Clemenza   4.0  \n",
       "306807                      Sonny Corleone   3.0  \n",
       "1642816                   Michael Corleone   2.0  \n",
       "248000                   Don Vito Corleone   1.0  "
      ]
     },
     "execution_count": 46,
     "metadata": {},
     "output_type": "execute_result"
    }
   ],
   "source": [
    "# \"The Godfather\" cuantos papeles hubo en la pelicua \n",
    "e = elenco\n",
    "e = e[e.title == \"The Godfather\"] # .sort_values('n')\n",
    "e = e[e.n.notnull()].sort_values('n',ascending=False)\n",
    "e"
   ]
  },
  {
   "cell_type": "code",
   "execution_count": 45,
   "metadata": {},
   "outputs": [
    {
     "data": {
      "text/plain": [
       "3564650"
      ]
     },
     "execution_count": 45,
     "metadata": {},
     "output_type": "execute_result"
    }
   ],
   "source": [
    "len(elenco)"
   ]
  },
  {
   "cell_type": "code",
   "execution_count": null,
   "metadata": {
    "collapsed": true
   },
   "outputs": [],
   "source": []
  },
  {
   "cell_type": "markdown",
   "metadata": {},
   "source": [
    "### Ejercicios"
   ]
  },
  {
   "cell_type": "code",
   "execution_count": 1,
   "metadata": {},
   "outputs": [],
   "source": [
    "# Cuantas peliculas estan listadas por el nombre \"Dracula\" ?\n"
   ]
  },
  {
   "cell_type": "code",
   "execution_count": 2,
   "metadata": {},
   "outputs": [],
   "source": [
    "# Titulos mas comunes en la historia filmografica\n"
   ]
  },
  {
   "cell_type": "code",
   "execution_count": null,
   "metadata": {
    "collapsed": true
   },
   "outputs": [],
   "source": []
  },
  {
   "cell_type": "code",
   "execution_count": 3,
   "metadata": {},
   "outputs": [],
   "source": [
    "# Cual fue la primer pelicula hecha titulada \"Romeo and Juliet\" ?\n"
   ]
  },
  {
   "cell_type": "code",
   "execution_count": 4,
   "metadata": {},
   "outputs": [],
   "source": [
    "# Listar todas las peliculas que contengan la palabra \"Exorcist\" \n",
    "# ordenadas de la mas vieja a la mas reciente.\n"
   ]
  },
  {
   "cell_type": "code",
   "execution_count": 5,
   "metadata": {},
   "outputs": [],
   "source": [
    "# Cuantas peliculas fueron hechas en el año 1950?\n"
   ]
  },
  {
   "cell_type": "code",
   "execution_count": 6,
   "metadata": {},
   "outputs": [],
   "source": [
    "# Cuantas peliculas fueron hechas en el año 1970?\n"
   ]
  },
  {
   "cell_type": "code",
   "execution_count": 7,
   "metadata": {},
   "outputs": [],
   "source": [
    "# Cuantas peliculas fueron hechas de 1950 a 1959\n"
   ]
  },
  {
   "cell_type": "code",
   "execution_count": null,
   "metadata": {},
   "outputs": [],
   "source": []
  },
  {
   "cell_type": "code",
   "execution_count": 8,
   "metadata": {},
   "outputs": [],
   "source": [
    "# En que años alguna pelicula llamada \"Batman\" se presento\n"
   ]
  },
  {
   "cell_type": "code",
   "execution_count": 9,
   "metadata": {},
   "outputs": [],
   "source": [
    "# Cuantos roles o papeles hubo en la pelicula \"The Godfather\"\n"
   ]
  },
  {
   "cell_type": "code",
   "execution_count": 10,
   "metadata": {},
   "outputs": [],
   "source": [
    "# Cuantos papeles en la pelicula \"The Godfather\" no estan clasificados en algun valor \"n\"\n"
   ]
  },
  {
   "cell_type": "code",
   "execution_count": 11,
   "metadata": {},
   "outputs": [],
   "source": [
    "# Cuantos papeles en la pelicula \"The Godfather\" si estuvieron clasificados con un valor \"n\"\n"
   ]
  },
  {
   "cell_type": "code",
   "execution_count": 12,
   "metadata": {},
   "outputs": [],
   "source": [
    "# Mostrar el elenco completo de la pelicula \"2001: A Space Odyssey\" \n",
    "# ordenado por su clasificasión \"n\", ignorando los papeles que \n",
    "# no se les asigno ningun valor \"n\"\n"
   ]
  },
  {
   "cell_type": "code",
   "execution_count": 13,
   "metadata": {},
   "outputs": [],
   "source": [
    "# Mostrar el elenco completo ordenado por la clasificacion \"n\"\n",
    "# de la pelicula \"Dracula\" de 1958\n"
   ]
  },
  {
   "cell_type": "code",
   "execution_count": 14,
   "metadata": {},
   "outputs": [],
   "source": [
    "# Cuantos papeles fueron listados en la pelicula \"The Wizard of Oz\" de 1939\n"
   ]
  },
  {
   "cell_type": "code",
   "execution_count": 15,
   "metadata": {},
   "outputs": [],
   "source": [
    "# Cuantos papeles de \"Bruce Wayne\" han sido hechos en la historia \n",
    "# de las peliculas\n"
   ]
  },
  {
   "cell_type": "code",
   "execution_count": 16,
   "metadata": {},
   "outputs": [],
   "source": [
    "# Cuanta gente ah hecho el papel de \"Romeo\"\n"
   ]
  },
  {
   "cell_type": "code",
   "execution_count": 17,
   "metadata": {},
   "outputs": [],
   "source": [
    "# Cuantos papeles ah hecho \"Robert De Niro\" en su carrera\n"
   ]
  },
  {
   "cell_type": "code",
   "execution_count": 18,
   "metadata": {},
   "outputs": [],
   "source": [
    "# Listado de papeles de soporte que tuvo el actor \"Charlton Heston\" en\n",
    "# la decada de los 50's, ordenado por año\n",
    "\n"
   ]
  },
  {
   "cell_type": "code",
   "execution_count": 19,
   "metadata": {},
   "outputs": [],
   "source": [
    "# Listado de papeles como protagonista que tuvo el actor \"Charlton Heston\" en\n",
    "# la decada de los 60's, ordenado por año de forma descendente\n",
    "\n"
   ]
  },
  {
   "cell_type": "code",
   "execution_count": 20,
   "metadata": {},
   "outputs": [],
   "source": [
    "# ¿Cuantos papeles para actores hubo en la decada de los 50's?\n"
   ]
  },
  {
   "cell_type": "code",
   "execution_count": 21,
   "metadata": {},
   "outputs": [],
   "source": [
    "# ¿Cuantos papeles para actrices hubo en la decada de los 50's ?\n"
   ]
  },
  {
   "cell_type": "code",
   "execution_count": 22,
   "metadata": {},
   "outputs": [],
   "source": [
    "# ¿Cuantos papeles protagonicos existen desde el principio de\n",
    "# la historia filmatografica hasta 1970 ?\n"
   ]
  },
  {
   "cell_type": "code",
   "execution_count": null,
   "metadata": {
    "collapsed": true
   },
   "outputs": [],
   "source": []
  }
 ],
 "metadata": {
  "kernelspec": {
   "display_name": "Python 3 (ipykernel)",
   "language": "python",
   "name": "python3"
  },
  "language_info": {
   "codemirror_mode": {
    "name": "ipython",
    "version": 3
   },
   "file_extension": ".py",
   "mimetype": "text/x-python",
   "name": "python",
   "nbconvert_exporter": "python",
   "pygments_lexer": "ipython3",
   "version": "3.8.5"
  }
 },
 "nbformat": 4,
 "nbformat_minor": 1
}
